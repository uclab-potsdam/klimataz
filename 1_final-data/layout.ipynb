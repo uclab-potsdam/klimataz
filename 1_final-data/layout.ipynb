{
 "cells": [
  {
   "cell_type": "code",
   "execution_count": 3,
   "metadata": {},
   "outputs": [
    {
     "data": {
      "text/plain": [
       "{'Mo': {'params': [{0: {'combo': [1, True, 1, False],\n",
       "     'components': {'indicator': '_cartype_density_',\n",
       "      'component': 'MoCarDensity',\n",
       "      'annotation': 'Hier sieht man die PKWs pro 1000 Einwohner:innen.',\n",
       "      'showDataFootnote': True}}},\n",
       "   {1: {'combo': [2, False, 1, True]}},\n",
       "   {2: {'combo': [3, True, 2, False]}}]},\n",
       " 'En': {'params': [{0: {'combo': [1, True, 1, False],\n",
       "     'components': {'indicator:': '_primaryconsumption_',\n",
       "      'component': 'EnPrimaryEnergy',\n",
       "      'showDataFootnote': False}}},\n",
       "   {1: {'combo': [2, False, 1, True]}},\n",
       "   {2: {'combo': [3, True, 2, False]}}]},\n",
       " 'Ab': {'params': [{0: {'combo': [1, True, 1, False]}},\n",
       "   {1: {'combo': [2, False, 1, True]}},\n",
       "   {2: {'combo': [3, True, 2, False]}}]},\n",
       " 'La': {'params': [{0: {'combo': [1, True, 1, False]}},\n",
       "   {1: {'combo': [2, False, 1, True]}},\n",
       "   {2: {'combo': [3, True, 2, False]}}]},\n",
       " 'Ge': {'params': [{0: {'combo': [1, True, 1, False]}},\n",
       "   {1: {'combo': [2, False, 1, True]}},\n",
       "   {2: {'combo': [3, True, 2, False]}}]}}"
      ]
     },
     "execution_count": 3,
     "metadata": {},
     "output_type": "execute_result"
    }
   ],
   "source": [
    "import pandas as pd;\n",
    "import json\n",
    "\n",
    "sections = [\"Mo\",\"En\",\"Ab\",\"La\",\"Ge\"]\n",
    "\n",
    "layout_combinations = [\n",
    "  #order, vis/text, indicator, locator map\n",
    "  [1, True, 1, False],\n",
    "  [2, False, 1, True],\n",
    "  [3, True, 2, False]\n",
    "]\n",
    "\n",
    "#['_cartype_density_', '_mid_', '_fueltype_cardensity_', '_animalcount_Anzahl_', '_animalcount_bydensity_', \n",
    "# '_newbuilding_energy_', '_heating_20', '_primaryconsumption_', '_industry_consumption_']\n",
    "\n",
    "#TODO alternative: store at least indicator directly in the combo matrix\n",
    "layout_specifics = {\n",
    "    \"Mo\": {\n",
    "        0: {\n",
    "            \"indicator\":\"_cartype_density_\",\n",
    "            \"component\":\"MoCarDensity\",\n",
    "            \"annotation\":\"Hier sieht man die PKWs pro 1000 Einwohner:innen.\",\n",
    "            \"showDataFootnote\":True\n",
    "        } \n",
    "    },\n",
    "    \"En\":{\n",
    "        0: {\n",
    "            \"indicator:\":\"_primaryconsumption_\",\n",
    "            \"component\":\"EnPrimaryEnergy\",\n",
    "            \"showDataFootnote\":False\n",
    "        }\n",
    "    }\n",
    "}\n",
    "\n",
    "layout_container = {}\n",
    "\n",
    "for sec in sections:\n",
    "    params = []\n",
    "    \n",
    "    for index,layout in enumerate(layout_combinations):\n",
    "\n",
    "        if any(sec in obj for obj in layout_specifics) and layout_specifics[sec].get(index):    \n",
    "                params.append({index:{\n",
    "                    \"combo\":layout,\n",
    "                    \"components\":layout_specifics[sec][index]\n",
    "                }})\n",
    "\n",
    "        else:\n",
    "            params.append({index:{\n",
    "                    \"combo\":layout\n",
    "            }})\n",
    "\n",
    "\n",
    "\n",
    "\n",
    "    layout_container[sec] = {\"params\":params}\n",
    "\n",
    "layout_container\n",
    "\n"
   ]
  },
  {
   "cell_type": "code",
   "execution_count": 4,
   "metadata": {},
   "outputs": [],
   "source": [
    "with open('layout-controls-inprogress.json', 'w', encoding='utf-8') as f:\n",
    "        json.dump(layout_container, f, ensure_ascii=False, indent=4)"
   ]
  }
 ],
 "metadata": {
  "kernelspec": {
   "display_name": "Python 3.9.13 64-bit",
   "language": "python",
   "name": "python3"
  },
  "language_info": {
   "codemirror_mode": {
    "name": "ipython",
    "version": 3
   },
   "file_extension": ".py",
   "mimetype": "text/x-python",
   "name": "python",
   "nbconvert_exporter": "python",
   "pygments_lexer": "ipython3",
   "version": "3.9.13"
  },
  "orig_nbformat": 4,
  "vscode": {
   "interpreter": {
    "hash": "b0fa6594d8f4cbf19f97940f81e996739fb7646882a419484c72d19e05852a7e"
   }
  }
 },
 "nbformat": 4,
 "nbformat_minor": 2
}
