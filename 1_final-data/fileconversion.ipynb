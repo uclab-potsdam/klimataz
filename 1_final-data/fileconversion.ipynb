{
 "cells": [
  {
   "cell_type": "code",
   "execution_count": 2,
   "metadata": {},
   "outputs": [
    {
     "data": {
      "text/plain": [
       "['../mobility/data/final_data_landkreis_mobility_cartype.csv',\n",
       " '../buildings/data/final_data_landkreis_newbuildings_renewables.csv',\n",
       " '../agriculture/data/final_data_landkreis_agriculture_animalcount.csv']"
      ]
     },
     "execution_count": 2,
     "metadata": {},
     "output_type": "execute_result"
    }
   ],
   "source": [
    "import pandas as pd;\n",
    "# PATHS\n",
    "#agriculture (3)\n",
    "agri1 = '../agriculture/data/final_data_bundesland_agriculture_animalcount.csv'\n",
    "agri2 = '../agriculture/data/final_data_landkreis_agriculture_animalcount.csv'\n",
    "\n",
    "#buildings (2)\n",
    "bui1 = '../buildings/data/final_data_landkreis_newbuildings_renewables.csv'\n",
    "\n",
    "#mobility (3)\n",
    "mobi1 = '../mobility/data/final_data_landkreis_mobility_cartype.csv'\n",
    "\n",
    "#waste (3)\n",
    "\n",
    "#energy (3)\n",
    "\n",
    "\n",
    "#combine all paths\n",
    "paths = [mobi1,bui1,agri2]\n",
    "paths"
   ]
  },
  {
   "cell_type": "code",
   "execution_count": 3,
   "metadata": {},
   "outputs": [
    {
     "name": "stdout",
     "output_type": "stream",
     "text": [
      "indicator:  ['mobility_cartype_density_', 'newbuilding_energy_', 'animalcount_Anzahl_']\n"
     ]
    }
   ],
   "source": [
    "import json\n",
    "import numpy as np\n",
    "import os\n",
    "\n",
    "#1. Create pipeline to fetch snippets of data for each location and indicator\n",
    "#2. TODO: Define a hierarchy for indicators\n",
    "#3. Create dynamic labels to differentiate datasets\n",
    "#4. Check if regional data are available for each landkreis to store it as a parameter\n",
    "\n",
    "def getDictionaryWithPrefix(df):\n",
    "    #set index\n",
    "    df.set_index('AGS',inplace=True)\n",
    "\n",
    "    #fill nan with jsonable format\n",
    "    df = df.fillna(np.nan).replace([np.nan], [None])\n",
    "    \n",
    "    #drop name column\n",
    "    df.drop(columns=[\"Name\"],axis=1,inplace=True)\n",
    "\n",
    "    #get dynamic labels to differentiate datasets\n",
    "    #get prefix\n",
    "    columns = df.columns.tolist()\n",
    "    prefix = os.path.commonprefix(columns)\n",
    "    prefix\n",
    "\n",
    "    #TODO: create hiearchy from prefixes\n",
    "\n",
    "    #remove prefix from column names\n",
    "    df.columns = df.columns.str.removeprefix(prefix)\n",
    "\n",
    "    #create dict from dataframe\n",
    "    data_dict = df.T.to_dict('dict')\n",
    "    \n",
    "    return prefix,data_dict \n",
    "\n",
    "\n",
    "def generate_json(paths):\n",
    "\n",
    "    landkreisData = {}\n",
    "\n",
    "    indicators = []\n",
    "    dicts = []\n",
    "\n",
    "    #pipeline to fetch snippets of data for each location and indicator\n",
    "    for path in paths:\n",
    "        #read dataset\n",
    "        df = pd.read_csv(path)\n",
    "\n",
    "        prefix,data_dict = getDictionaryWithPrefix(df)\n",
    "        indicators.append(prefix)\n",
    "        dicts.append(data_dict)\n",
    "\n",
    "    print(\"indicator: \",indicators)\n",
    "\n",
    "    #get ags list\n",
    "    df = pd.read_csv(mobi1)\n",
    "    ags = df.AGS.unique().tolist()\n",
    "    #ags = [2,5] #debugging\n",
    "\n",
    "    for ort in ags:\n",
    "\n",
    "        ort = int(ort)\n",
    "\n",
    "        #create top level for each location\n",
    "        landkreisData[str(ort)] = {\n",
    "            'id':ort,\n",
    "            'score':2}\n",
    "\n",
    "        data = {}\n",
    "        \n",
    "        #iterate over indicators\n",
    "        for i,ind in enumerate(indicators):\n",
    "\n",
    "            if(ort in dicts[i]):\n",
    "                \n",
    "   \n",
    "                local_data = [{\"key\":index ,\"year\":item[0][-4:],\"column\":item[0][:-5],\"value\":item[1]} for index,item in enumerate(dicts[i][ort].items())]\n",
    "        \n",
    "                #create one entry per indicator\n",
    "                #Check if regional data are available for each landkreis to store it as a parameter\n",
    "                data[ind] = {\n",
    "                    'benchmark':200,\n",
    "                    'regional': True if ort > 17 else False,\n",
    "                    'unit': 'cars / 1000 residents',\n",
    "                    'data':local_data\n",
    "                }\n",
    "            \n",
    "            else:\n",
    "                #TODO: add bundesland level to all indicators, so this is only false for landkreise\n",
    "                data[ind] = {\n",
    "                    'regional':False,\n",
    "                }\n",
    "\n",
    "            #add data entry to location level\n",
    "            #landkreisData[str(ort)][ind] = \"added data\"\n",
    "            landkreisData[str(ort)][ind] = data[ind]\n",
    "        \n",
    "\n",
    "    with open('data-inprogress.json', 'w', encoding='utf-8') as f:\n",
    "        json.dump(landkreisData, f, ensure_ascii=False, indent=4)\n",
    "\n",
    "\n",
    "generate_json(paths)"
   ]
  },
  {
   "cell_type": "code",
   "execution_count": null,
   "metadata": {},
   "outputs": [],
   "source": [
    "\n"
   ]
  },
  {
   "cell_type": "code",
   "execution_count": null,
   "metadata": {},
   "outputs": [],
   "source": []
  }
 ],
 "metadata": {
  "kernelspec": {
   "display_name": "Python 3 (ipykernel)",
   "language": "python",
   "name": "python3"
  },
  "language_info": {
   "codemirror_mode": {
    "name": "ipython",
    "version": 3
   },
   "file_extension": ".py",
   "mimetype": "text/x-python",
   "name": "python",
   "nbconvert_exporter": "python",
   "pygments_lexer": "ipython3",
   "version": "3.9.13"
  },
  "vscode": {
   "interpreter": {
    "hash": "b0fa6594d8f4cbf19f97940f81e996739fb7646882a419484c72d19e05852a7e"
   }
  }
 },
 "nbformat": 4,
 "nbformat_minor": 2
}
