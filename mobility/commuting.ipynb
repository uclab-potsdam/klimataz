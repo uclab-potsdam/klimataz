{
 "cells": [
  {
   "cell_type": "code",
   "execution_count": null,
   "metadata": {},
   "outputs": [],
   "source": [
    "import pandas as pd\n",
    "\n",
    "#convert pandas series from German number format (1.000,5) to python number format (1000.5)\n",
    "def make_column_numeric(se):\n",
    "    se = se.str.replace('.','',regex=True)\n",
    "    se = se.str.replace(',','.',regex=True)\n",
    "    se = pd.to_numeric(se)\n",
    "    return se\n",
    "\n",
    "#INKAR data from bbsr\n",
    "#https://www.inkar.de\n",
    "df = pd.read_csv(\"data/inkar_commuting.csv\",delimiter=\";\", header=[0,1])\n",
    "df.columns = df.columns.map('_'.join)\n",
    "\n",
    "#rename unnamed headers\n",
    "df.rename({\"Kennziffer_Unnamed: 0_level_1\": \"Kennziffer\",\"Raumeinheit_Unnamed: 1_level_1\":\"Raumeinheit\",\"Aggregat_Unnamed: 2_level_1\":\"Aggregated\"}, axis=1,inplace=True)\n",
    "\n",
    "\n",
    "years = [\"2016\",\"2017\",\"2018\",\"2019\"]\n",
    "for year in years:\n",
    "    sv = \"sozialversicherungspflichtig Beschäftigte am Wohnort_\" + str(year)\n",
    "    df[sv] = make_column_numeric(df[sv])\n",
    "\n",
    "    \n",
    "    df[\"Einpendler_\" + str(year)] = make_column_numeric(df[\"Einpendler_\" + str(year)])\n",
    "    df[\"Auspendler_\" + str(year)] = make_column_numeric(df[\"Auspendler_\" + str(year)])\n",
    "    df[\"Pendlersaldo_\" + str(year)] = make_column_numeric(df[\"Pendlersaldo_\" + str(year)])\n",
    "\n",
    "    df[\"Pendler mit Arbeitsweg 50 km und mehr_\" + str(year)] = make_column_numeric(df[\"Pendler mit Arbeitsweg 50 km und mehr_\" + str(year)])\n",
    "    df[\"Pendler mit Arbeitsweg 150 km und mehr_\" + str(year)] = make_column_numeric(df[\"Pendler mit Arbeitsweg 150 km und mehr_\" + str(year)])\n",
    "    df[\"Pendler mit Arbeitsweg 300 km und mehr_\" + str(year)] = make_column_numeric(df[\"Pendler mit Arbeitsweg 300 km und mehr_\" + str(year)])\n",
    "\n",
    "    df[\"pendler_50km_gesamt_\" + str(year)] = df[\"Pendler mit Arbeitsweg 50 km und mehr_\" + str(year)] *  df[sv]\n",
    "    df[\"pendler_150km_gesamt_\" + str(year)] = df[\"Pendler mit Arbeitsweg 150 km und mehr_\" + str(year)] *  df[sv]\n",
    "    df[\"pendler_300km_gesamt_\" + str(year)] = df[\"Pendler mit Arbeitsweg 300 km und mehr_\" + str(year)] *  df[sv]\n",
    "\n",
    "df.rename({\"Kennziffer\":\"AGS\"},axis=1,inplace=True)\n",
    "\n",
    "# Load geo coordinates of centroids of kreise (made with qgis)\n",
    "geo = pd.read_csv(\"../general_data/kreise_geocoordinates.csv\")\n",
    "geo = geo.filter(['AGS','xcoord','ycoord','GEN'])\n",
    "\n",
    "#merge on AGS\n",
    "df = df.merge(geo, on=\"AGS\",how=\"inner\")\n",
    "\n",
    "#save\n",
    "df.to_csv(\"data/inkar_commuting_output.csv\")\n",
    "df\n",
    "\n"
   ]
  },
  {
   "cell_type": "code",
   "execution_count": null,
   "metadata": {},
   "outputs": [],
   "source": [
    "hamburg = df.copy()\n",
    "hamburg = hamburg[hamburg[\"AGS\"].isin([2000,3359,3353,1053,1062,1060,1056])]\n",
    "hamburg.to_csv(\"data/communiting_hamburg.csv\")\n",
    "hamburg"
   ]
  },
  {
   "cell_type": "code",
   "execution_count": null,
   "metadata": {},
   "outputs": [],
   "source": []
  }
 ],
 "metadata": {
  "interpreter": {
   "hash": "b0fa6594d8f4cbf19f97940f81e996739fb7646882a419484c72d19e05852a7e"
  },
  "kernelspec": {
   "display_name": "Python 3.9.13 64-bit",
   "language": "python",
   "name": "python3"
  },
  "language_info": {
   "codemirror_mode": {
    "name": "ipython",
    "version": 3
   },
   "file_extension": ".py",
   "mimetype": "text/x-python",
   "name": "python",
   "nbconvert_exporter": "python",
   "pygments_lexer": "ipython3",
   "version": "3.9.13"
  },
  "orig_nbformat": 4
 },
 "nbformat": 4,
 "nbformat_minor": 2
}
