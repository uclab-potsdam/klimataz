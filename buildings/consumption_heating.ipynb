{
 "cells": [
  {
   "cell_type": "code",
   "execution_count": null,
   "metadata": {},
   "outputs": [],
   "source": [
    "import pandas as pd\n",
    "df = pd.read_csv(\"data/entwicklung_heizenergie_bundeslaender.csv\")\n",
    "\n",
    "df = df.transpose()\n",
    "\n",
    "#first row as header\n",
    "new_header = df.iloc[0].astype(int)\n",
    "new_header = 'year_' + new_header.astype(str)\n",
    "df = df[1:]\n",
    "df.columns = new_header\n",
    "\n",
    "df.reset_index(inplace=True)\n",
    "df.rename(columns = {\"index\":\"Bundesland\"},inplace=True)\n",
    "df['Bundesland'].replace(\"Mecklenburg Vorpommern\", 'Mecklenburg-Vorpommern',inplace= True)\n",
    "\n",
    "#df.to_csv(\"data/entwicklung_heizenergie_bundeslaender_output.csv\")\n",
    "\n",
    "melt = pd.melt(df,id_vars=[\"Bundesland\"])\n",
    "melt['Jahr'] = melt[\"Jahr\"].str.replace(\"year_\", '')\n",
    "\n",
    "melt.to_csv(\"data/entwicklung_heizenergie_bundeslaender_melt.csv\")\n",
    "melt\n",
    "df"
   ]
  }
 ],
 "metadata": {
  "kernelspec": {
   "display_name": "Python 3.9.13 64-bit",
   "language": "python",
   "name": "python3"
  },
  "language_info": {
   "codemirror_mode": {
    "name": "ipython",
    "version": 3
   },
   "file_extension": ".py",
   "mimetype": "text/x-python",
   "name": "python",
   "nbconvert_exporter": "python",
   "pygments_lexer": "ipython3",
   "version": "3.9.13"
  },
  "orig_nbformat": 4,
  "vscode": {
   "interpreter": {
    "hash": "b0fa6594d8f4cbf19f97940f81e996739fb7646882a419484c72d19e05852a7e"
   }
  }
 },
 "nbformat": 4,
 "nbformat_minor": 2
}
