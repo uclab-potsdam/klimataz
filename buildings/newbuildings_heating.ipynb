{
 "cells": [
  {
   "cell_type": "code",
   "execution_count": 1,
   "metadata": {},
   "outputs": [],
   "source": [
    "import pandas as pd\n",
    "\n",
    "#INCAR data from bbsr\n",
    "#https://www.inkar.de\n",
    "#Vor allem: Anteil Fertiggestellte Wohnungen / Wohngebäude mit erneuerbarer Heizenergie, 2017-2019\n",
    "\n",
    "#convert pandas series from German number format (1.000,5) to python number format (1000.5)\n",
    "def make_column_numeric(se):\n",
    "    se = se.str.replace('.','',regex=True)\n",
    "    se = se.str.replace(',','.',regex=True)\n",
    "    se = pd.to_numeric(se)\n",
    "    return se\n",
    "\n",
    "#read dataset\n",
    "df = pd.read_csv(\"data/inkar_heating.csv\", delimiter=';', header=[0,1])\n",
    "df.columns = df.columns.map('_'.join)\n",
    "\n",
    "#rename unnamed headers\n",
    "df.rename({\"Kennziffer_Unnamed: 0_level_1\": \"Kennziffer\",\"Raumeinheit_Unnamed: 1_level_1\":\"Raumeinheit\",\"Aggregat_Unnamed: 2_level_1\":\"Aggregated\"}, axis=1,inplace=True)\n",
    "\n",
    "#calculate neubauwohnungen total and neubauwohnungen renewable total\n",
    "years = [\"2018\",\"2019\"]\n",
    "for year in years:\n",
    "    #make columns numerics\n",
    "    neubau_einwohner = \"Neubauwohnungen je Einwohner_\" + str(year)\n",
    "    einwohner = 'Bevölkerung gesamt_' + str(year)\n",
    "    neubauwohnungen_renewable_anteil = \"Fertiggestellte Wohnungen mit erneuerbarer Heizenergie_\" + str(year)\n",
    "    neubauwohngebäude_renewable_anteil = \"Fertiggestellte Wohngebäude mit erneuerbarer Heizenergie_\" + str(year)\n",
    "    \n",
    "    df[neubau_einwohner] = make_column_numeric(df[neubau_einwohner]) \n",
    "    df[einwohner] = make_column_numeric(df[einwohner]) \n",
    "    df[neubauwohnungen_renewable_anteil] = make_column_numeric(df[neubauwohnungen_renewable_anteil]) / 100\n",
    "    df[neubauwohngebäude_renewable_anteil] = make_column_numeric(df[neubauwohngebäude_renewable_anteil]) / 100\n",
    "\n",
    "    #Neubauwohnungen = Neubauwohnungen je Einwohner * Einwohner \n",
    "    neubau = \"neubauwohnungen_\" + str(year)\n",
    "    df[neubau] = df[neubau_einwohner] *  df[einwohner]\n",
    "\n",
    "    #Neubauwohnungen renewable = Neubauwognungen * Anteil Renewalbe\n",
    "    #Wohnungen vs. Wohngebäude: aus Dokumentation: \"Im Gegensatz zum Indikator Fertiggestellte Wohngebäude mit erneuerbarer Heizenergie werden hier \n",
    "    #Errichtungen von Wohnungen in Mehrfamilienhäusern gegenüber Ein- und Zweifamilienhäuser stärker gewichtet.\" Bei Wohngebäuden wäre ein Mehrfamilienhaus\n",
    "    #genausoviel wert wie ein Einfamilienhaus\n",
    "    neubauwohnungen_renewable =  \"neubauwohnungen_erneuerbareheiz_\" + str(year)\n",
    "    df[neubauwohnungen_renewable] = df[neubau] *  df[neubauwohnungen_renewable_anteil]\n",
    "\n",
    "    neubauwohngebäude_renewable =  \"neubauwohngebäude_erneuerbareheiz_\" + str(year)\n",
    "    df[neubauwohngebäude_renewable] = df[neubau] *  df[neubauwohngebäude_renewable_anteil]\n",
    "\n",
    "df.to_csv(\"data/inkar_heating_output.csv\")\n"
   ]
  },
  {
   "cell_type": "code",
   "execution_count": 3,
   "metadata": {},
   "outputs": [],
   "source": [
    "#https://www-genesis.destatis.de/genesis/online#astructure\n",
    "#Baufertigstellungen neuer Gebäude: Deutschland, Jahre, Gebäudeart, Energieverwendung, Energieart\n",
    "#von 2014 - 2021, auf Deutschlandebene\n",
    "\n",
    "import plotly.graph_objects as go\n",
    "import plotly_express as px\n",
    "import numpy as np\n",
    "\n",
    "\n",
    "def preprocess_dataset_germany_by_building_type(df,building_type):\n",
    "\n",
    "    #Nur den Typ des Gebäudes auswählen\n",
    "    df = df.loc[df[\"2_Auspraegung_Label\"] == building_type]\n",
    "\n",
    "    #Nur Zum Heizen verwendete Primärenergie\n",
    "    df = df.loc[df2[\"3_Auspraegung_Code\"] == \"ENR-HZG-PRM-01\"]\n",
    "\n",
    "    df.rename({\"Zeit\": \"year\",\"BAU005__Neue_Gebaeude__Anzahl\":\"buildings\",\"4_Auspraegung_Label\":\"energy\"}, axis=1,inplace=True)\n",
    "\n",
    "    #make building number numeric\n",
    "    df[\"buildings\"] = df[\"buildings\"].replace({'-':'0',\".\":\"0\"})\n",
    "    df[\"buildings\"] = pd.to_numeric(df[\"buildings\"])\n",
    "\n",
    "    return df\n",
    "\n",
    "def plot_heating(viz,asProportion = True,useWohnungen = True):\n",
    "\n",
    "    \"\"\"\n",
    "        Parameters\n",
    "        ----------\n",
    "        viz : df\n",
    "            dataframe slice of your data, for example a specific landkreis\n",
    "        asProportion : bool, optional\n",
    "            if true, the visualisation will use proportion. otherwise, the total number is used. default is true\n",
    "        useWohnungen : bool, optional\n",
    "            if true, flats will be counted. otherwise, buildings will be counted (which maybe have multiple flats in them). default is true\n",
    "    \"\"\"\n",
    "\n",
    "    viz.rename({\"Zeit\": \"year\",\"BAU017__Wohngebaeude_insgesamt__Anzahl\":\"buildings\",\"Heizenergie_Auspraegung_Label\":\"energy\",\n",
    "        \"Wohngebäude_Anteil\":\"buildings_anteil\",\"Wohnungen_Anteil\":\"flats_anteil\",\n",
    "        \"WOHN04__Wohnungen_in_Wohngebaeuden_(ohne_Wohnheime)__Anzahl\":\"flats\"}, axis=1,inplace=True)\n",
    "\n",
    "    # dont add gesamtenergie to plot\n",
    "    viz = viz[viz[\"energy\"] != \"Wohngebäude Insgesamt\"]\n",
    "    viz = viz[viz[\"energy\"] != \"Wohnungen Insgesamt\"]\n",
    "    viz = viz[viz[\"energy\"] != \"Insgesamt\"]\n",
    "    \n",
    "    obj = \"Anzahl\"\n",
    "\n",
    "    if useWohnungen:\n",
    "        column=\"flats\"\n",
    "        name = \"Wohnungen in Wohngebäuden\"\n",
    "\n",
    "        #for wohnungen: do not differ between 1, 2 or 3 or more flats\n",
    "        viz= viz[viz[\"Wohnort_Auspraegung_Label\"] == \"Wohnungen Insgesamt\"]\n",
    "    \n",
    "    else:\n",
    "        column='buildings'\n",
    "        name = \"Wohngebäude\"\n",
    "\n",
    "        viz= viz[viz[\"Wohnort_Auspraegung_Label\"] == \"Wohngebäude Insgesamt\"]\n",
    "    \n",
    "    if asProportion:\n",
    "        column += \"_anteil\"\n",
    "        obj = \"Anteile\"\n",
    "\n",
    "    #pivot data\n",
    "    pivot = pd.pivot_table(viz, index='year',columns='energy', values=column)\n",
    "    pivot = pivot.reset_index(level=0)\n",
    "\n",
    "    pivot[\"ort_ags\"] = str(viz[\"Ort_Auspraegung_Code\"].iloc[0])\n",
    "    pivot[\"ort_name\"]= str(viz[\"Ort_Auspraegung_Label\"].iloc[0])\n",
    "\n",
    "    #add bar per energy\n",
    "    energies = viz[\"energy\"].unique()\n",
    "\n",
    "    print(energies);\n",
    "    data = []\n",
    "    for energy in energies:\n",
    "        data.append(go.Bar(name=energy, x=pivot[\"year\"], y=pivot[energy]))\n",
    "\n",
    "    #plot bar chart\n",
    "    fig = go.Figure(data = data)\n",
    "    fig.update_layout(barmode='stack',title= obj + \" von Energiesystemen in fertiggestellten \" + name +\" in \" + str(viz[\"Ort_Auspraegung_Label\"].iloc[0]))\n",
    "    fig.show()\n",
    "\n",
    "    #plot line chart\n",
    "    fig2 = go.Figure()\n",
    "    colors = px.colors.qualitative.Plotly\n",
    "\n",
    "    for i,energy in enumerate(energies):\n",
    "        fig2.add_traces(go.Scatter(x=pivot['year'], y = pivot[energy], mode = 'lines', line=dict(color=colors[i%10]),name=energy))\n",
    "    \n",
    "    fig2.show()\n",
    "\n",
    "def move_to_third_section(df,title,value):\n",
    "    second_section = \"2_\" + title;\n",
    "    third_section = \"3_\" + title;\n",
    "\n",
    "    if \"Merkmal\" in title:\n",
    "        df[third_section] = np.where((df[second_section] == value), df[second_section],df[third_section])\n",
    "        #df[second_section] = np.where((df[second_section] == value),\"WOHNGEBAUDE GESAMT\",df[third_section])\n",
    "\n",
    "    elif \"Auspraegung\" in title:\n",
    "        merkmal = second_section.replace(\"Auspraegung\",\"Merkmal\")\n",
    "        df[third_section] = np.where((df[merkmal] == value), df[second_section],df[third_section])\n",
    "        #df[second_section] = np.where((df[merkmal] == value),\"WOHNGEBAUDE GESAMT\",df[third_section])\n",
    "\n",
    "    else:\n",
    "        print(\"unknown title: \", title)\n",
    "\n",
    "    return df\n",
    "\n",
    "\n",
    "def preprocess_dataset_kreise(df):\n",
    "\n",
    "    #AGS Germany ist jetzt 0\n",
    "    df[\"1_Auspraegung_Code\"] = df[\"1_Auspraegung_Code\"].replace({\"DG\":\"0\"})    \n",
    "    df[\"1_Auspraegung_Code\"] = pd.to_numeric(df[\"1_Auspraegung_Code\"])\n",
    "\n",
    "    #clean up multi level format of raw data \n",
    "    df[\"2_Auspraegung_Label\"] = df[\"2_Auspraegung_Label\"].replace({\"Insgesamt\":'Wohnungen Insgesamt'})  \n",
    "    #df[\"2_Auspraegung_Label\"] = df[\"2_Auspraegung_Label\"].str.replace('Insgesamt','Wohnungen Insgesamt',regex=True)\n",
    "    df.loc[df[\"2_Auspraegung_Code\"] == \"INSGESAMT\",\"2_Auspraegung_Label\"] = \"Wohngebäude Insgesamt\"\n",
    "\n",
    "    titles = [\"Merkmal_Code\",\"Merkmal_Label\",\"Auspraegung_Code\",\"Auspraegung_Label\"]\n",
    "\n",
    "    for title in titles:\n",
    "        if \"Code\" in title:\n",
    "            df = move_to_third_section(df,title,\"BAUPHE\")\n",
    "        elif \"Label\" in title:\n",
    "            df = move_to_third_section(df,title,\"Primär verwendete Heizenergie\")\n",
    "\n",
    "    for title in reversed(titles):\n",
    "        title = \"2_\" + title\n",
    "        df[title] = np.where((df[\"2_Merkmal_Code\"] == \"BAUPHE\"),\"Wohngebäude Insgesamt\",df[title])\n",
    "\n",
    "    #rename columns\n",
    "    df.columns = df.columns.str.replace(\"1_\", \"Ort_\")\n",
    "    df.columns = df.columns.str.replace(\"2_\", \"Wohnort_\")\n",
    "    df.columns = df.columns.str.replace(\"3_\", \"Heizenergie_\")\n",
    "\n",
    "\n",
    "    #make building counts numeric\n",
    "    building_counts = [\"BAU017__Wohngebaeude_insgesamt__Anzahl\",\"WOHN04__Wohnungen_in_Wohngebaeuden_(ohne_Wohnheime)__Anzahl\",\"BAU018__Nichtwohngebaeude_insgesamt__Anzahl\"]\n",
    "    \n",
    "    for building in building_counts:\n",
    "        df[building] = df[building].str.replace('-','0',regex=True)\n",
    "        df[building].fillna(0,inplace=True)\n",
    "        df[building] = pd.to_numeric(df[building])\n",
    "\n",
    "\n",
    "    #set total number of buildings for each year and place\n",
    "    years = list(range(2016, 2021))\n",
    "    orte = df[\"Ort_Auspraegung_Code\"].unique()\n",
    "\n",
    "    for ort in orte:\n",
    "        for year in years:\n",
    "            isLocation = (df[\"Ort_Auspraegung_Code\"] == ort)\n",
    "            isYear = (df[\"Zeit\"] == year)\n",
    "\n",
    "            gesamt = df.loc[isLocation & isYear & (df[\"Heizenergie_Auspraegung_Code\"] == \"INSGESAMT\")].copy()\n",
    "            \n",
    "            gesamt_wohngebaeude = gesamt.loc[(gesamt[\"Wohnort_Auspraegung_Label\"] == \"Wohngebäude Insgesamt\"),\"BAU017__Wohngebaeude_insgesamt__Anzahl\"]\n",
    "            gesamt_wohnungen = gesamt.loc[(gesamt[\"Wohnort_Auspraegung_Label\"] == \"Wohnungen Insgesamt\"),\"WOHN04__Wohnungen_in_Wohngebaeuden_(ohne_Wohnheime)__Anzahl\"]\n",
    "\n",
    "            if(gesamt_wohngebaeude.size == 1 and gesamt_wohnungen.size == 1):\n",
    "                df.loc[isLocation & isYear,\"Wohngebäude_Gesamt\"] = int(gesamt_wohngebaeude.item())\n",
    "                df.loc[isLocation & isYear,\"Wohnungen_Gesamt\"] = int(gesamt_wohnungen.item())\n",
    "            else:\n",
    "                print(\"error: gesamt is wrong\",gesamt)\n",
    "\n",
    "    #calculate proportions\n",
    "    df[\"Wohngebäude_Anteil\"] = df[\"BAU017__Wohngebaeude_insgesamt__Anzahl\"] / df[\"Wohngebäude_Gesamt\"] * 100\n",
    "    df[\"Wohnungen_Anteil\"] = df[\"WOHN04__Wohnungen_in_Wohngebaeuden_(ohne_Wohnheime)__Anzahl\"] / df[\"Wohnungen_Gesamt\"] * 100\n",
    "\n",
    "\n",
    "    #Drop unneccessary columns to save space\n",
    "    df.drop(['Statistik_Label','Ort_Merkmal_Label'], axis=1, inplace = True)\n",
    "\n",
    "\n",
    "    return df\n",
    "\n",
    "def create_pivot_tables(df_p,asProportion = True,useWohnungen = True):\n",
    "\n",
    "    df = df_p.copy()\n",
    "    \n",
    "    df.rename({\"Zeit\": \"year\",\"BAU017__Wohngebaeude_insgesamt__Anzahl\":\"buildings\",\"Heizenergie_Auspraegung_Label\":\"energy\",\n",
    "        \"Wohngebäude_Anteil\":\"buildings_anteil\",\"Wohnungen_Anteil\":\"flats_anteil\",\n",
    "        \"WOHN04__Wohnungen_in_Wohngebaeuden_(ohne_Wohnheime)__Anzahl\":\"flats\"}, axis=1,inplace=True)\n",
    "\n",
    "    # dont add gesamtenergie to plot\n",
    "    df = df[df[\"energy\"] != \"Wohngebäude Insgesamt\"]\n",
    "    df = df[df[\"energy\"] != \"Wohnungen Insgesamt\"]\n",
    "    df = df[df[\"energy\"] != \"Insgesamt\"]\n",
    "\n",
    "\n",
    "    if useWohnungen:\n",
    "        column=\"flats\"\n",
    "        \n",
    "        #for wohnungen: do not differ between 1, 2 or 3 or more flats\n",
    "        df= df[df[\"Wohnort_Auspraegung_Label\"] == \"Wohnungen Insgesamt\"]\n",
    "    \n",
    "    else:\n",
    "        column='buildings'\n",
    "        df= df[df[\"Wohnort_Auspraegung_Label\"] == \"Wohngebäude Insgesamt\"]\n",
    "    \n",
    "    if asProportion:\n",
    "        column += \"_anteil\"\n",
    "\n",
    "    #pivot data\n",
    "    orte = df[\"Ort_Auspraegung_Code\"].unique()\n",
    "\n",
    "    pivot_total = pd.DataFrame()\n",
    "\n",
    "    for ort in orte:\n",
    "        snippet = df[df[\"Ort_Auspraegung_Code\"] == ort]\n",
    "\n",
    "        temp = pd.pivot_table(snippet, index='year',columns='energy', values=column)\n",
    "        temp = temp.reset_index(level=0)\n",
    "\n",
    "        temp[\"ort_ags\"] = ort\n",
    "        temp[\"ort_name\"]= str(snippet[\"Ort_Auspraegung_Label\"].iloc[0])\n",
    "\n",
    "        pivot_total = pd.concat([pivot_total, temp])\n",
    "\n",
    "    #sum up renewables and fossils\n",
    "    renewables = [\"Solarthermie\",\"Geothermie\",\"Umweltthermie (Luft/Wasser)\",\"Holz\",\"Biogas/Biomethan\",\"Sonstige Biomasse\",\"Keine Energie (einschl. Passivhaus)\"]\n",
    "    fossils = [\"Gas\",\"Strom\",\"Öl\",\"Fernwärme/Fernkälte\",\"Sonstige Heizenergie\"]\n",
    "\n",
    "    pivot_total[\"renewables\"] = pivot_total[renewables].sum(axis=1)\n",
    "    pivot_total[\"fossils\"] = pivot_total[fossils].sum(axis=1)\n",
    "\n",
    "\n",
    "    \n",
    "    pivot_total.to_csv(\"data/newbuildings_pivot_\"+column+\".csv\")\n",
    "    return pivot_total\n"
   ]
  },
  {
   "cell_type": "code",
   "execution_count": 4,
   "metadata": {},
   "outputs": [
    {
     "name": "stderr",
     "output_type": "stream",
     "text": [
      "/var/folders/6w/mz49x3ds0b18vg8p9jx7wg0r0000gn/T/ipykernel_3234/2825758408.py:5: DtypeWarning: Columns (7) have mixed types. Specify dtype option on import or set low_memory=False.\n",
      "  df_kreise_org = pd.read_csv(\"data/newbuildings_kreise.csv\",delimiter=\";\", encoding='latin1')\n"
     ]
    },
    {
     "data": {
      "text/html": [
       "<div>\n",
       "<style scoped>\n",
       "    .dataframe tbody tr th:only-of-type {\n",
       "        vertical-align: middle;\n",
       "    }\n",
       "\n",
       "    .dataframe tbody tr th {\n",
       "        vertical-align: top;\n",
       "    }\n",
       "\n",
       "    .dataframe thead th {\n",
       "        text-align: right;\n",
       "    }\n",
       "</style>\n",
       "<table border=\"1\" class=\"dataframe\">\n",
       "  <thead>\n",
       "    <tr style=\"text-align: right;\">\n",
       "      <th></th>\n",
       "      <th>Statistik_Code</th>\n",
       "      <th>Zeit_Code</th>\n",
       "      <th>Zeit_Label</th>\n",
       "      <th>Zeit</th>\n",
       "      <th>Ort_Merkmal_Code</th>\n",
       "      <th>Ort_Auspraegung_Code</th>\n",
       "      <th>Ort_Auspraegung_Label</th>\n",
       "      <th>Wohnort_Merkmal_Code</th>\n",
       "      <th>Wohnort_Merkmal_Label</th>\n",
       "      <th>Wohnort_Auspraegung_Code</th>\n",
       "      <th>...</th>\n",
       "      <th>Heizenergie_Merkmal_Label</th>\n",
       "      <th>Heizenergie_Auspraegung_Code</th>\n",
       "      <th>Heizenergie_Auspraegung_Label</th>\n",
       "      <th>BAU017__Wohngebaeude_insgesamt__Anzahl</th>\n",
       "      <th>WOHN04__Wohnungen_in_Wohngebaeuden_(ohne_Wohnheime)__Anzahl</th>\n",
       "      <th>BAU018__Nichtwohngebaeude_insgesamt__Anzahl</th>\n",
       "      <th>Wohngebäude_Gesamt</th>\n",
       "      <th>Wohnungen_Gesamt</th>\n",
       "      <th>Wohngebäude_Anteil</th>\n",
       "      <th>Wohnungen_Anteil</th>\n",
       "    </tr>\n",
       "  </thead>\n",
       "  <tbody>\n",
       "    <tr>\n",
       "      <th>0</th>\n",
       "      <td>31121</td>\n",
       "      <td>JAHR</td>\n",
       "      <td>Jahr</td>\n",
       "      <td>2020</td>\n",
       "      <td>KREISE</td>\n",
       "      <td>0</td>\n",
       "      <td>Deutschland</td>\n",
       "      <td>Wohngebäude Insgesamt</td>\n",
       "      <td>Wohngebäude Insgesamt</td>\n",
       "      <td>Wohngebäude Insgesamt</td>\n",
       "      <td>...</td>\n",
       "      <td>Primär verwendete Heizenergie</td>\n",
       "      <td>BAUPHE00</td>\n",
       "      <td>Keine Energie (einschl. Passivhaus)</td>\n",
       "      <td>111</td>\n",
       "      <td>0</td>\n",
       "      <td>12960</td>\n",
       "      <td>112935.0</td>\n",
       "      <td>261124.0</td>\n",
       "      <td>0.098287</td>\n",
       "      <td>0.000000</td>\n",
       "    </tr>\n",
       "    <tr>\n",
       "      <th>1</th>\n",
       "      <td>31121</td>\n",
       "      <td>JAHR</td>\n",
       "      <td>Jahr</td>\n",
       "      <td>2020</td>\n",
       "      <td>KREISE</td>\n",
       "      <td>0</td>\n",
       "      <td>Deutschland</td>\n",
       "      <td>Wohngebäude Insgesamt</td>\n",
       "      <td>Wohngebäude Insgesamt</td>\n",
       "      <td>Wohngebäude Insgesamt</td>\n",
       "      <td>...</td>\n",
       "      <td>Primär verwendete Heizenergie</td>\n",
       "      <td>BAUPHE02</td>\n",
       "      <td>Öl</td>\n",
       "      <td>776</td>\n",
       "      <td>0</td>\n",
       "      <td>272</td>\n",
       "      <td>112935.0</td>\n",
       "      <td>261124.0</td>\n",
       "      <td>0.687121</td>\n",
       "      <td>0.000000</td>\n",
       "    </tr>\n",
       "    <tr>\n",
       "      <th>2</th>\n",
       "      <td>31121</td>\n",
       "      <td>JAHR</td>\n",
       "      <td>Jahr</td>\n",
       "      <td>2020</td>\n",
       "      <td>KREISE</td>\n",
       "      <td>0</td>\n",
       "      <td>Deutschland</td>\n",
       "      <td>Wohngebäude Insgesamt</td>\n",
       "      <td>Wohngebäude Insgesamt</td>\n",
       "      <td>Wohngebäude Insgesamt</td>\n",
       "      <td>...</td>\n",
       "      <td>Primär verwendete Heizenergie</td>\n",
       "      <td>BAUPHE03</td>\n",
       "      <td>Gas</td>\n",
       "      <td>44037</td>\n",
       "      <td>0</td>\n",
       "      <td>5014</td>\n",
       "      <td>112935.0</td>\n",
       "      <td>261124.0</td>\n",
       "      <td>38.993226</td>\n",
       "      <td>0.000000</td>\n",
       "    </tr>\n",
       "    <tr>\n",
       "      <th>3</th>\n",
       "      <td>31121</td>\n",
       "      <td>JAHR</td>\n",
       "      <td>Jahr</td>\n",
       "      <td>2020</td>\n",
       "      <td>KREISE</td>\n",
       "      <td>0</td>\n",
       "      <td>Deutschland</td>\n",
       "      <td>Wohngebäude Insgesamt</td>\n",
       "      <td>Wohngebäude Insgesamt</td>\n",
       "      <td>Wohngebäude Insgesamt</td>\n",
       "      <td>...</td>\n",
       "      <td>Primär verwendete Heizenergie</td>\n",
       "      <td>BAUPHE04</td>\n",
       "      <td>Strom</td>\n",
       "      <td>1606</td>\n",
       "      <td>0</td>\n",
       "      <td>780</td>\n",
       "      <td>112935.0</td>\n",
       "      <td>261124.0</td>\n",
       "      <td>1.422057</td>\n",
       "      <td>0.000000</td>\n",
       "    </tr>\n",
       "    <tr>\n",
       "      <th>4</th>\n",
       "      <td>31121</td>\n",
       "      <td>JAHR</td>\n",
       "      <td>Jahr</td>\n",
       "      <td>2020</td>\n",
       "      <td>KREISE</td>\n",
       "      <td>0</td>\n",
       "      <td>Deutschland</td>\n",
       "      <td>Wohngebäude Insgesamt</td>\n",
       "      <td>Wohngebäude Insgesamt</td>\n",
       "      <td>Wohngebäude Insgesamt</td>\n",
       "      <td>...</td>\n",
       "      <td>Primär verwendete Heizenergie</td>\n",
       "      <td>BAUPHE05</td>\n",
       "      <td>Fernwärme/Fernkälte</td>\n",
       "      <td>9053</td>\n",
       "      <td>0</td>\n",
       "      <td>1648</td>\n",
       "      <td>112935.0</td>\n",
       "      <td>261124.0</td>\n",
       "      <td>8.016115</td>\n",
       "      <td>0.000000</td>\n",
       "    </tr>\n",
       "    <tr>\n",
       "      <th>...</th>\n",
       "      <td>...</td>\n",
       "      <td>...</td>\n",
       "      <td>...</td>\n",
       "      <td>...</td>\n",
       "      <td>...</td>\n",
       "      <td>...</td>\n",
       "      <td>...</td>\n",
       "      <td>...</td>\n",
       "      <td>...</td>\n",
       "      <td>...</td>\n",
       "      <td>...</td>\n",
       "      <td>...</td>\n",
       "      <td>...</td>\n",
       "      <td>...</td>\n",
       "      <td>...</td>\n",
       "      <td>...</td>\n",
       "      <td>...</td>\n",
       "      <td>...</td>\n",
       "      <td>...</td>\n",
       "      <td>...</td>\n",
       "      <td>...</td>\n",
       "    </tr>\n",
       "    <tr>\n",
       "      <th>174845</th>\n",
       "      <td>31121</td>\n",
       "      <td>JAHR</td>\n",
       "      <td>Jahr</td>\n",
       "      <td>2016</td>\n",
       "      <td>KREISE</td>\n",
       "      <td>16077</td>\n",
       "      <td>Altenburger Land, Kreis</td>\n",
       "      <td>GEBWH1</td>\n",
       "      <td>Gebäude nach Anzahl der Wohnungen</td>\n",
       "      <td>WHGZHL03UM</td>\n",
       "      <td>...</td>\n",
       "      <td>Primär verwendete Heizenergie</td>\n",
       "      <td>BAUPHE09</td>\n",
       "      <td>Holz</td>\n",
       "      <td>0</td>\n",
       "      <td>0</td>\n",
       "      <td>0</td>\n",
       "      <td>58.0</td>\n",
       "      <td>101.0</td>\n",
       "      <td>0.000000</td>\n",
       "      <td>0.000000</td>\n",
       "    </tr>\n",
       "    <tr>\n",
       "      <th>174846</th>\n",
       "      <td>31121</td>\n",
       "      <td>JAHR</td>\n",
       "      <td>Jahr</td>\n",
       "      <td>2016</td>\n",
       "      <td>KREISE</td>\n",
       "      <td>16077</td>\n",
       "      <td>Altenburger Land, Kreis</td>\n",
       "      <td>GEBWH1</td>\n",
       "      <td>Gebäude nach Anzahl der Wohnungen</td>\n",
       "      <td>WHGZHL03UM</td>\n",
       "      <td>...</td>\n",
       "      <td>Primär verwendete Heizenergie</td>\n",
       "      <td>BAUPHE10</td>\n",
       "      <td>Biogas/Biomethan</td>\n",
       "      <td>0</td>\n",
       "      <td>0</td>\n",
       "      <td>0</td>\n",
       "      <td>58.0</td>\n",
       "      <td>101.0</td>\n",
       "      <td>0.000000</td>\n",
       "      <td>0.000000</td>\n",
       "    </tr>\n",
       "    <tr>\n",
       "      <th>174847</th>\n",
       "      <td>31121</td>\n",
       "      <td>JAHR</td>\n",
       "      <td>Jahr</td>\n",
       "      <td>2016</td>\n",
       "      <td>KREISE</td>\n",
       "      <td>16077</td>\n",
       "      <td>Altenburger Land, Kreis</td>\n",
       "      <td>GEBWH1</td>\n",
       "      <td>Gebäude nach Anzahl der Wohnungen</td>\n",
       "      <td>WHGZHL03UM</td>\n",
       "      <td>...</td>\n",
       "      <td>Primär verwendete Heizenergie</td>\n",
       "      <td>BAUPHE11</td>\n",
       "      <td>Sonstige Biomasse</td>\n",
       "      <td>0</td>\n",
       "      <td>0</td>\n",
       "      <td>0</td>\n",
       "      <td>58.0</td>\n",
       "      <td>101.0</td>\n",
       "      <td>0.000000</td>\n",
       "      <td>0.000000</td>\n",
       "    </tr>\n",
       "    <tr>\n",
       "      <th>174848</th>\n",
       "      <td>31121</td>\n",
       "      <td>JAHR</td>\n",
       "      <td>Jahr</td>\n",
       "      <td>2016</td>\n",
       "      <td>KREISE</td>\n",
       "      <td>16077</td>\n",
       "      <td>Altenburger Land, Kreis</td>\n",
       "      <td>GEBWH1</td>\n",
       "      <td>Gebäude nach Anzahl der Wohnungen</td>\n",
       "      <td>WHGZHL03UM</td>\n",
       "      <td>...</td>\n",
       "      <td>Primär verwendete Heizenergie</td>\n",
       "      <td>BAUPHE12</td>\n",
       "      <td>Sonstige Heizenergie</td>\n",
       "      <td>0</td>\n",
       "      <td>0</td>\n",
       "      <td>0</td>\n",
       "      <td>58.0</td>\n",
       "      <td>101.0</td>\n",
       "      <td>0.000000</td>\n",
       "      <td>0.000000</td>\n",
       "    </tr>\n",
       "    <tr>\n",
       "      <th>174849</th>\n",
       "      <td>31121</td>\n",
       "      <td>JAHR</td>\n",
       "      <td>Jahr</td>\n",
       "      <td>2016</td>\n",
       "      <td>KREISE</td>\n",
       "      <td>16077</td>\n",
       "      <td>Altenburger Land, Kreis</td>\n",
       "      <td>GEBWH1</td>\n",
       "      <td>Gebäude nach Anzahl der Wohnungen</td>\n",
       "      <td>WHGZHL03UM</td>\n",
       "      <td>...</td>\n",
       "      <td>Primär verwendete Heizenergie</td>\n",
       "      <td>INSGESAMT</td>\n",
       "      <td>Insgesamt</td>\n",
       "      <td>0</td>\n",
       "      <td>48</td>\n",
       "      <td>0</td>\n",
       "      <td>58.0</td>\n",
       "      <td>101.0</td>\n",
       "      <td>0.000000</td>\n",
       "      <td>47.524752</td>\n",
       "    </tr>\n",
       "  </tbody>\n",
       "</table>\n",
       "<p>174850 rows × 22 columns</p>\n",
       "</div>"
      ],
      "text/plain": [
       "        Statistik_Code Zeit_Code Zeit_Label  Zeit Ort_Merkmal_Code  \\\n",
       "0                31121      JAHR       Jahr  2020           KREISE   \n",
       "1                31121      JAHR       Jahr  2020           KREISE   \n",
       "2                31121      JAHR       Jahr  2020           KREISE   \n",
       "3                31121      JAHR       Jahr  2020           KREISE   \n",
       "4                31121      JAHR       Jahr  2020           KREISE   \n",
       "...                ...       ...        ...   ...              ...   \n",
       "174845           31121      JAHR       Jahr  2016           KREISE   \n",
       "174846           31121      JAHR       Jahr  2016           KREISE   \n",
       "174847           31121      JAHR       Jahr  2016           KREISE   \n",
       "174848           31121      JAHR       Jahr  2016           KREISE   \n",
       "174849           31121      JAHR       Jahr  2016           KREISE   \n",
       "\n",
       "        Ort_Auspraegung_Code          Ort_Auspraegung_Label  \\\n",
       "0                          0                    Deutschland   \n",
       "1                          0                    Deutschland   \n",
       "2                          0                    Deutschland   \n",
       "3                          0                    Deutschland   \n",
       "4                          0                    Deutschland   \n",
       "...                      ...                            ...   \n",
       "174845                 16077        Altenburger Land, Kreis   \n",
       "174846                 16077        Altenburger Land, Kreis   \n",
       "174847                 16077        Altenburger Land, Kreis   \n",
       "174848                 16077        Altenburger Land, Kreis   \n",
       "174849                 16077        Altenburger Land, Kreis   \n",
       "\n",
       "         Wohnort_Merkmal_Code              Wohnort_Merkmal_Label  \\\n",
       "0       Wohngebäude Insgesamt              Wohngebäude Insgesamt   \n",
       "1       Wohngebäude Insgesamt              Wohngebäude Insgesamt   \n",
       "2       Wohngebäude Insgesamt              Wohngebäude Insgesamt   \n",
       "3       Wohngebäude Insgesamt              Wohngebäude Insgesamt   \n",
       "4       Wohngebäude Insgesamt              Wohngebäude Insgesamt   \n",
       "...                       ...                                ...   \n",
       "174845                 GEBWH1  Gebäude nach Anzahl der Wohnungen   \n",
       "174846                 GEBWH1  Gebäude nach Anzahl der Wohnungen   \n",
       "174847                 GEBWH1  Gebäude nach Anzahl der Wohnungen   \n",
       "174848                 GEBWH1  Gebäude nach Anzahl der Wohnungen   \n",
       "174849                 GEBWH1  Gebäude nach Anzahl der Wohnungen   \n",
       "\n",
       "       Wohnort_Auspraegung_Code  ...      Heizenergie_Merkmal_Label  \\\n",
       "0         Wohngebäude Insgesamt  ...  Primär verwendete Heizenergie   \n",
       "1         Wohngebäude Insgesamt  ...  Primär verwendete Heizenergie   \n",
       "2         Wohngebäude Insgesamt  ...  Primär verwendete Heizenergie   \n",
       "3         Wohngebäude Insgesamt  ...  Primär verwendete Heizenergie   \n",
       "4         Wohngebäude Insgesamt  ...  Primär verwendete Heizenergie   \n",
       "...                         ...  ...                            ...   \n",
       "174845               WHGZHL03UM  ...  Primär verwendete Heizenergie   \n",
       "174846               WHGZHL03UM  ...  Primär verwendete Heizenergie   \n",
       "174847               WHGZHL03UM  ...  Primär verwendete Heizenergie   \n",
       "174848               WHGZHL03UM  ...  Primär verwendete Heizenergie   \n",
       "174849               WHGZHL03UM  ...  Primär verwendete Heizenergie   \n",
       "\n",
       "       Heizenergie_Auspraegung_Code        Heizenergie_Auspraegung_Label  \\\n",
       "0                          BAUPHE00  Keine Energie (einschl. Passivhaus)   \n",
       "1                          BAUPHE02                                   Öl   \n",
       "2                          BAUPHE03                                  Gas   \n",
       "3                          BAUPHE04                                Strom   \n",
       "4                          BAUPHE05                  Fernwärme/Fernkälte   \n",
       "...                             ...                                  ...   \n",
       "174845                     BAUPHE09                                 Holz   \n",
       "174846                     BAUPHE10                     Biogas/Biomethan   \n",
       "174847                     BAUPHE11                    Sonstige Biomasse   \n",
       "174848                     BAUPHE12                 Sonstige Heizenergie   \n",
       "174849                    INSGESAMT                            Insgesamt   \n",
       "\n",
       "       BAU017__Wohngebaeude_insgesamt__Anzahl  \\\n",
       "0                                         111   \n",
       "1                                         776   \n",
       "2                                       44037   \n",
       "3                                        1606   \n",
       "4                                        9053   \n",
       "...                                       ...   \n",
       "174845                                      0   \n",
       "174846                                      0   \n",
       "174847                                      0   \n",
       "174848                                      0   \n",
       "174849                                      0   \n",
       "\n",
       "       WOHN04__Wohnungen_in_Wohngebaeuden_(ohne_Wohnheime)__Anzahl  \\\n",
       "0                                                       0            \n",
       "1                                                       0            \n",
       "2                                                       0            \n",
       "3                                                       0            \n",
       "4                                                       0            \n",
       "...                                                   ...            \n",
       "174845                                                  0            \n",
       "174846                                                  0            \n",
       "174847                                                  0            \n",
       "174848                                                  0            \n",
       "174849                                                 48            \n",
       "\n",
       "        BAU018__Nichtwohngebaeude_insgesamt__Anzahl  Wohngebäude_Gesamt  \\\n",
       "0                                             12960            112935.0   \n",
       "1                                               272            112935.0   \n",
       "2                                              5014            112935.0   \n",
       "3                                               780            112935.0   \n",
       "4                                              1648            112935.0   \n",
       "...                                             ...                 ...   \n",
       "174845                                            0                58.0   \n",
       "174846                                            0                58.0   \n",
       "174847                                            0                58.0   \n",
       "174848                                            0                58.0   \n",
       "174849                                            0                58.0   \n",
       "\n",
       "        Wohnungen_Gesamt  Wohngebäude_Anteil  Wohnungen_Anteil  \n",
       "0               261124.0            0.098287          0.000000  \n",
       "1               261124.0            0.687121          0.000000  \n",
       "2               261124.0           38.993226          0.000000  \n",
       "3               261124.0            1.422057          0.000000  \n",
       "4               261124.0            8.016115          0.000000  \n",
       "...                  ...                 ...               ...  \n",
       "174845             101.0            0.000000          0.000000  \n",
       "174846             101.0            0.000000          0.000000  \n",
       "174847             101.0            0.000000          0.000000  \n",
       "174848             101.0            0.000000          0.000000  \n",
       "174849             101.0            0.000000         47.524752  \n",
       "\n",
       "[174850 rows x 22 columns]"
      ]
     },
     "execution_count": 4,
     "metadata": {},
     "output_type": "execute_result"
    }
   ],
   "source": [
    "#https://www.regionalstatistik.de/genesis/online?operation=previous&levelindex=3&step=2&titel=Tabellenaufbau&levelid=1655207886087&levelid=1655207857464#abreadcrumb\n",
    "#Fertigstellungen neuer Wohngebäude und Nichtwohngebäude sowie Wohnungen in Wohngebäuden nach Zahl der Wohnungen und vorwiegender Art der Beheizung - Jahressumme\n",
    "# no need to run this\n",
    "\n",
    "df_kreise_org = pd.read_csv(\"data/newbuildings_kreise.csv\",delimiter=\";\", encoding='latin1')\n",
    "df_kreise = df_kreise_org.copy()\n",
    "\n",
    "\n",
    "df_kreise = preprocess_dataset_kreise(df_kreise)\n",
    "df_kreise.to_csv(\"data/newbuildings_kreise_output.csv\")\n",
    "df_kreise\n"
   ]
  },
  {
   "cell_type": "code",
   "execution_count": 5,
   "metadata": {},
   "outputs": [
    {
     "data": {
      "text/html": [
       "<div>\n",
       "<style scoped>\n",
       "    .dataframe tbody tr th:only-of-type {\n",
       "        vertical-align: middle;\n",
       "    }\n",
       "\n",
       "    .dataframe tbody tr th {\n",
       "        vertical-align: top;\n",
       "    }\n",
       "\n",
       "    .dataframe thead th {\n",
       "        text-align: right;\n",
       "    }\n",
       "</style>\n",
       "<table border=\"1\" class=\"dataframe\">\n",
       "  <thead>\n",
       "    <tr style=\"text-align: right;\">\n",
       "      <th>energy</th>\n",
       "      <th>year</th>\n",
       "      <th>Biogas/Biomethan</th>\n",
       "      <th>Fernwärme/Fernkälte</th>\n",
       "      <th>Gas</th>\n",
       "      <th>Geothermie</th>\n",
       "      <th>Holz</th>\n",
       "      <th>Keine Energie (einschl. Passivhaus)</th>\n",
       "      <th>Solarthermie</th>\n",
       "      <th>Sonstige Biomasse</th>\n",
       "      <th>Sonstige Heizenergie</th>\n",
       "      <th>Strom</th>\n",
       "      <th>Umweltthermie (Luft/Wasser)</th>\n",
       "      <th>Öl</th>\n",
       "      <th>ort_ags</th>\n",
       "      <th>ort_name</th>\n",
       "      <th>renewables</th>\n",
       "      <th>fossils</th>\n",
       "    </tr>\n",
       "  </thead>\n",
       "  <tbody>\n",
       "    <tr>\n",
       "      <th>0</th>\n",
       "      <td>2016</td>\n",
       "      <td>919</td>\n",
       "      <td>42350</td>\n",
       "      <td>110439</td>\n",
       "      <td>12661</td>\n",
       "      <td>11690</td>\n",
       "      <td>123</td>\n",
       "      <td>1094</td>\n",
       "      <td>1135</td>\n",
       "      <td>911</td>\n",
       "      <td>1310</td>\n",
       "      <td>37200</td>\n",
       "      <td>1619</td>\n",
       "      <td>0</td>\n",
       "      <td>Deutschland</td>\n",
       "      <td>64822</td>\n",
       "      <td>156629</td>\n",
       "    </tr>\n",
       "    <tr>\n",
       "      <th>1</th>\n",
       "      <td>2017</td>\n",
       "      <td>1025</td>\n",
       "      <td>43993</td>\n",
       "      <td>105864</td>\n",
       "      <td>12543</td>\n",
       "      <td>13210</td>\n",
       "      <td>133</td>\n",
       "      <td>1127</td>\n",
       "      <td>1152</td>\n",
       "      <td>821</td>\n",
       "      <td>1243</td>\n",
       "      <td>46018</td>\n",
       "      <td>1660</td>\n",
       "      <td>0</td>\n",
       "      <td>Deutschland</td>\n",
       "      <td>75208</td>\n",
       "      <td>153581</td>\n",
       "    </tr>\n",
       "    <tr>\n",
       "      <th>2</th>\n",
       "      <td>2018</td>\n",
       "      <td>693</td>\n",
       "      <td>50748</td>\n",
       "      <td>98898</td>\n",
       "      <td>13934</td>\n",
       "      <td>14300</td>\n",
       "      <td>192</td>\n",
       "      <td>1488</td>\n",
       "      <td>829</td>\n",
       "      <td>1686</td>\n",
       "      <td>1569</td>\n",
       "      <td>52501</td>\n",
       "      <td>1479</td>\n",
       "      <td>0</td>\n",
       "      <td>Deutschland</td>\n",
       "      <td>83937</td>\n",
       "      <td>154380</td>\n",
       "    </tr>\n",
       "    <tr>\n",
       "      <th>3</th>\n",
       "      <td>2019</td>\n",
       "      <td>963</td>\n",
       "      <td>55745</td>\n",
       "      <td>98586</td>\n",
       "      <td>14778</td>\n",
       "      <td>12562</td>\n",
       "      <td>174</td>\n",
       "      <td>1157</td>\n",
       "      <td>857</td>\n",
       "      <td>1352</td>\n",
       "      <td>1841</td>\n",
       "      <td>56646</td>\n",
       "      <td>1502</td>\n",
       "      <td>0</td>\n",
       "      <td>Deutschland</td>\n",
       "      <td>87137</td>\n",
       "      <td>159026</td>\n",
       "    </tr>\n",
       "    <tr>\n",
       "      <th>4</th>\n",
       "      <td>2020</td>\n",
       "      <td>1104</td>\n",
       "      <td>60312</td>\n",
       "      <td>98726</td>\n",
       "      <td>15368</td>\n",
       "      <td>12026</td>\n",
       "      <td>129</td>\n",
       "      <td>1077</td>\n",
       "      <td>1084</td>\n",
       "      <td>1041</td>\n",
       "      <td>2424</td>\n",
       "      <td>66481</td>\n",
       "      <td>1352</td>\n",
       "      <td>0</td>\n",
       "      <td>Deutschland</td>\n",
       "      <td>97269</td>\n",
       "      <td>163855</td>\n",
       "    </tr>\n",
       "    <tr>\n",
       "      <th>...</th>\n",
       "      <td>...</td>\n",
       "      <td>...</td>\n",
       "      <td>...</td>\n",
       "      <td>...</td>\n",
       "      <td>...</td>\n",
       "      <td>...</td>\n",
       "      <td>...</td>\n",
       "      <td>...</td>\n",
       "      <td>...</td>\n",
       "      <td>...</td>\n",
       "      <td>...</td>\n",
       "      <td>...</td>\n",
       "      <td>...</td>\n",
       "      <td>...</td>\n",
       "      <td>...</td>\n",
       "      <td>...</td>\n",
       "      <td>...</td>\n",
       "    </tr>\n",
       "    <tr>\n",
       "      <th>0</th>\n",
       "      <td>2016</td>\n",
       "      <td>0</td>\n",
       "      <td>3</td>\n",
       "      <td>77</td>\n",
       "      <td>6</td>\n",
       "      <td>0</td>\n",
       "      <td>0</td>\n",
       "      <td>1</td>\n",
       "      <td>1</td>\n",
       "      <td>0</td>\n",
       "      <td>0</td>\n",
       "      <td>13</td>\n",
       "      <td>0</td>\n",
       "      <td>16077</td>\n",
       "      <td>Altenburger Land, Kreis</td>\n",
       "      <td>21</td>\n",
       "      <td>80</td>\n",
       "    </tr>\n",
       "    <tr>\n",
       "      <th>1</th>\n",
       "      <td>2017</td>\n",
       "      <td>0</td>\n",
       "      <td>3</td>\n",
       "      <td>31</td>\n",
       "      <td>6</td>\n",
       "      <td>4</td>\n",
       "      <td>0</td>\n",
       "      <td>2</td>\n",
       "      <td>1</td>\n",
       "      <td>0</td>\n",
       "      <td>0</td>\n",
       "      <td>21</td>\n",
       "      <td>0</td>\n",
       "      <td>16077</td>\n",
       "      <td>Altenburger Land, Kreis</td>\n",
       "      <td>34</td>\n",
       "      <td>34</td>\n",
       "    </tr>\n",
       "    <tr>\n",
       "      <th>2</th>\n",
       "      <td>2018</td>\n",
       "      <td>0</td>\n",
       "      <td>5</td>\n",
       "      <td>26</td>\n",
       "      <td>9</td>\n",
       "      <td>2</td>\n",
       "      <td>0</td>\n",
       "      <td>0</td>\n",
       "      <td>0</td>\n",
       "      <td>0</td>\n",
       "      <td>6</td>\n",
       "      <td>24</td>\n",
       "      <td>0</td>\n",
       "      <td>16077</td>\n",
       "      <td>Altenburger Land, Kreis</td>\n",
       "      <td>35</td>\n",
       "      <td>37</td>\n",
       "    </tr>\n",
       "    <tr>\n",
       "      <th>3</th>\n",
       "      <td>2019</td>\n",
       "      <td>0</td>\n",
       "      <td>110</td>\n",
       "      <td>24</td>\n",
       "      <td>3</td>\n",
       "      <td>1</td>\n",
       "      <td>0</td>\n",
       "      <td>1</td>\n",
       "      <td>0</td>\n",
       "      <td>0</td>\n",
       "      <td>1</td>\n",
       "      <td>17</td>\n",
       "      <td>1</td>\n",
       "      <td>16077</td>\n",
       "      <td>Altenburger Land, Kreis</td>\n",
       "      <td>22</td>\n",
       "      <td>136</td>\n",
       "    </tr>\n",
       "    <tr>\n",
       "      <th>4</th>\n",
       "      <td>2020</td>\n",
       "      <td>0</td>\n",
       "      <td>0</td>\n",
       "      <td>101</td>\n",
       "      <td>9</td>\n",
       "      <td>1</td>\n",
       "      <td>0</td>\n",
       "      <td>0</td>\n",
       "      <td>0</td>\n",
       "      <td>0</td>\n",
       "      <td>1</td>\n",
       "      <td>24</td>\n",
       "      <td>1</td>\n",
       "      <td>16077</td>\n",
       "      <td>Altenburger Land, Kreis</td>\n",
       "      <td>34</td>\n",
       "      <td>103</td>\n",
       "    </tr>\n",
       "  </tbody>\n",
       "</table>\n",
       "<p>2690 rows × 17 columns</p>\n",
       "</div>"
      ],
      "text/plain": [
       "energy  year  Biogas/Biomethan  Fernwärme/Fernkälte     Gas  Geothermie  \\\n",
       "0       2016               919                42350  110439       12661   \n",
       "1       2017              1025                43993  105864       12543   \n",
       "2       2018               693                50748   98898       13934   \n",
       "3       2019               963                55745   98586       14778   \n",
       "4       2020              1104                60312   98726       15368   \n",
       "..       ...               ...                  ...     ...         ...   \n",
       "0       2016                 0                    3      77           6   \n",
       "1       2017                 0                    3      31           6   \n",
       "2       2018                 0                    5      26           9   \n",
       "3       2019                 0                  110      24           3   \n",
       "4       2020                 0                    0     101           9   \n",
       "\n",
       "energy   Holz  Keine Energie (einschl. Passivhaus)  Solarthermie  \\\n",
       "0       11690                                  123          1094   \n",
       "1       13210                                  133          1127   \n",
       "2       14300                                  192          1488   \n",
       "3       12562                                  174          1157   \n",
       "4       12026                                  129          1077   \n",
       "..        ...                                  ...           ...   \n",
       "0           0                                    0             1   \n",
       "1           4                                    0             2   \n",
       "2           2                                    0             0   \n",
       "3           1                                    0             1   \n",
       "4           1                                    0             0   \n",
       "\n",
       "energy  Sonstige Biomasse  Sonstige Heizenergie  Strom  \\\n",
       "0                    1135                   911   1310   \n",
       "1                    1152                   821   1243   \n",
       "2                     829                  1686   1569   \n",
       "3                     857                  1352   1841   \n",
       "4                    1084                  1041   2424   \n",
       "..                    ...                   ...    ...   \n",
       "0                       1                     0      0   \n",
       "1                       1                     0      0   \n",
       "2                       0                     0      6   \n",
       "3                       0                     0      1   \n",
       "4                       0                     0      1   \n",
       "\n",
       "energy  Umweltthermie (Luft/Wasser)    Öl  ort_ags  \\\n",
       "0                             37200  1619        0   \n",
       "1                             46018  1660        0   \n",
       "2                             52501  1479        0   \n",
       "3                             56646  1502        0   \n",
       "4                             66481  1352        0   \n",
       "..                              ...   ...      ...   \n",
       "0                                13     0    16077   \n",
       "1                                21     0    16077   \n",
       "2                                24     0    16077   \n",
       "3                                17     1    16077   \n",
       "4                                24     1    16077   \n",
       "\n",
       "energy                       ort_name  renewables  fossils  \n",
       "0                         Deutschland       64822   156629  \n",
       "1                         Deutschland       75208   153581  \n",
       "2                         Deutschland       83937   154380  \n",
       "3                         Deutschland       87137   159026  \n",
       "4                         Deutschland       97269   163855  \n",
       "..                                ...         ...      ...  \n",
       "0             Altenburger Land, Kreis          21       80  \n",
       "1             Altenburger Land, Kreis          34       34  \n",
       "2             Altenburger Land, Kreis          35       37  \n",
       "3             Altenburger Land, Kreis          22      136  \n",
       "4             Altenburger Land, Kreis          34      103  \n",
       "\n",
       "[2690 rows x 17 columns]"
      ]
     },
     "execution_count": 5,
     "metadata": {},
     "output_type": "execute_result"
    }
   ],
   "source": [
    "df_kreise = pd.read_csv(\"data/newbuildings_kreise_output.csv\")\n",
    "\n",
    "# create_pivot_tables_\n",
    "#         viz : df dataframe slice of your data, for example a specific landkreis\n",
    "#        asProportion : bool, optional\n",
    "#            if true, the visualisation will use proportion. otherwise, the total number is used. default is true\n",
    "#        useWohnungen : bool, optional\n",
    "#            if true, flats will be counted. otherwise, buildings will be counted (which maybe have multiple flats in them). default is true\n",
    "pivot = create_pivot_tables(df_kreise,False,True)\n",
    "pivot"
   ]
  },
  {
   "cell_type": "code",
   "execution_count": 64,
   "metadata": {},
   "outputs": [
    {
     "name": "stdout",
     "output_type": "stream",
     "text": [
      "['Keine Energie (einschl. Passivhaus)' 'Öl' 'Gas' 'Strom'\n",
      " 'Fernwärme/Fernkälte' 'Geothermie' 'Umweltthermie (Luft/Wasser)'\n",
      " 'Solarthermie' 'Holz' 'Biogas/Biomethan' 'Sonstige Biomasse'\n",
      " 'Sonstige Heizenergie']\n"
     ]
    },
    {
     "name": "stderr",
     "output_type": "stream",
     "text": [
      "/var/folders/6w/mz49x3ds0b18vg8p9jx7wg0r0000gn/T/ipykernel_68379/2023176391.py:39: SettingWithCopyWarning:\n",
      "\n",
      "\n",
      "A value is trying to be set on a copy of a slice from a DataFrame\n",
      "\n",
      "See the caveats in the documentation: https://pandas.pydata.org/pandas-docs/stable/user_guide/indexing.html#returning-a-view-versus-a-copy\n",
      "\n"
     ]
    },
    {
     "data": {
      "application/vnd.plotly.v1+json": {
       "config": {
        "plotlyServerURL": "https://plot.ly"
       },
       "data": [
        {
         "name": "Keine Energie (einschl. Passivhaus)",
         "type": "bar",
         "x": [
          2016,
          2017,
          2018,
          2019,
          2020
         ],
         "y": [
          0,
          0,
          0,
          0,
          0
         ]
        },
        {
         "name": "Öl",
         "type": "bar",
         "x": [
          2016,
          2017,
          2018,
          2019,
          2020
         ],
         "y": [
          0.3558718861209964,
          0.4545454545454545,
          0.2509410288582183,
          0.6802721088435374,
          0
         ]
        },
        {
         "name": "Gas",
         "type": "bar",
         "x": [
          2016,
          2017,
          2018,
          2019,
          2020
         ],
         "y": [
          3.9145907473309607,
          1.3636363636363635,
          0.8782936010037641,
          0.2267573696145124,
          0
         ]
        },
        {
         "name": "Strom",
         "type": "bar",
         "x": [
          2016,
          2017,
          2018,
          2019,
          2020
         ],
         "y": [
          0,
          0,
          0.1254705144291091,
          0,
          0
         ]
        },
        {
         "name": "Fernwärme/Fernkälte",
         "type": "bar",
         "x": [
          2016,
          2017,
          2018,
          2019,
          2020
         ],
         "y": [
          92.88256227758008,
          95.9090909090909,
          94.85570890840653,
          94.10430839002268,
          98.63636363636364
         ]
        },
        {
         "name": "Geothermie",
         "type": "bar",
         "x": [
          2016,
          2017,
          2018,
          2019,
          2020
         ],
         "y": [
          1.0676156583629894,
          1.3636363636363635,
          2.5094102885821834,
          4.988662131519274,
          0.6060606060606061
         ]
        },
        {
         "name": "Umweltthermie (Luft/Wasser)",
         "type": "bar",
         "x": [
          2016,
          2017,
          2018,
          2019,
          2020
         ],
         "y": [
          1.7793594306049825,
          0.9090909090909092,
          0.8782936010037641,
          0,
          0.7575757575757576
         ]
        },
        {
         "name": "Solarthermie",
         "type": "bar",
         "x": [
          2016,
          2017,
          2018,
          2019,
          2020
         ],
         "y": [
          0,
          0,
          0,
          0,
          0
         ]
        },
        {
         "name": "Holz",
         "type": "bar",
         "x": [
          2016,
          2017,
          2018,
          2019,
          2020
         ],
         "y": [
          0,
          0,
          0,
          0,
          0
         ]
        },
        {
         "name": "Biogas/Biomethan",
         "type": "bar",
         "x": [
          2016,
          2017,
          2018,
          2019,
          2020
         ],
         "y": [
          0,
          0,
          0,
          0,
          0
         ]
        },
        {
         "name": "Sonstige Biomasse",
         "type": "bar",
         "x": [
          2016,
          2017,
          2018,
          2019,
          2020
         ],
         "y": [
          0,
          0,
          0,
          0,
          0
         ]
        },
        {
         "name": "Sonstige Heizenergie",
         "type": "bar",
         "x": [
          2016,
          2017,
          2018,
          2019,
          2020
         ],
         "y": [
          0,
          0,
          0.5018820577164366,
          0,
          0
         ]
        }
       ],
       "layout": {
        "autosize": true,
        "barmode": "stack",
        "template": {
         "data": {
          "bar": [
           {
            "error_x": {
             "color": "#2a3f5f"
            },
            "error_y": {
             "color": "#2a3f5f"
            },
            "marker": {
             "line": {
              "color": "#E5ECF6",
              "width": 0.5
             },
             "pattern": {
              "fillmode": "overlay",
              "size": 10,
              "solidity": 0.2
             }
            },
            "type": "bar"
           }
          ],
          "barpolar": [
           {
            "marker": {
             "line": {
              "color": "#E5ECF6",
              "width": 0.5
             },
             "pattern": {
              "fillmode": "overlay",
              "size": 10,
              "solidity": 0.2
             }
            },
            "type": "barpolar"
           }
          ],
          "carpet": [
           {
            "aaxis": {
             "endlinecolor": "#2a3f5f",
             "gridcolor": "white",
             "linecolor": "white",
             "minorgridcolor": "white",
             "startlinecolor": "#2a3f5f"
            },
            "baxis": {
             "endlinecolor": "#2a3f5f",
             "gridcolor": "white",
             "linecolor": "white",
             "minorgridcolor": "white",
             "startlinecolor": "#2a3f5f"
            },
            "type": "carpet"
           }
          ],
          "choropleth": [
           {
            "colorbar": {
             "outlinewidth": 0,
             "ticks": ""
            },
            "type": "choropleth"
           }
          ],
          "contour": [
           {
            "colorbar": {
             "outlinewidth": 0,
             "ticks": ""
            },
            "colorscale": [
             [
              0,
              "#0d0887"
             ],
             [
              0.1111111111111111,
              "#46039f"
             ],
             [
              0.2222222222222222,
              "#7201a8"
             ],
             [
              0.3333333333333333,
              "#9c179e"
             ],
             [
              0.4444444444444444,
              "#bd3786"
             ],
             [
              0.5555555555555556,
              "#d8576b"
             ],
             [
              0.6666666666666666,
              "#ed7953"
             ],
             [
              0.7777777777777778,
              "#fb9f3a"
             ],
             [
              0.8888888888888888,
              "#fdca26"
             ],
             [
              1,
              "#f0f921"
             ]
            ],
            "type": "contour"
           }
          ],
          "contourcarpet": [
           {
            "colorbar": {
             "outlinewidth": 0,
             "ticks": ""
            },
            "type": "contourcarpet"
           }
          ],
          "heatmap": [
           {
            "colorbar": {
             "outlinewidth": 0,
             "ticks": ""
            },
            "colorscale": [
             [
              0,
              "#0d0887"
             ],
             [
              0.1111111111111111,
              "#46039f"
             ],
             [
              0.2222222222222222,
              "#7201a8"
             ],
             [
              0.3333333333333333,
              "#9c179e"
             ],
             [
              0.4444444444444444,
              "#bd3786"
             ],
             [
              0.5555555555555556,
              "#d8576b"
             ],
             [
              0.6666666666666666,
              "#ed7953"
             ],
             [
              0.7777777777777778,
              "#fb9f3a"
             ],
             [
              0.8888888888888888,
              "#fdca26"
             ],
             [
              1,
              "#f0f921"
             ]
            ],
            "type": "heatmap"
           }
          ],
          "heatmapgl": [
           {
            "colorbar": {
             "outlinewidth": 0,
             "ticks": ""
            },
            "colorscale": [
             [
              0,
              "#0d0887"
             ],
             [
              0.1111111111111111,
              "#46039f"
             ],
             [
              0.2222222222222222,
              "#7201a8"
             ],
             [
              0.3333333333333333,
              "#9c179e"
             ],
             [
              0.4444444444444444,
              "#bd3786"
             ],
             [
              0.5555555555555556,
              "#d8576b"
             ],
             [
              0.6666666666666666,
              "#ed7953"
             ],
             [
              0.7777777777777778,
              "#fb9f3a"
             ],
             [
              0.8888888888888888,
              "#fdca26"
             ],
             [
              1,
              "#f0f921"
             ]
            ],
            "type": "heatmapgl"
           }
          ],
          "histogram": [
           {
            "marker": {
             "pattern": {
              "fillmode": "overlay",
              "size": 10,
              "solidity": 0.2
             }
            },
            "type": "histogram"
           }
          ],
          "histogram2d": [
           {
            "colorbar": {
             "outlinewidth": 0,
             "ticks": ""
            },
            "colorscale": [
             [
              0,
              "#0d0887"
             ],
             [
              0.1111111111111111,
              "#46039f"
             ],
             [
              0.2222222222222222,
              "#7201a8"
             ],
             [
              0.3333333333333333,
              "#9c179e"
             ],
             [
              0.4444444444444444,
              "#bd3786"
             ],
             [
              0.5555555555555556,
              "#d8576b"
             ],
             [
              0.6666666666666666,
              "#ed7953"
             ],
             [
              0.7777777777777778,
              "#fb9f3a"
             ],
             [
              0.8888888888888888,
              "#fdca26"
             ],
             [
              1,
              "#f0f921"
             ]
            ],
            "type": "histogram2d"
           }
          ],
          "histogram2dcontour": [
           {
            "colorbar": {
             "outlinewidth": 0,
             "ticks": ""
            },
            "colorscale": [
             [
              0,
              "#0d0887"
             ],
             [
              0.1111111111111111,
              "#46039f"
             ],
             [
              0.2222222222222222,
              "#7201a8"
             ],
             [
              0.3333333333333333,
              "#9c179e"
             ],
             [
              0.4444444444444444,
              "#bd3786"
             ],
             [
              0.5555555555555556,
              "#d8576b"
             ],
             [
              0.6666666666666666,
              "#ed7953"
             ],
             [
              0.7777777777777778,
              "#fb9f3a"
             ],
             [
              0.8888888888888888,
              "#fdca26"
             ],
             [
              1,
              "#f0f921"
             ]
            ],
            "type": "histogram2dcontour"
           }
          ],
          "mesh3d": [
           {
            "colorbar": {
             "outlinewidth": 0,
             "ticks": ""
            },
            "type": "mesh3d"
           }
          ],
          "parcoords": [
           {
            "line": {
             "colorbar": {
              "outlinewidth": 0,
              "ticks": ""
             }
            },
            "type": "parcoords"
           }
          ],
          "pie": [
           {
            "automargin": true,
            "type": "pie"
           }
          ],
          "scatter": [
           {
            "fillpattern": {
             "fillmode": "overlay",
             "size": 10,
             "solidity": 0.2
            },
            "type": "scatter"
           }
          ],
          "scatter3d": [
           {
            "line": {
             "colorbar": {
              "outlinewidth": 0,
              "ticks": ""
             }
            },
            "marker": {
             "colorbar": {
              "outlinewidth": 0,
              "ticks": ""
             }
            },
            "type": "scatter3d"
           }
          ],
          "scattercarpet": [
           {
            "marker": {
             "colorbar": {
              "outlinewidth": 0,
              "ticks": ""
             }
            },
            "type": "scattercarpet"
           }
          ],
          "scattergeo": [
           {
            "marker": {
             "colorbar": {
              "outlinewidth": 0,
              "ticks": ""
             }
            },
            "type": "scattergeo"
           }
          ],
          "scattergl": [
           {
            "marker": {
             "colorbar": {
              "outlinewidth": 0,
              "ticks": ""
             }
            },
            "type": "scattergl"
           }
          ],
          "scattermapbox": [
           {
            "marker": {
             "colorbar": {
              "outlinewidth": 0,
              "ticks": ""
             }
            },
            "type": "scattermapbox"
           }
          ],
          "scatterpolar": [
           {
            "marker": {
             "colorbar": {
              "outlinewidth": 0,
              "ticks": ""
             }
            },
            "type": "scatterpolar"
           }
          ],
          "scatterpolargl": [
           {
            "marker": {
             "colorbar": {
              "outlinewidth": 0,
              "ticks": ""
             }
            },
            "type": "scatterpolargl"
           }
          ],
          "scatterternary": [
           {
            "marker": {
             "colorbar": {
              "outlinewidth": 0,
              "ticks": ""
             }
            },
            "type": "scatterternary"
           }
          ],
          "surface": [
           {
            "colorbar": {
             "outlinewidth": 0,
             "ticks": ""
            },
            "colorscale": [
             [
              0,
              "#0d0887"
             ],
             [
              0.1111111111111111,
              "#46039f"
             ],
             [
              0.2222222222222222,
              "#7201a8"
             ],
             [
              0.3333333333333333,
              "#9c179e"
             ],
             [
              0.4444444444444444,
              "#bd3786"
             ],
             [
              0.5555555555555556,
              "#d8576b"
             ],
             [
              0.6666666666666666,
              "#ed7953"
             ],
             [
              0.7777777777777778,
              "#fb9f3a"
             ],
             [
              0.8888888888888888,
              "#fdca26"
             ],
             [
              1,
              "#f0f921"
             ]
            ],
            "type": "surface"
           }
          ],
          "table": [
           {
            "cells": {
             "fill": {
              "color": "#EBF0F8"
             },
             "line": {
              "color": "white"
             }
            },
            "header": {
             "fill": {
              "color": "#C8D4E3"
             },
             "line": {
              "color": "white"
             }
            },
            "type": "table"
           }
          ]
         },
         "layout": {
          "annotationdefaults": {
           "arrowcolor": "#2a3f5f",
           "arrowhead": 0,
           "arrowwidth": 1
          },
          "autotypenumbers": "strict",
          "coloraxis": {
           "colorbar": {
            "outlinewidth": 0,
            "ticks": ""
           }
          },
          "colorscale": {
           "diverging": [
            [
             0,
             "#8e0152"
            ],
            [
             0.1,
             "#c51b7d"
            ],
            [
             0.2,
             "#de77ae"
            ],
            [
             0.3,
             "#f1b6da"
            ],
            [
             0.4,
             "#fde0ef"
            ],
            [
             0.5,
             "#f7f7f7"
            ],
            [
             0.6,
             "#e6f5d0"
            ],
            [
             0.7,
             "#b8e186"
            ],
            [
             0.8,
             "#7fbc41"
            ],
            [
             0.9,
             "#4d9221"
            ],
            [
             1,
             "#276419"
            ]
           ],
           "sequential": [
            [
             0,
             "#0d0887"
            ],
            [
             0.1111111111111111,
             "#46039f"
            ],
            [
             0.2222222222222222,
             "#7201a8"
            ],
            [
             0.3333333333333333,
             "#9c179e"
            ],
            [
             0.4444444444444444,
             "#bd3786"
            ],
            [
             0.5555555555555556,
             "#d8576b"
            ],
            [
             0.6666666666666666,
             "#ed7953"
            ],
            [
             0.7777777777777778,
             "#fb9f3a"
            ],
            [
             0.8888888888888888,
             "#fdca26"
            ],
            [
             1,
             "#f0f921"
            ]
           ],
           "sequentialminus": [
            [
             0,
             "#0d0887"
            ],
            [
             0.1111111111111111,
             "#46039f"
            ],
            [
             0.2222222222222222,
             "#7201a8"
            ],
            [
             0.3333333333333333,
             "#9c179e"
            ],
            [
             0.4444444444444444,
             "#bd3786"
            ],
            [
             0.5555555555555556,
             "#d8576b"
            ],
            [
             0.6666666666666666,
             "#ed7953"
            ],
            [
             0.7777777777777778,
             "#fb9f3a"
            ],
            [
             0.8888888888888888,
             "#fdca26"
            ],
            [
             1,
             "#f0f921"
            ]
           ]
          },
          "colorway": [
           "#636efa",
           "#EF553B",
           "#00cc96",
           "#ab63fa",
           "#FFA15A",
           "#19d3f3",
           "#FF6692",
           "#B6E880",
           "#FF97FF",
           "#FECB52"
          ],
          "font": {
           "color": "#2a3f5f"
          },
          "geo": {
           "bgcolor": "white",
           "lakecolor": "white",
           "landcolor": "#E5ECF6",
           "showlakes": true,
           "showland": true,
           "subunitcolor": "white"
          },
          "hoverlabel": {
           "align": "left"
          },
          "hovermode": "closest",
          "mapbox": {
           "style": "light"
          },
          "paper_bgcolor": "white",
          "plot_bgcolor": "#E5ECF6",
          "polar": {
           "angularaxis": {
            "gridcolor": "white",
            "linecolor": "white",
            "ticks": ""
           },
           "bgcolor": "#E5ECF6",
           "radialaxis": {
            "gridcolor": "white",
            "linecolor": "white",
            "ticks": ""
           }
          },
          "scene": {
           "xaxis": {
            "backgroundcolor": "#E5ECF6",
            "gridcolor": "white",
            "gridwidth": 2,
            "linecolor": "white",
            "showbackground": true,
            "ticks": "",
            "zerolinecolor": "white"
           },
           "yaxis": {
            "backgroundcolor": "#E5ECF6",
            "gridcolor": "white",
            "gridwidth": 2,
            "linecolor": "white",
            "showbackground": true,
            "ticks": "",
            "zerolinecolor": "white"
           },
           "zaxis": {
            "backgroundcolor": "#E5ECF6",
            "gridcolor": "white",
            "gridwidth": 2,
            "linecolor": "white",
            "showbackground": true,
            "ticks": "",
            "zerolinecolor": "white"
           }
          },
          "shapedefaults": {
           "line": {
            "color": "#2a3f5f"
           }
          },
          "ternary": {
           "aaxis": {
            "gridcolor": "white",
            "linecolor": "white",
            "ticks": ""
           },
           "baxis": {
            "gridcolor": "white",
            "linecolor": "white",
            "ticks": ""
           },
           "bgcolor": "#E5ECF6",
           "caxis": {
            "gridcolor": "white",
            "linecolor": "white",
            "ticks": ""
           }
          },
          "title": {
           "x": 0.05
          },
          "xaxis": {
           "automargin": true,
           "gridcolor": "white",
           "linecolor": "white",
           "ticks": "",
           "title": {
            "standoff": 15
           },
           "zerolinecolor": "white",
           "zerolinewidth": 2
          },
          "yaxis": {
           "automargin": true,
           "gridcolor": "white",
           "linecolor": "white",
           "ticks": "",
           "title": {
            "standoff": 15
           },
           "zerolinecolor": "white",
           "zerolinewidth": 2
          }
         }
        },
        "title": {
         "text": "Anteile von Energiesystemen in fertiggestellten Wohnungen in Wohngebäuden in       Flensburg, kreisfreie Stadt"
        },
        "xaxis": {
         "autorange": true,
         "range": [
          2015.5,
          2020.5
         ],
         "type": "linear"
        },
        "yaxis": {
         "autorange": true,
         "range": [
          0,
          105.26315789473685
         ],
         "type": "linear"
        }
       }
      },
      "image/png": "[encoded data removed]"
     },
     "metadata": {},
     "output_type": "display_data"
    },
    {
     "data": {
      "application/vnd.plotly.v1+json": {
       "config": {
        "plotlyServerURL": "https://plot.ly"
       },
       "data": [
        {
         "line": {
          "color": "#636EFA"
         },
         "mode": "lines",
         "name": "Keine Energie (einschl. Passivhaus)",
         "type": "scatter",
         "x": [
          2016,
          2017,
          2018,
          2019,
          2020
         ],
         "y": [
          0,
          0,
          0,
          0,
          0
         ]
        },
        {
         "line": {
          "color": "#EF553B"
         },
         "mode": "lines",
         "name": "Öl",
         "type": "scatter",
         "x": [
          2016,
          2017,
          2018,
          2019,
          2020
         ],
         "y": [
          0.3558718861209964,
          0.4545454545454545,
          0.2509410288582183,
          0.6802721088435374,
          0
         ]
        },
        {
         "line": {
          "color": "#00CC96"
         },
         "mode": "lines",
         "name": "Gas",
         "type": "scatter",
         "x": [
          2016,
          2017,
          2018,
          2019,
          2020
         ],
         "y": [
          3.9145907473309607,
          1.3636363636363635,
          0.8782936010037641,
          0.2267573696145124,
          0
         ]
        },
        {
         "line": {
          "color": "#AB63FA"
         },
         "mode": "lines",
         "name": "Strom",
         "type": "scatter",
         "x": [
          2016,
          2017,
          2018,
          2019,
          2020
         ],
         "y": [
          0,
          0,
          0.1254705144291091,
          0,
          0
         ]
        },
        {
         "line": {
          "color": "#FFA15A"
         },
         "mode": "lines",
         "name": "Fernwärme/Fernkälte",
         "type": "scatter",
         "x": [
          2016,
          2017,
          2018,
          2019,
          2020
         ],
         "y": [
          92.88256227758008,
          95.9090909090909,
          94.85570890840653,
          94.10430839002268,
          98.63636363636364
         ]
        },
        {
         "line": {
          "color": "#19D3F3"
         },
         "mode": "lines",
         "name": "Geothermie",
         "type": "scatter",
         "x": [
          2016,
          2017,
          2018,
          2019,
          2020
         ],
         "y": [
          1.0676156583629894,
          1.3636363636363635,
          2.5094102885821834,
          4.988662131519274,
          0.6060606060606061
         ]
        },
        {
         "line": {
          "color": "#FF6692"
         },
         "mode": "lines",
         "name": "Umweltthermie (Luft/Wasser)",
         "type": "scatter",
         "x": [
          2016,
          2017,
          2018,
          2019,
          2020
         ],
         "y": [
          1.7793594306049825,
          0.9090909090909092,
          0.8782936010037641,
          0,
          0.7575757575757576
         ]
        },
        {
         "line": {
          "color": "#B6E880"
         },
         "mode": "lines",
         "name": "Solarthermie",
         "type": "scatter",
         "x": [
          2016,
          2017,
          2018,
          2019,
          2020
         ],
         "y": [
          0,
          0,
          0,
          0,
          0
         ]
        },
        {
         "line": {
          "color": "#FF97FF"
         },
         "mode": "lines",
         "name": "Holz",
         "type": "scatter",
         "x": [
          2016,
          2017,
          2018,
          2019,
          2020
         ],
         "y": [
          0,
          0,
          0,
          0,
          0
         ]
        },
        {
         "line": {
          "color": "#FECB52"
         },
         "mode": "lines",
         "name": "Biogas/Biomethan",
         "type": "scatter",
         "x": [
          2016,
          2017,
          2018,
          2019,
          2020
         ],
         "y": [
          0,
          0,
          0,
          0,
          0
         ]
        },
        {
         "line": {
          "color": "#636EFA"
         },
         "mode": "lines",
         "name": "Sonstige Biomasse",
         "type": "scatter",
         "x": [
          2016,
          2017,
          2018,
          2019,
          2020
         ],
         "y": [
          0,
          0,
          0,
          0,
          0
         ]
        },
        {
         "line": {
          "color": "#EF553B"
         },
         "mode": "lines",
         "name": "Sonstige Heizenergie",
         "type": "scatter",
         "x": [
          2016,
          2017,
          2018,
          2019,
          2020
         ],
         "y": [
          0,
          0,
          0.5018820577164366,
          0,
          0
         ]
        }
       ],
       "layout": {
        "autosize": true,
        "template": {
         "data": {
          "bar": [
           {
            "error_x": {
             "color": "#2a3f5f"
            },
            "error_y": {
             "color": "#2a3f5f"
            },
            "marker": {
             "line": {
              "color": "#E5ECF6",
              "width": 0.5
             },
             "pattern": {
              "fillmode": "overlay",
              "size": 10,
              "solidity": 0.2
             }
            },
            "type": "bar"
           }
          ],
          "barpolar": [
           {
            "marker": {
             "line": {
              "color": "#E5ECF6",
              "width": 0.5
             },
             "pattern": {
              "fillmode": "overlay",
              "size": 10,
              "solidity": 0.2
             }
            },
            "type": "barpolar"
           }
          ],
          "carpet": [
           {
            "aaxis": {
             "endlinecolor": "#2a3f5f",
             "gridcolor": "white",
             "linecolor": "white",
             "minorgridcolor": "white",
             "startlinecolor": "#2a3f5f"
            },
            "baxis": {
             "endlinecolor": "#2a3f5f",
             "gridcolor": "white",
             "linecolor": "white",
             "minorgridcolor": "white",
             "startlinecolor": "#2a3f5f"
            },
            "type": "carpet"
           }
          ],
          "choropleth": [
           {
            "colorbar": {
             "outlinewidth": 0,
             "ticks": ""
            },
            "type": "choropleth"
           }
          ],
          "contour": [
           {
            "colorbar": {
             "outlinewidth": 0,
             "ticks": ""
            },
            "colorscale": [
             [
              0,
              "#0d0887"
             ],
             [
              0.1111111111111111,
              "#46039f"
             ],
             [
              0.2222222222222222,
              "#7201a8"
             ],
             [
              0.3333333333333333,
              "#9c179e"
             ],
             [
              0.4444444444444444,
              "#bd3786"
             ],
             [
              0.5555555555555556,
              "#d8576b"
             ],
             [
              0.6666666666666666,
              "#ed7953"
             ],
             [
              0.7777777777777778,
              "#fb9f3a"
             ],
             [
              0.8888888888888888,
              "#fdca26"
             ],
             [
              1,
              "#f0f921"
             ]
            ],
            "type": "contour"
           }
          ],
          "contourcarpet": [
           {
            "colorbar": {
             "outlinewidth": 0,
             "ticks": ""
            },
            "type": "contourcarpet"
           }
          ],
          "heatmap": [
           {
            "colorbar": {
             "outlinewidth": 0,
             "ticks": ""
            },
            "colorscale": [
             [
              0,
              "#0d0887"
             ],
             [
              0.1111111111111111,
              "#46039f"
             ],
             [
              0.2222222222222222,
              "#7201a8"
             ],
             [
              0.3333333333333333,
              "#9c179e"
             ],
             [
              0.4444444444444444,
              "#bd3786"
             ],
             [
              0.5555555555555556,
              "#d8576b"
             ],
             [
              0.6666666666666666,
              "#ed7953"
             ],
             [
              0.7777777777777778,
              "#fb9f3a"
             ],
             [
              0.8888888888888888,
              "#fdca26"
             ],
             [
              1,
              "#f0f921"
             ]
            ],
            "type": "heatmap"
           }
          ],
          "heatmapgl": [
           {
            "colorbar": {
             "outlinewidth": 0,
             "ticks": ""
            },
            "colorscale": [
             [
              0,
              "#0d0887"
             ],
             [
              0.1111111111111111,
              "#46039f"
             ],
             [
              0.2222222222222222,
              "#7201a8"
             ],
             [
              0.3333333333333333,
              "#9c179e"
             ],
             [
              0.4444444444444444,
              "#bd3786"
             ],
             [
              0.5555555555555556,
              "#d8576b"
             ],
             [
              0.6666666666666666,
              "#ed7953"
             ],
             [
              0.7777777777777778,
              "#fb9f3a"
             ],
             [
              0.8888888888888888,
              "#fdca26"
             ],
             [
              1,
              "#f0f921"
             ]
            ],
            "type": "heatmapgl"
           }
          ],
          "histogram": [
           {
            "marker": {
             "pattern": {
              "fillmode": "overlay",
              "size": 10,
              "solidity": 0.2
             }
            },
            "type": "histogram"
           }
          ],
          "histogram2d": [
           {
            "colorbar": {
             "outlinewidth": 0,
             "ticks": ""
            },
            "colorscale": [
             [
              0,
              "#0d0887"
             ],
             [
              0.1111111111111111,
              "#46039f"
             ],
             [
              0.2222222222222222,
              "#7201a8"
             ],
             [
              0.3333333333333333,
              "#9c179e"
             ],
             [
              0.4444444444444444,
              "#bd3786"
             ],
             [
              0.5555555555555556,
              "#d8576b"
             ],
             [
              0.6666666666666666,
              "#ed7953"
             ],
             [
              0.7777777777777778,
              "#fb9f3a"
             ],
             [
              0.8888888888888888,
              "#fdca26"
             ],
             [
              1,
              "#f0f921"
             ]
            ],
            "type": "histogram2d"
           }
          ],
          "histogram2dcontour": [
           {
            "colorbar": {
             "outlinewidth": 0,
             "ticks": ""
            },
            "colorscale": [
             [
              0,
              "#0d0887"
             ],
             [
              0.1111111111111111,
              "#46039f"
             ],
             [
              0.2222222222222222,
              "#7201a8"
             ],
             [
              0.3333333333333333,
              "#9c179e"
             ],
             [
              0.4444444444444444,
              "#bd3786"
             ],
             [
              0.5555555555555556,
              "#d8576b"
             ],
             [
              0.6666666666666666,
              "#ed7953"
             ],
             [
              0.7777777777777778,
              "#fb9f3a"
             ],
             [
              0.8888888888888888,
              "#fdca26"
             ],
             [
              1,
              "#f0f921"
             ]
            ],
            "type": "histogram2dcontour"
           }
          ],
          "mesh3d": [
           {
            "colorbar": {
             "outlinewidth": 0,
             "ticks": ""
            },
            "type": "mesh3d"
           }
          ],
          "parcoords": [
           {
            "line": {
             "colorbar": {
              "outlinewidth": 0,
              "ticks": ""
             }
            },
            "type": "parcoords"
           }
          ],
          "pie": [
           {
            "automargin": true,
            "type": "pie"
           }
          ],
          "scatter": [
           {
            "fillpattern": {
             "fillmode": "overlay",
             "size": 10,
             "solidity": 0.2
            },
            "type": "scatter"
           }
          ],
          "scatter3d": [
           {
            "line": {
             "colorbar": {
              "outlinewidth": 0,
              "ticks": ""
             }
            },
            "marker": {
             "colorbar": {
              "outlinewidth": 0,
              "ticks": ""
             }
            },
            "type": "scatter3d"
           }
          ],
          "scattercarpet": [
           {
            "marker": {
             "colorbar": {
              "outlinewidth": 0,
              "ticks": ""
             }
            },
            "type": "scattercarpet"
           }
          ],
          "scattergeo": [
           {
            "marker": {
             "colorbar": {
              "outlinewidth": 0,
              "ticks": ""
             }
            },
            "type": "scattergeo"
           }
          ],
          "scattergl": [
           {
            "marker": {
             "colorbar": {
              "outlinewidth": 0,
              "ticks": ""
             }
            },
            "type": "scattergl"
           }
          ],
          "scattermapbox": [
           {
            "marker": {
             "colorbar": {
              "outlinewidth": 0,
              "ticks": ""
             }
            },
            "type": "scattermapbox"
           }
          ],
          "scatterpolar": [
           {
            "marker": {
             "colorbar": {
              "outlinewidth": 0,
              "ticks": ""
             }
            },
            "type": "scatterpolar"
           }
          ],
          "scatterpolargl": [
           {
            "marker": {
             "colorbar": {
              "outlinewidth": 0,
              "ticks": ""
             }
            },
            "type": "scatterpolargl"
           }
          ],
          "scatterternary": [
           {
            "marker": {
             "colorbar": {
              "outlinewidth": 0,
              "ticks": ""
             }
            },
            "type": "scatterternary"
           }
          ],
          "surface": [
           {
            "colorbar": {
             "outlinewidth": 0,
             "ticks": ""
            },
            "colorscale": [
             [
              0,
              "#0d0887"
             ],
             [
              0.1111111111111111,
              "#46039f"
             ],
             [
              0.2222222222222222,
              "#7201a8"
             ],
             [
              0.3333333333333333,
              "#9c179e"
             ],
             [
              0.4444444444444444,
              "#bd3786"
             ],
             [
              0.5555555555555556,
              "#d8576b"
             ],
             [
              0.6666666666666666,
              "#ed7953"
             ],
             [
              0.7777777777777778,
              "#fb9f3a"
             ],
             [
              0.8888888888888888,
              "#fdca26"
             ],
             [
              1,
              "#f0f921"
             ]
            ],
            "type": "surface"
           }
          ],
          "table": [
           {
            "cells": {
             "fill": {
              "color": "#EBF0F8"
             },
             "line": {
              "color": "white"
             }
            },
            "header": {
             "fill": {
              "color": "#C8D4E3"
             },
             "line": {
              "color": "white"
             }
            },
            "type": "table"
           }
          ]
         },
         "layout": {
          "annotationdefaults": {
           "arrowcolor": "#2a3f5f",
           "arrowhead": 0,
           "arrowwidth": 1
          },
          "autotypenumbers": "strict",
          "coloraxis": {
           "colorbar": {
            "outlinewidth": 0,
            "ticks": ""
           }
          },
          "colorscale": {
           "diverging": [
            [
             0,
             "#8e0152"
            ],
            [
             0.1,
             "#c51b7d"
            ],
            [
             0.2,
             "#de77ae"
            ],
            [
             0.3,
             "#f1b6da"
            ],
            [
             0.4,
             "#fde0ef"
            ],
            [
             0.5,
             "#f7f7f7"
            ],
            [
             0.6,
             "#e6f5d0"
            ],
            [
             0.7,
             "#b8e186"
            ],
            [
             0.8,
             "#7fbc41"
            ],
            [
             0.9,
             "#4d9221"
            ],
            [
             1,
             "#276419"
            ]
           ],
           "sequential": [
            [
             0,
             "#0d0887"
            ],
            [
             0.1111111111111111,
             "#46039f"
            ],
            [
             0.2222222222222222,
             "#7201a8"
            ],
            [
             0.3333333333333333,
             "#9c179e"
            ],
            [
             0.4444444444444444,
             "#bd3786"
            ],
            [
             0.5555555555555556,
             "#d8576b"
            ],
            [
             0.6666666666666666,
             "#ed7953"
            ],
            [
             0.7777777777777778,
             "#fb9f3a"
            ],
            [
             0.8888888888888888,
             "#fdca26"
            ],
            [
             1,
             "#f0f921"
            ]
           ],
           "sequentialminus": [
            [
             0,
             "#0d0887"
            ],
            [
             0.1111111111111111,
             "#46039f"
            ],
            [
             0.2222222222222222,
             "#7201a8"
            ],
            [
             0.3333333333333333,
             "#9c179e"
            ],
            [
             0.4444444444444444,
             "#bd3786"
            ],
            [
             0.5555555555555556,
             "#d8576b"
            ],
            [
             0.6666666666666666,
             "#ed7953"
            ],
            [
             0.7777777777777778,
             "#fb9f3a"
            ],
            [
             0.8888888888888888,
             "#fdca26"
            ],
            [
             1,
             "#f0f921"
            ]
           ]
          },
          "colorway": [
           "#636efa",
           "#EF553B",
           "#00cc96",
           "#ab63fa",
           "#FFA15A",
           "#19d3f3",
           "#FF6692",
           "#B6E880",
           "#FF97FF",
           "#FECB52"
          ],
          "font": {
           "color": "#2a3f5f"
          },
          "geo": {
           "bgcolor": "white",
           "lakecolor": "white",
           "landcolor": "#E5ECF6",
           "showlakes": true,
           "showland": true,
           "subunitcolor": "white"
          },
          "hoverlabel": {
           "align": "left"
          },
          "hovermode": "closest",
          "mapbox": {
           "style": "light"
          },
          "paper_bgcolor": "white",
          "plot_bgcolor": "#E5ECF6",
          "polar": {
           "angularaxis": {
            "gridcolor": "white",
            "linecolor": "white",
            "ticks": ""
           },
           "bgcolor": "#E5ECF6",
           "radialaxis": {
            "gridcolor": "white",
            "linecolor": "white",
            "ticks": ""
           }
          },
          "scene": {
           "xaxis": {
            "backgroundcolor": "#E5ECF6",
            "gridcolor": "white",
            "gridwidth": 2,
            "linecolor": "white",
            "showbackground": true,
            "ticks": "",
            "zerolinecolor": "white"
           },
           "yaxis": {
            "backgroundcolor": "#E5ECF6",
            "gridcolor": "white",
            "gridwidth": 2,
            "linecolor": "white",
            "showbackground": true,
            "ticks": "",
            "zerolinecolor": "white"
           },
           "zaxis": {
            "backgroundcolor": "#E5ECF6",
            "gridcolor": "white",
            "gridwidth": 2,
            "linecolor": "white",
            "showbackground": true,
            "ticks": "",
            "zerolinecolor": "white"
           }
          },
          "shapedefaults": {
           "line": {
            "color": "#2a3f5f"
           }
          },
          "ternary": {
           "aaxis": {
            "gridcolor": "white",
            "linecolor": "white",
            "ticks": ""
           },
           "baxis": {
            "gridcolor": "white",
            "linecolor": "white",
            "ticks": ""
           },
           "bgcolor": "#E5ECF6",
           "caxis": {
            "gridcolor": "white",
            "linecolor": "white",
            "ticks": ""
           }
          },
          "title": {
           "x": 0.05
          },
          "xaxis": {
           "automargin": true,
           "gridcolor": "white",
           "linecolor": "white",
           "ticks": "",
           "title": {
            "standoff": 15
           },
           "zerolinecolor": "white",
           "zerolinewidth": 2
          },
          "yaxis": {
           "automargin": true,
           "gridcolor": "white",
           "linecolor": "white",
           "ticks": "",
           "title": {
            "standoff": 15
           },
           "zerolinecolor": "white",
           "zerolinewidth": 2
          }
         }
        },
        "xaxis": {
         "autorange": true,
         "range": [
          2016,
          2020
         ],
         "type": "linear"
        },
        "yaxis": {
         "autorange": true,
         "range": [
          -5.47979797979798,
          104.11616161616162
         ],
         "type": "linear"
        }
       }
      },
      "image/png": "[encoded data removed]"
     },
     "metadata": {},
     "output_type": "display_data"
    }
   ],
   "source": [
    "####\n",
    "\n",
    "# here, you can plot the data for each landkreis.\n",
    "# parameters:\n",
    "# viz : df dataframe slice of your data, for example a specific landkreis\n",
    "# asProportion : bool, optional\n",
    "#       if true, the visualisation will use proportion. otherwise, the total number is used. default is true\n",
    "# useWohnungen : bool, optional\n",
    "#       if true, flats will be counted. otherwise, buildings will be counted (which maybe have multiple flats in them). default is true\n",
    "\n",
    "####\n",
    "df_kreise = pd.read_csv(\"data/newbuildings_kreise_output.csv\")\n",
    "\n",
    "plot_heating(df_kreise[df_kreise[\"Ort_Auspraegung_Code\"] == 1001],True,True)\n"
   ]
  },
  {
   "cell_type": "code",
   "execution_count": 8,
   "metadata": {},
   "outputs": [
    {
     "name": "stdout",
     "output_type": "stream",
     "text": [
      "['Keine Energie (einschl. Passivhaus)' 'Öl' 'Gas' 'Strom'\n",
      " 'Fernwärme/Fernkälte' 'Geothermie' 'Umweltthermie (Luft/Wasser)'\n",
      " 'Solarthermie' 'Holz' 'Biogas/Biomethan' 'Sonstige Biomasse'\n",
      " 'Sonstige Heizenergie']\n"
     ]
    },
    {
     "name": "stderr",
     "output_type": "stream",
     "text": [
      "/var/folders/6w/mz49x3ds0b18vg8p9jx7wg0r0000gn/T/ipykernel_3234/3386166944.py:39: SettingWithCopyWarning: \n",
      "A value is trying to be set on a copy of a slice from a DataFrame\n",
      "\n",
      "See the caveats in the documentation: https://pandas.pydata.org/pandas-docs/stable/user_guide/indexing.html#returning-a-view-versus-a-copy\n",
      "  viz.rename({\"Zeit\": \"year\",\"BAU017__Wohngebaeude_insgesamt__Anzahl\":\"buildings\",\"Heizenergie_Auspraegung_Label\":\"energy\",\n"
     ]
    },
    {
     "data": {
      "application/vnd.plotly.v1+json": {
       "config": {
        "plotlyServerURL": "https://plot.ly"
       },
       "data": [
        {
         "name": "Keine Energie (einschl. Passivhaus)",
         "type": "bar",
         "x": [
          2016,
          2017,
          2018,
          2019,
          2020
         ],
         "y": [
          0.1818181818181818,
          0,
          0,
          0.1715265866209262,
          0
         ]
        },
        {
         "name": "Öl",
         "type": "bar",
         "x": [
          2016,
          2017,
          2018,
          2019,
          2020
         ],
         "y": [
          0.7272727272727273,
          0.5856515373352855,
          0.2932551319648094,
          0.1715265866209262,
          0
         ]
        },
        {
         "name": "Gas",
         "type": "bar",
         "x": [
          2016,
          2017,
          2018,
          2019,
          2020
         ],
         "y": [
          63.81818181818182,
          57.83308931185944,
          49.120234604105576,
          42.88164665523156,
          35.239567233384854
         ]
        },
        {
         "name": "Strom",
         "type": "bar",
         "x": [
          2016,
          2017,
          2018,
          2019,
          2020
         ],
         "y": [
          3.4545454545454546,
          4.24597364568082,
          3.6656891495601176,
          2.401372212692967,
          6.0278207109737245
         ]
        },
        {
         "name": "Fernwärme/Fernkälte",
         "type": "bar",
         "x": [
          2016,
          2017,
          2018,
          2019,
          2020
         ],
         "y": [
          0,
          2.1961932650073206,
          5.865102639296188,
          0.3430531732418524,
          2.472952086553323
         ]
        },
        {
         "name": "Geothermie",
         "type": "bar",
         "x": [
          2016,
          2017,
          2018,
          2019,
          2020
         ],
         "y": [
          5.636363636363637,
          7.320644216691069,
          4.98533724340176,
          14.408233276157803,
          6.33693972179289
         ]
        },
        {
         "name": "Umweltthermie (Luft/Wasser)",
         "type": "bar",
         "x": [
          2016,
          2017,
          2018,
          2019,
          2020
         ],
         "y": [
          22.181818181818183,
          23.133235724743777,
          30.205278592375368,
          36.87821612349914,
          48.37712519319938
         ]
        },
        {
         "name": "Solarthermie",
         "type": "bar",
         "x": [
          2016,
          2017,
          2018,
          2019,
          2020
         ],
         "y": [
          0.3636363636363636,
          0,
          1.0263929618768328,
          1.0291595197255576,
          0.463678516228748
         ]
        },
        {
         "name": "Holz",
         "type": "bar",
         "x": [
          2016,
          2017,
          2018,
          2019,
          2020
         ],
         "y": [
          0.5454545454545455,
          1.610541727672035,
          3.6656891495601176,
          1.5437392795883362,
          0.7727975270479135
         ]
        },
        {
         "name": "Biogas/Biomethan",
         "type": "bar",
         "x": [
          2016,
          2017,
          2018,
          2019,
          2020
         ],
         "y": [
          0,
          0,
          0,
          0,
          0
         ]
        },
        {
         "name": "Sonstige Biomasse",
         "type": "bar",
         "x": [
          2016,
          2017,
          2018,
          2019,
          2020
         ],
         "y": [
          2.909090909090909,
          3.074670571010249,
          1.0263929618768328,
          0,
          0.3091190108191654
         ]
        },
        {
         "name": "Sonstige Heizenergie",
         "type": "bar",
         "x": [
          2016,
          2017,
          2018,
          2019,
          2020
         ],
         "y": [
          0.1818181818181818,
          0,
          0.1466275659824047,
          0.1715265866209262,
          0
         ]
        }
       ],
       "layout": {
        "autosize": true,
        "barmode": "stack",
        "template": {
         "data": {
          "bar": [
           {
            "error_x": {
             "color": "#2a3f5f"
            },
            "error_y": {
             "color": "#2a3f5f"
            },
            "marker": {
             "line": {
              "color": "#E5ECF6",
              "width": 0.5
             },
             "pattern": {
              "fillmode": "overlay",
              "size": 10,
              "solidity": 0.2
             }
            },
            "type": "bar"
           }
          ],
          "barpolar": [
           {
            "marker": {
             "line": {
              "color": "#E5ECF6",
              "width": 0.5
             },
             "pattern": {
              "fillmode": "overlay",
              "size": 10,
              "solidity": 0.2
             }
            },
            "type": "barpolar"
           }
          ],
          "carpet": [
           {
            "aaxis": {
             "endlinecolor": "#2a3f5f",
             "gridcolor": "white",
             "linecolor": "white",
             "minorgridcolor": "white",
             "startlinecolor": "#2a3f5f"
            },
            "baxis": {
             "endlinecolor": "#2a3f5f",
             "gridcolor": "white",
             "linecolor": "white",
             "minorgridcolor": "white",
             "startlinecolor": "#2a3f5f"
            },
            "type": "carpet"
           }
          ],
          "choropleth": [
           {
            "colorbar": {
             "outlinewidth": 0,
             "ticks": ""
            },
            "type": "choropleth"
           }
          ],
          "contour": [
           {
            "colorbar": {
             "outlinewidth": 0,
             "ticks": ""
            },
            "colorscale": [
             [
              0,
              "#0d0887"
             ],
             [
              0.1111111111111111,
              "#46039f"
             ],
             [
              0.2222222222222222,
              "#7201a8"
             ],
             [
              0.3333333333333333,
              "#9c179e"
             ],
             [
              0.4444444444444444,
              "#bd3786"
             ],
             [
              0.5555555555555556,
              "#d8576b"
             ],
             [
              0.6666666666666666,
              "#ed7953"
             ],
             [
              0.7777777777777778,
              "#fb9f3a"
             ],
             [
              0.8888888888888888,
              "#fdca26"
             ],
             [
              1,
              "#f0f921"
             ]
            ],
            "type": "contour"
           }
          ],
          "contourcarpet": [
           {
            "colorbar": {
             "outlinewidth": 0,
             "ticks": ""
            },
            "type": "contourcarpet"
           }
          ],
          "heatmap": [
           {
            "colorbar": {
             "outlinewidth": 0,
             "ticks": ""
            },
            "colorscale": [
             [
              0,
              "#0d0887"
             ],
             [
              0.1111111111111111,
              "#46039f"
             ],
             [
              0.2222222222222222,
              "#7201a8"
             ],
             [
              0.3333333333333333,
              "#9c179e"
             ],
             [
              0.4444444444444444,
              "#bd3786"
             ],
             [
              0.5555555555555556,
              "#d8576b"
             ],
             [
              0.6666666666666666,
              "#ed7953"
             ],
             [
              0.7777777777777778,
              "#fb9f3a"
             ],
             [
              0.8888888888888888,
              "#fdca26"
             ],
             [
              1,
              "#f0f921"
             ]
            ],
            "type": "heatmap"
           }
          ],
          "heatmapgl": [
           {
            "colorbar": {
             "outlinewidth": 0,
             "ticks": ""
            },
            "colorscale": [
             [
              0,
              "#0d0887"
             ],
             [
              0.1111111111111111,
              "#46039f"
             ],
             [
              0.2222222222222222,
              "#7201a8"
             ],
             [
              0.3333333333333333,
              "#9c179e"
             ],
             [
              0.4444444444444444,
              "#bd3786"
             ],
             [
              0.5555555555555556,
              "#d8576b"
             ],
             [
              0.6666666666666666,
              "#ed7953"
             ],
             [
              0.7777777777777778,
              "#fb9f3a"
             ],
             [
              0.8888888888888888,
              "#fdca26"
             ],
             [
              1,
              "#f0f921"
             ]
            ],
            "type": "heatmapgl"
           }
          ],
          "histogram": [
           {
            "marker": {
             "pattern": {
              "fillmode": "overlay",
              "size": 10,
              "solidity": 0.2
             }
            },
            "type": "histogram"
           }
          ],
          "histogram2d": [
           {
            "colorbar": {
             "outlinewidth": 0,
             "ticks": ""
            },
            "colorscale": [
             [
              0,
              "#0d0887"
             ],
             [
              0.1111111111111111,
              "#46039f"
             ],
             [
              0.2222222222222222,
              "#7201a8"
             ],
             [
              0.3333333333333333,
              "#9c179e"
             ],
             [
              0.4444444444444444,
              "#bd3786"
             ],
             [
              0.5555555555555556,
              "#d8576b"
             ],
             [
              0.6666666666666666,
              "#ed7953"
             ],
             [
              0.7777777777777778,
              "#fb9f3a"
             ],
             [
              0.8888888888888888,
              "#fdca26"
             ],
             [
              1,
              "#f0f921"
             ]
            ],
            "type": "histogram2d"
           }
          ],
          "histogram2dcontour": [
           {
            "colorbar": {
             "outlinewidth": 0,
             "ticks": ""
            },
            "colorscale": [
             [
              0,
              "#0d0887"
             ],
             [
              0.1111111111111111,
              "#46039f"
             ],
             [
              0.2222222222222222,
              "#7201a8"
             ],
             [
              0.3333333333333333,
              "#9c179e"
             ],
             [
              0.4444444444444444,
              "#bd3786"
             ],
             [
              0.5555555555555556,
              "#d8576b"
             ],
             [
              0.6666666666666666,
              "#ed7953"
             ],
             [
              0.7777777777777778,
              "#fb9f3a"
             ],
             [
              0.8888888888888888,
              "#fdca26"
             ],
             [
              1,
              "#f0f921"
             ]
            ],
            "type": "histogram2dcontour"
           }
          ],
          "mesh3d": [
           {
            "colorbar": {
             "outlinewidth": 0,
             "ticks": ""
            },
            "type": "mesh3d"
           }
          ],
          "parcoords": [
           {
            "line": {
             "colorbar": {
              "outlinewidth": 0,
              "ticks": ""
             }
            },
            "type": "parcoords"
           }
          ],
          "pie": [
           {
            "automargin": true,
            "type": "pie"
           }
          ],
          "scatter": [
           {
            "fillpattern": {
             "fillmode": "overlay",
             "size": 10,
             "solidity": 0.2
            },
            "type": "scatter"
           }
          ],
          "scatter3d": [
           {
            "line": {
             "colorbar": {
              "outlinewidth": 0,
              "ticks": ""
             }
            },
            "marker": {
             "colorbar": {
              "outlinewidth": 0,
              "ticks": ""
             }
            },
            "type": "scatter3d"
           }
          ],
          "scattercarpet": [
           {
            "marker": {
             "colorbar": {
              "outlinewidth": 0,
              "ticks": ""
             }
            },
            "type": "scattercarpet"
           }
          ],
          "scattergeo": [
           {
            "marker": {
             "colorbar": {
              "outlinewidth": 0,
              "ticks": ""
             }
            },
            "type": "scattergeo"
           }
          ],
          "scattergl": [
           {
            "marker": {
             "colorbar": {
              "outlinewidth": 0,
              "ticks": ""
             }
            },
            "type": "scattergl"
           }
          ],
          "scattermapbox": [
           {
            "marker": {
             "colorbar": {
              "outlinewidth": 0,
              "ticks": ""
             }
            },
            "type": "scattermapbox"
           }
          ],
          "scatterpolar": [
           {
            "marker": {
             "colorbar": {
              "outlinewidth": 0,
              "ticks": ""
             }
            },
            "type": "scatterpolar"
           }
          ],
          "scatterpolargl": [
           {
            "marker": {
             "colorbar": {
              "outlinewidth": 0,
              "ticks": ""
             }
            },
            "type": "scatterpolargl"
           }
          ],
          "scatterternary": [
           {
            "marker": {
             "colorbar": {
              "outlinewidth": 0,
              "ticks": ""
             }
            },
            "type": "scatterternary"
           }
          ],
          "surface": [
           {
            "colorbar": {
             "outlinewidth": 0,
             "ticks": ""
            },
            "colorscale": [
             [
              0,
              "#0d0887"
             ],
             [
              0.1111111111111111,
              "#46039f"
             ],
             [
              0.2222222222222222,
              "#7201a8"
             ],
             [
              0.3333333333333333,
              "#9c179e"
             ],
             [
              0.4444444444444444,
              "#bd3786"
             ],
             [
              0.5555555555555556,
              "#d8576b"
             ],
             [
              0.6666666666666666,
              "#ed7953"
             ],
             [
              0.7777777777777778,
              "#fb9f3a"
             ],
             [
              0.8888888888888888,
              "#fdca26"
             ],
             [
              1,
              "#f0f921"
             ]
            ],
            "type": "surface"
           }
          ],
          "table": [
           {
            "cells": {
             "fill": {
              "color": "#EBF0F8"
             },
             "line": {
              "color": "white"
             }
            },
            "header": {
             "fill": {
              "color": "#C8D4E3"
             },
             "line": {
              "color": "white"
             }
            },
            "type": "table"
           }
          ]
         },
         "layout": {
          "annotationdefaults": {
           "arrowcolor": "#2a3f5f",
           "arrowhead": 0,
           "arrowwidth": 1
          },
          "autotypenumbers": "strict",
          "coloraxis": {
           "colorbar": {
            "outlinewidth": 0,
            "ticks": ""
           }
          },
          "colorscale": {
           "diverging": [
            [
             0,
             "#8e0152"
            ],
            [
             0.1,
             "#c51b7d"
            ],
            [
             0.2,
             "#de77ae"
            ],
            [
             0.3,
             "#f1b6da"
            ],
            [
             0.4,
             "#fde0ef"
            ],
            [
             0.5,
             "#f7f7f7"
            ],
            [
             0.6,
             "#e6f5d0"
            ],
            [
             0.7,
             "#b8e186"
            ],
            [
             0.8,
             "#7fbc41"
            ],
            [
             0.9,
             "#4d9221"
            ],
            [
             1,
             "#276419"
            ]
           ],
           "sequential": [
            [
             0,
             "#0d0887"
            ],
            [
             0.1111111111111111,
             "#46039f"
            ],
            [
             0.2222222222222222,
             "#7201a8"
            ],
            [
             0.3333333333333333,
             "#9c179e"
            ],
            [
             0.4444444444444444,
             "#bd3786"
            ],
            [
             0.5555555555555556,
             "#d8576b"
            ],
            [
             0.6666666666666666,
             "#ed7953"
            ],
            [
             0.7777777777777778,
             "#fb9f3a"
            ],
            [
             0.8888888888888888,
             "#fdca26"
            ],
            [
             1,
             "#f0f921"
            ]
           ],
           "sequentialminus": [
            [
             0,
             "#0d0887"
            ],
            [
             0.1111111111111111,
             "#46039f"
            ],
            [
             0.2222222222222222,
             "#7201a8"
            ],
            [
             0.3333333333333333,
             "#9c179e"
            ],
            [
             0.4444444444444444,
             "#bd3786"
            ],
            [
             0.5555555555555556,
             "#d8576b"
            ],
            [
             0.6666666666666666,
             "#ed7953"
            ],
            [
             0.7777777777777778,
             "#fb9f3a"
            ],
            [
             0.8888888888888888,
             "#fdca26"
            ],
            [
             1,
             "#f0f921"
            ]
           ]
          },
          "colorway": [
           "#636efa",
           "#EF553B",
           "#00cc96",
           "#ab63fa",
           "#FFA15A",
           "#19d3f3",
           "#FF6692",
           "#B6E880",
           "#FF97FF",
           "#FECB52"
          ],
          "font": {
           "color": "#2a3f5f"
          },
          "geo": {
           "bgcolor": "white",
           "lakecolor": "white",
           "landcolor": "#E5ECF6",
           "showlakes": true,
           "showland": true,
           "subunitcolor": "white"
          },
          "hoverlabel": {
           "align": "left"
          },
          "hovermode": "closest",
          "mapbox": {
           "style": "light"
          },
          "paper_bgcolor": "white",
          "plot_bgcolor": "#E5ECF6",
          "polar": {
           "angularaxis": {
            "gridcolor": "white",
            "linecolor": "white",
            "ticks": ""
           },
           "bgcolor": "#E5ECF6",
           "radialaxis": {
            "gridcolor": "white",
            "linecolor": "white",
            "ticks": ""
           }
          },
          "scene": {
           "xaxis": {
            "backgroundcolor": "#E5ECF6",
            "gridcolor": "white",
            "gridwidth": 2,
            "linecolor": "white",
            "showbackground": true,
            "ticks": "",
            "zerolinecolor": "white"
           },
           "yaxis": {
            "backgroundcolor": "#E5ECF6",
            "gridcolor": "white",
            "gridwidth": 2,
            "linecolor": "white",
            "showbackground": true,
            "ticks": "",
            "zerolinecolor": "white"
           },
           "zaxis": {
            "backgroundcolor": "#E5ECF6",
            "gridcolor": "white",
            "gridwidth": 2,
            "linecolor": "white",
            "showbackground": true,
            "ticks": "",
            "zerolinecolor": "white"
           }
          },
          "shapedefaults": {
           "line": {
            "color": "#2a3f5f"
           }
          },
          "ternary": {
           "aaxis": {
            "gridcolor": "white",
            "linecolor": "white",
            "ticks": ""
           },
           "baxis": {
            "gridcolor": "white",
            "linecolor": "white",
            "ticks": ""
           },
           "bgcolor": "#E5ECF6",
           "caxis": {
            "gridcolor": "white",
            "linecolor": "white",
            "ticks": ""
           }
          },
          "title": {
           "x": 0.05
          },
          "xaxis": {
           "automargin": true,
           "gridcolor": "white",
           "linecolor": "white",
           "ticks": "",
           "title": {
            "standoff": 15
           },
           "zerolinecolor": "white",
           "zerolinewidth": 2
          },
          "yaxis": {
           "automargin": true,
           "gridcolor": "white",
           "linecolor": "white",
           "ticks": "",
           "title": {
            "standoff": 15
           },
           "zerolinecolor": "white",
           "zerolinewidth": 2
          }
         }
        },
        "title": {
         "text": "Anteile von Energiesystemen in fertiggestellten Wohnungen in Wohngebäuden in       Mayen-Koblenz, Landkreis"
        },
        "xaxis": {
         "autorange": true,
         "range": [
          2015.5,
          2020.5
         ],
         "type": "linear"
        },
        "yaxis": {
         "autorange": true,
         "range": [
          0,
          105.26315789473685
         ],
         "type": "linear"
        }
       }
      },
      "image/png": "[encoded data removed]"
     },
     "metadata": {},
     "output_type": "display_data"
    },
    {
     "data": {
      "application/vnd.plotly.v1+json": {
       "config": {
        "plotlyServerURL": "https://plot.ly"
       },
       "data": [
        {
         "line": {
          "color": "#636EFA"
         },
         "mode": "lines",
         "name": "Keine Energie (einschl. Passivhaus)",
         "type": "scatter",
         "x": [
          2016,
          2017,
          2018,
          2019,
          2020
         ],
         "y": [
          0.1818181818181818,
          0,
          0,
          0.1715265866209262,
          0
         ]
        },
        {
         "line": {
          "color": "#EF553B"
         },
         "mode": "lines",
         "name": "Öl",
         "type": "scatter",
         "x": [
          2016,
          2017,
          2018,
          2019,
          2020
         ],
         "y": [
          0.7272727272727273,
          0.5856515373352855,
          0.2932551319648094,
          0.1715265866209262,
          0
         ]
        },
        {
         "line": {
          "color": "#00CC96"
         },
         "mode": "lines",
         "name": "Gas",
         "type": "scatter",
         "x": [
          2016,
          2017,
          2018,
          2019,
          2020
         ],
         "y": [
          63.81818181818182,
          57.83308931185944,
          49.120234604105576,
          42.88164665523156,
          35.239567233384854
         ]
        },
        {
         "line": {
          "color": "#AB63FA"
         },
         "mode": "lines",
         "name": "Strom",
         "type": "scatter",
         "x": [
          2016,
          2017,
          2018,
          2019,
          2020
         ],
         "y": [
          3.4545454545454546,
          4.24597364568082,
          3.6656891495601176,
          2.401372212692967,
          6.0278207109737245
         ]
        },
        {
         "line": {
          "color": "#FFA15A"
         },
         "mode": "lines",
         "name": "Fernwärme/Fernkälte",
         "type": "scatter",
         "x": [
          2016,
          2017,
          2018,
          2019,
          2020
         ],
         "y": [
          0,
          2.1961932650073206,
          5.865102639296188,
          0.3430531732418524,
          2.472952086553323
         ]
        },
        {
         "line": {
          "color": "#19D3F3"
         },
         "mode": "lines",
         "name": "Geothermie",
         "type": "scatter",
         "x": [
          2016,
          2017,
          2018,
          2019,
          2020
         ],
         "y": [
          5.636363636363637,
          7.320644216691069,
          4.98533724340176,
          14.408233276157803,
          6.33693972179289
         ]
        },
        {
         "line": {
          "color": "#FF6692"
         },
         "mode": "lines",
         "name": "Umweltthermie (Luft/Wasser)",
         "type": "scatter",
         "x": [
          2016,
          2017,
          2018,
          2019,
          2020
         ],
         "y": [
          22.181818181818183,
          23.133235724743777,
          30.205278592375368,
          36.87821612349914,
          48.37712519319938
         ]
        },
        {
         "line": {
          "color": "#B6E880"
         },
         "mode": "lines",
         "name": "Solarthermie",
         "type": "scatter",
         "x": [
          2016,
          2017,
          2018,
          2019,
          2020
         ],
         "y": [
          0.3636363636363636,
          0,
          1.0263929618768328,
          1.0291595197255576,
          0.463678516228748
         ]
        },
        {
         "line": {
          "color": "#FF97FF"
         },
         "mode": "lines",
         "name": "Holz",
         "type": "scatter",
         "x": [
          2016,
          2017,
          2018,
          2019,
          2020
         ],
         "y": [
          0.5454545454545455,
          1.610541727672035,
          3.6656891495601176,
          1.5437392795883362,
          0.7727975270479135
         ]
        },
        {
         "line": {
          "color": "#FECB52"
         },
         "mode": "lines",
         "name": "Biogas/Biomethan",
         "type": "scatter",
         "x": [
          2016,
          2017,
          2018,
          2019,
          2020
         ],
         "y": [
          0,
          0,
          0,
          0,
          0
         ]
        },
        {
         "line": {
          "color": "#636EFA"
         },
         "mode": "lines",
         "name": "Sonstige Biomasse",
         "type": "scatter",
         "x": [
          2016,
          2017,
          2018,
          2019,
          2020
         ],
         "y": [
          2.909090909090909,
          3.074670571010249,
          1.0263929618768328,
          0,
          0.3091190108191654
         ]
        },
        {
         "line": {
          "color": "#EF553B"
         },
         "mode": "lines",
         "name": "Sonstige Heizenergie",
         "type": "scatter",
         "x": [
          2016,
          2017,
          2018,
          2019,
          2020
         ],
         "y": [
          0.1818181818181818,
          0,
          0.1466275659824047,
          0.1715265866209262,
          0
         ]
        }
       ],
       "layout": {
        "autosize": true,
        "template": {
         "data": {
          "bar": [
           {
            "error_x": {
             "color": "#2a3f5f"
            },
            "error_y": {
             "color": "#2a3f5f"
            },
            "marker": {
             "line": {
              "color": "#E5ECF6",
              "width": 0.5
             },
             "pattern": {
              "fillmode": "overlay",
              "size": 10,
              "solidity": 0.2
             }
            },
            "type": "bar"
           }
          ],
          "barpolar": [
           {
            "marker": {
             "line": {
              "color": "#E5ECF6",
              "width": 0.5
             },
             "pattern": {
              "fillmode": "overlay",
              "size": 10,
              "solidity": 0.2
             }
            },
            "type": "barpolar"
           }
          ],
          "carpet": [
           {
            "aaxis": {
             "endlinecolor": "#2a3f5f",
             "gridcolor": "white",
             "linecolor": "white",
             "minorgridcolor": "white",
             "startlinecolor": "#2a3f5f"
            },
            "baxis": {
             "endlinecolor": "#2a3f5f",
             "gridcolor": "white",
             "linecolor": "white",
             "minorgridcolor": "white",
             "startlinecolor": "#2a3f5f"
            },
            "type": "carpet"
           }
          ],
          "choropleth": [
           {
            "colorbar": {
             "outlinewidth": 0,
             "ticks": ""
            },
            "type": "choropleth"
           }
          ],
          "contour": [
           {
            "colorbar": {
             "outlinewidth": 0,
             "ticks": ""
            },
            "colorscale": [
             [
              0,
              "#0d0887"
             ],
             [
              0.1111111111111111,
              "#46039f"
             ],
             [
              0.2222222222222222,
              "#7201a8"
             ],
             [
              0.3333333333333333,
              "#9c179e"
             ],
             [
              0.4444444444444444,
              "#bd3786"
             ],
             [
              0.5555555555555556,
              "#d8576b"
             ],
             [
              0.6666666666666666,
              "#ed7953"
             ],
             [
              0.7777777777777778,
              "#fb9f3a"
             ],
             [
              0.8888888888888888,
              "#fdca26"
             ],
             [
              1,
              "#f0f921"
             ]
            ],
            "type": "contour"
           }
          ],
          "contourcarpet": [
           {
            "colorbar": {
             "outlinewidth": 0,
             "ticks": ""
            },
            "type": "contourcarpet"
           }
          ],
          "heatmap": [
           {
            "colorbar": {
             "outlinewidth": 0,
             "ticks": ""
            },
            "colorscale": [
             [
              0,
              "#0d0887"
             ],
             [
              0.1111111111111111,
              "#46039f"
             ],
             [
              0.2222222222222222,
              "#7201a8"
             ],
             [
              0.3333333333333333,
              "#9c179e"
             ],
             [
              0.4444444444444444,
              "#bd3786"
             ],
             [
              0.5555555555555556,
              "#d8576b"
             ],
             [
              0.6666666666666666,
              "#ed7953"
             ],
             [
              0.7777777777777778,
              "#fb9f3a"
             ],
             [
              0.8888888888888888,
              "#fdca26"
             ],
             [
              1,
              "#f0f921"
             ]
            ],
            "type": "heatmap"
           }
          ],
          "heatmapgl": [
           {
            "colorbar": {
             "outlinewidth": 0,
             "ticks": ""
            },
            "colorscale": [
             [
              0,
              "#0d0887"
             ],
             [
              0.1111111111111111,
              "#46039f"
             ],
             [
              0.2222222222222222,
              "#7201a8"
             ],
             [
              0.3333333333333333,
              "#9c179e"
             ],
             [
              0.4444444444444444,
              "#bd3786"
             ],
             [
              0.5555555555555556,
              "#d8576b"
             ],
             [
              0.6666666666666666,
              "#ed7953"
             ],
             [
              0.7777777777777778,
              "#fb9f3a"
             ],
             [
              0.8888888888888888,
              "#fdca26"
             ],
             [
              1,
              "#f0f921"
             ]
            ],
            "type": "heatmapgl"
           }
          ],
          "histogram": [
           {
            "marker": {
             "pattern": {
              "fillmode": "overlay",
              "size": 10,
              "solidity": 0.2
             }
            },
            "type": "histogram"
           }
          ],
          "histogram2d": [
           {
            "colorbar": {
             "outlinewidth": 0,
             "ticks": ""
            },
            "colorscale": [
             [
              0,
              "#0d0887"
             ],
             [
              0.1111111111111111,
              "#46039f"
             ],
             [
              0.2222222222222222,
              "#7201a8"
             ],
             [
              0.3333333333333333,
              "#9c179e"
             ],
             [
              0.4444444444444444,
              "#bd3786"
             ],
             [
              0.5555555555555556,
              "#d8576b"
             ],
             [
              0.6666666666666666,
              "#ed7953"
             ],
             [
              0.7777777777777778,
              "#fb9f3a"
             ],
             [
              0.8888888888888888,
              "#fdca26"
             ],
             [
              1,
              "#f0f921"
             ]
            ],
            "type": "histogram2d"
           }
          ],
          "histogram2dcontour": [
           {
            "colorbar": {
             "outlinewidth": 0,
             "ticks": ""
            },
            "colorscale": [
             [
              0,
              "#0d0887"
             ],
             [
              0.1111111111111111,
              "#46039f"
             ],
             [
              0.2222222222222222,
              "#7201a8"
             ],
             [
              0.3333333333333333,
              "#9c179e"
             ],
             [
              0.4444444444444444,
              "#bd3786"
             ],
             [
              0.5555555555555556,
              "#d8576b"
             ],
             [
              0.6666666666666666,
              "#ed7953"
             ],
             [
              0.7777777777777778,
              "#fb9f3a"
             ],
             [
              0.8888888888888888,
              "#fdca26"
             ],
             [
              1,
              "#f0f921"
             ]
            ],
            "type": "histogram2dcontour"
           }
          ],
          "mesh3d": [
           {
            "colorbar": {
             "outlinewidth": 0,
             "ticks": ""
            },
            "type": "mesh3d"
           }
          ],
          "parcoords": [
           {
            "line": {
             "colorbar": {
              "outlinewidth": 0,
              "ticks": ""
             }
            },
            "type": "parcoords"
           }
          ],
          "pie": [
           {
            "automargin": true,
            "type": "pie"
           }
          ],
          "scatter": [
           {
            "fillpattern": {
             "fillmode": "overlay",
             "size": 10,
             "solidity": 0.2
            },
            "type": "scatter"
           }
          ],
          "scatter3d": [
           {
            "line": {
             "colorbar": {
              "outlinewidth": 0,
              "ticks": ""
             }
            },
            "marker": {
             "colorbar": {
              "outlinewidth": 0,
              "ticks": ""
             }
            },
            "type": "scatter3d"
           }
          ],
          "scattercarpet": [
           {
            "marker": {
             "colorbar": {
              "outlinewidth": 0,
              "ticks": ""
             }
            },
            "type": "scattercarpet"
           }
          ],
          "scattergeo": [
           {
            "marker": {
             "colorbar": {
              "outlinewidth": 0,
              "ticks": ""
             }
            },
            "type": "scattergeo"
           }
          ],
          "scattergl": [
           {
            "marker": {
             "colorbar": {
              "outlinewidth": 0,
              "ticks": ""
             }
            },
            "type": "scattergl"
           }
          ],
          "scattermapbox": [
           {
            "marker": {
             "colorbar": {
              "outlinewidth": 0,
              "ticks": ""
             }
            },
            "type": "scattermapbox"
           }
          ],
          "scatterpolar": [
           {
            "marker": {
             "colorbar": {
              "outlinewidth": 0,
              "ticks": ""
             }
            },
            "type": "scatterpolar"
           }
          ],
          "scatterpolargl": [
           {
            "marker": {
             "colorbar": {
              "outlinewidth": 0,
              "ticks": ""
             }
            },
            "type": "scatterpolargl"
           }
          ],
          "scatterternary": [
           {
            "marker": {
             "colorbar": {
              "outlinewidth": 0,
              "ticks": ""
             }
            },
            "type": "scatterternary"
           }
          ],
          "surface": [
           {
            "colorbar": {
             "outlinewidth": 0,
             "ticks": ""
            },
            "colorscale": [
             [
              0,
              "#0d0887"
             ],
             [
              0.1111111111111111,
              "#46039f"
             ],
             [
              0.2222222222222222,
              "#7201a8"
             ],
             [
              0.3333333333333333,
              "#9c179e"
             ],
             [
              0.4444444444444444,
              "#bd3786"
             ],
             [
              0.5555555555555556,
              "#d8576b"
             ],
             [
              0.6666666666666666,
              "#ed7953"
             ],
             [
              0.7777777777777778,
              "#fb9f3a"
             ],
             [
              0.8888888888888888,
              "#fdca26"
             ],
             [
              1,
              "#f0f921"
             ]
            ],
            "type": "surface"
           }
          ],
          "table": [
           {
            "cells": {
             "fill": {
              "color": "#EBF0F8"
             },
             "line": {
              "color": "white"
             }
            },
            "header": {
             "fill": {
              "color": "#C8D4E3"
             },
             "line": {
              "color": "white"
             }
            },
            "type": "table"
           }
          ]
         },
         "layout": {
          "annotationdefaults": {
           "arrowcolor": "#2a3f5f",
           "arrowhead": 0,
           "arrowwidth": 1
          },
          "autotypenumbers": "strict",
          "coloraxis": {
           "colorbar": {
            "outlinewidth": 0,
            "ticks": ""
           }
          },
          "colorscale": {
           "diverging": [
            [
             0,
             "#8e0152"
            ],
            [
             0.1,
             "#c51b7d"
            ],
            [
             0.2,
             "#de77ae"
            ],
            [
             0.3,
             "#f1b6da"
            ],
            [
             0.4,
             "#fde0ef"
            ],
            [
             0.5,
             "#f7f7f7"
            ],
            [
             0.6,
             "#e6f5d0"
            ],
            [
             0.7,
             "#b8e186"
            ],
            [
             0.8,
             "#7fbc41"
            ],
            [
             0.9,
             "#4d9221"
            ],
            [
             1,
             "#276419"
            ]
           ],
           "sequential": [
            [
             0,
             "#0d0887"
            ],
            [
             0.1111111111111111,
             "#46039f"
            ],
            [
             0.2222222222222222,
             "#7201a8"
            ],
            [
             0.3333333333333333,
             "#9c179e"
            ],
            [
             0.4444444444444444,
             "#bd3786"
            ],
            [
             0.5555555555555556,
             "#d8576b"
            ],
            [
             0.6666666666666666,
             "#ed7953"
            ],
            [
             0.7777777777777778,
             "#fb9f3a"
            ],
            [
             0.8888888888888888,
             "#fdca26"
            ],
            [
             1,
             "#f0f921"
            ]
           ],
           "sequentialminus": [
            [
             0,
             "#0d0887"
            ],
            [
             0.1111111111111111,
             "#46039f"
            ],
            [
             0.2222222222222222,
             "#7201a8"
            ],
            [
             0.3333333333333333,
             "#9c179e"
            ],
            [
             0.4444444444444444,
             "#bd3786"
            ],
            [
             0.5555555555555556,
             "#d8576b"
            ],
            [
             0.6666666666666666,
             "#ed7953"
            ],
            [
             0.7777777777777778,
             "#fb9f3a"
            ],
            [
             0.8888888888888888,
             "#fdca26"
            ],
            [
             1,
             "#f0f921"
            ]
           ]
          },
          "colorway": [
           "#636efa",
           "#EF553B",
           "#00cc96",
           "#ab63fa",
           "#FFA15A",
           "#19d3f3",
           "#FF6692",
           "#B6E880",
           "#FF97FF",
           "#FECB52"
          ],
          "font": {
           "color": "#2a3f5f"
          },
          "geo": {
           "bgcolor": "white",
           "lakecolor": "white",
           "landcolor": "#E5ECF6",
           "showlakes": true,
           "showland": true,
           "subunitcolor": "white"
          },
          "hoverlabel": {
           "align": "left"
          },
          "hovermode": "closest",
          "mapbox": {
           "style": "light"
          },
          "paper_bgcolor": "white",
          "plot_bgcolor": "#E5ECF6",
          "polar": {
           "angularaxis": {
            "gridcolor": "white",
            "linecolor": "white",
            "ticks": ""
           },
           "bgcolor": "#E5ECF6",
           "radialaxis": {
            "gridcolor": "white",
            "linecolor": "white",
            "ticks": ""
           }
          },
          "scene": {
           "xaxis": {
            "backgroundcolor": "#E5ECF6",
            "gridcolor": "white",
            "gridwidth": 2,
            "linecolor": "white",
            "showbackground": true,
            "ticks": "",
            "zerolinecolor": "white"
           },
           "yaxis": {
            "backgroundcolor": "#E5ECF6",
            "gridcolor": "white",
            "gridwidth": 2,
            "linecolor": "white",
            "showbackground": true,
            "ticks": "",
            "zerolinecolor": "white"
           },
           "zaxis": {
            "backgroundcolor": "#E5ECF6",
            "gridcolor": "white",
            "gridwidth": 2,
            "linecolor": "white",
            "showbackground": true,
            "ticks": "",
            "zerolinecolor": "white"
           }
          },
          "shapedefaults": {
           "line": {
            "color": "#2a3f5f"
           }
          },
          "ternary": {
           "aaxis": {
            "gridcolor": "white",
            "linecolor": "white",
            "ticks": ""
           },
           "baxis": {
            "gridcolor": "white",
            "linecolor": "white",
            "ticks": ""
           },
           "bgcolor": "#E5ECF6",
           "caxis": {
            "gridcolor": "white",
            "linecolor": "white",
            "ticks": ""
           }
          },
          "title": {
           "x": 0.05
          },
          "xaxis": {
           "automargin": true,
           "gridcolor": "white",
           "linecolor": "white",
           "ticks": "",
           "title": {
            "standoff": 15
           },
           "zerolinecolor": "white",
           "zerolinewidth": 2
          },
          "yaxis": {
           "automargin": true,
           "gridcolor": "white",
           "linecolor": "white",
           "ticks": "",
           "title": {
            "standoff": 15
           },
           "zerolinecolor": "white",
           "zerolinewidth": 2
          }
         }
        },
        "xaxis": {
         "autorange": true,
         "range": [
          2016,
          2020
         ],
         "type": "linear"
        },
        "yaxis": {
         "autorange": true,
         "range": [
          -3.545454545454546,
          67.36363636363636
         ],
         "type": "linear"
        }
       }
      },
      "image/png": "[encoded data removed]"
     },
     "metadata": {},
     "output_type": "display_data"
    },
    {
     "data": {
      "text/html": [
       "<div>\n",
       "<style scoped>\n",
       "    .dataframe tbody tr th:only-of-type {\n",
       "        vertical-align: middle;\n",
       "    }\n",
       "\n",
       "    .dataframe tbody tr th {\n",
       "        vertical-align: top;\n",
       "    }\n",
       "\n",
       "    .dataframe thead th {\n",
       "        text-align: right;\n",
       "    }\n",
       "</style>\n",
       "<table border=\"1\" class=\"dataframe\">\n",
       "  <thead>\n",
       "    <tr style=\"text-align: right;\">\n",
       "      <th>year</th>\n",
       "      <th>energy</th>\n",
       "      <th>2016</th>\n",
       "      <th>2017</th>\n",
       "      <th>2018</th>\n",
       "      <th>2019</th>\n",
       "      <th>2020</th>\n",
       "    </tr>\n",
       "  </thead>\n",
       "  <tbody>\n",
       "    <tr>\n",
       "      <th>0</th>\n",
       "      <td>Biogas/Biomethan</td>\n",
       "      <td>0.000000</td>\n",
       "      <td>0.000000</td>\n",
       "      <td>0.000000</td>\n",
       "      <td>0.000000</td>\n",
       "      <td>0.000000</td>\n",
       "    </tr>\n",
       "    <tr>\n",
       "      <th>1</th>\n",
       "      <td>Fernwärme/Fernkälte</td>\n",
       "      <td>0.000000</td>\n",
       "      <td>2.196193</td>\n",
       "      <td>5.865103</td>\n",
       "      <td>0.343053</td>\n",
       "      <td>2.472952</td>\n",
       "    </tr>\n",
       "    <tr>\n",
       "      <th>2</th>\n",
       "      <td>Gas</td>\n",
       "      <td>63.818182</td>\n",
       "      <td>57.833089</td>\n",
       "      <td>49.120235</td>\n",
       "      <td>42.881647</td>\n",
       "      <td>35.239567</td>\n",
       "    </tr>\n",
       "    <tr>\n",
       "      <th>3</th>\n",
       "      <td>Geothermie</td>\n",
       "      <td>5.636364</td>\n",
       "      <td>7.320644</td>\n",
       "      <td>4.985337</td>\n",
       "      <td>14.408233</td>\n",
       "      <td>6.336940</td>\n",
       "    </tr>\n",
       "    <tr>\n",
       "      <th>4</th>\n",
       "      <td>Holz</td>\n",
       "      <td>0.545455</td>\n",
       "      <td>1.610542</td>\n",
       "      <td>3.665689</td>\n",
       "      <td>1.543739</td>\n",
       "      <td>0.772798</td>\n",
       "    </tr>\n",
       "    <tr>\n",
       "      <th>5</th>\n",
       "      <td>Insgesamt</td>\n",
       "      <td>100.000000</td>\n",
       "      <td>100.000000</td>\n",
       "      <td>100.000000</td>\n",
       "      <td>100.000000</td>\n",
       "      <td>100.000000</td>\n",
       "    </tr>\n",
       "    <tr>\n",
       "      <th>6</th>\n",
       "      <td>Keine Energie (einschl. Passivhaus)</td>\n",
       "      <td>0.181818</td>\n",
       "      <td>0.000000</td>\n",
       "      <td>0.000000</td>\n",
       "      <td>0.171527</td>\n",
       "      <td>0.000000</td>\n",
       "    </tr>\n",
       "    <tr>\n",
       "      <th>7</th>\n",
       "      <td>Solarthermie</td>\n",
       "      <td>0.363636</td>\n",
       "      <td>0.000000</td>\n",
       "      <td>1.026393</td>\n",
       "      <td>1.029160</td>\n",
       "      <td>0.463679</td>\n",
       "    </tr>\n",
       "    <tr>\n",
       "      <th>8</th>\n",
       "      <td>Sonstige Biomasse</td>\n",
       "      <td>2.909091</td>\n",
       "      <td>3.074671</td>\n",
       "      <td>1.026393</td>\n",
       "      <td>0.000000</td>\n",
       "      <td>0.309119</td>\n",
       "    </tr>\n",
       "    <tr>\n",
       "      <th>9</th>\n",
       "      <td>Sonstige Heizenergie</td>\n",
       "      <td>0.181818</td>\n",
       "      <td>0.000000</td>\n",
       "      <td>0.146628</td>\n",
       "      <td>0.171527</td>\n",
       "      <td>0.000000</td>\n",
       "    </tr>\n",
       "    <tr>\n",
       "      <th>10</th>\n",
       "      <td>Strom</td>\n",
       "      <td>3.454545</td>\n",
       "      <td>4.245974</td>\n",
       "      <td>3.665689</td>\n",
       "      <td>2.401372</td>\n",
       "      <td>6.027821</td>\n",
       "    </tr>\n",
       "    <tr>\n",
       "      <th>11</th>\n",
       "      <td>Umweltthermie (Luft/Wasser)</td>\n",
       "      <td>22.181818</td>\n",
       "      <td>23.133236</td>\n",
       "      <td>30.205279</td>\n",
       "      <td>36.878216</td>\n",
       "      <td>48.377125</td>\n",
       "    </tr>\n",
       "    <tr>\n",
       "      <th>12</th>\n",
       "      <td>Öl</td>\n",
       "      <td>0.727273</td>\n",
       "      <td>0.585652</td>\n",
       "      <td>0.293255</td>\n",
       "      <td>0.171527</td>\n",
       "      <td>0.000000</td>\n",
       "    </tr>\n",
       "  </tbody>\n",
       "</table>\n",
       "</div>"
      ],
      "text/plain": [
       "year                               energy        2016        2017        2018  \\\n",
       "0                        Biogas/Biomethan    0.000000    0.000000    0.000000   \n",
       "1                     Fernwärme/Fernkälte    0.000000    2.196193    5.865103   \n",
       "2                                     Gas   63.818182   57.833089   49.120235   \n",
       "3                              Geothermie    5.636364    7.320644    4.985337   \n",
       "4                                    Holz    0.545455    1.610542    3.665689   \n",
       "5                               Insgesamt  100.000000  100.000000  100.000000   \n",
       "6     Keine Energie (einschl. Passivhaus)    0.181818    0.000000    0.000000   \n",
       "7                            Solarthermie    0.363636    0.000000    1.026393   \n",
       "8                       Sonstige Biomasse    2.909091    3.074671    1.026393   \n",
       "9                    Sonstige Heizenergie    0.181818    0.000000    0.146628   \n",
       "10                                  Strom    3.454545    4.245974    3.665689   \n",
       "11            Umweltthermie (Luft/Wasser)   22.181818   23.133236   30.205279   \n",
       "12                                     Öl    0.727273    0.585652    0.293255   \n",
       "\n",
       "year        2019        2020  \n",
       "0       0.000000    0.000000  \n",
       "1       0.343053    2.472952  \n",
       "2      42.881647   35.239567  \n",
       "3      14.408233    6.336940  \n",
       "4       1.543739    0.772798  \n",
       "5     100.000000  100.000000  \n",
       "6       0.171527    0.000000  \n",
       "7       1.029160    0.463679  \n",
       "8       0.000000    0.309119  \n",
       "9       0.171527    0.000000  \n",
       "10      2.401372    6.027821  \n",
       "11     36.878216   48.377125  \n",
       "12      0.171527    0.000000  "
      ]
     },
     "execution_count": 8,
     "metadata": {},
     "output_type": "execute_result"
    }
   ],
   "source": [
    "#plot_heating_timeseries(df_kreise[df_kreise[\"Ort_Auspraegung_Code\"] == 1001],False,True)\n",
    "# Preparation of Workshop : extract data for \"Mayen-Koblenz\"\n",
    "\n",
    "mk = df_kreise[df_kreise[\"Ort_Auspraegung_Code\"] == 7137]\n",
    "mk.to_csv(\"mayenkoblenz2.csv\")\n",
    "\n",
    "plot_heating(mk,True,True)\n",
    "\n",
    "\n",
    "mk = mk[mk[\"Wohnort_Auspraegung_Label\"] == \"Wohnungen Insgesamt\"]\n",
    "#pivot data\n",
    "pivot = mk.pivot_table(index='energy',columns='year', values=\"flats_anteil\")\n",
    "pivot = pivot.reset_index(level=0)\n",
    "\n",
    "#pivot.to_csv(\"mayenkoblenz_reshpe.csv\")\n",
    "#df_kreise\n",
    "pivot"
   ]
  },
  {
   "cell_type": "code",
   "execution_count": null,
   "metadata": {},
   "outputs": [],
   "source": [
    "\n"
   ]
  },
  {
   "cell_type": "code",
   "execution_count": null,
   "metadata": {},
   "outputs": [],
   "source": [
    "\n",
    "##choose on of those labels\n",
    "#print(\"Auswahl an Wohngebäuden:\")\n",
    "#print(df2_org[\"2_Auspraegung_Label\"].unique())\n",
    "\n",
    "#dataset all of germany\n",
    "df2_org = pd.read_csv(\"data/newbuildings_germany.csv\",delimiter=\";\", encoding='latin1')\n",
    "df2 = df2_org.copy();\n",
    "\n",
    "df2_viz = preprocess_dataset_germany_by_building_type(df2,\"Wohngebäude\")\n",
    "\n",
    "#ploz\n",
    "plot_heating_timeseries(df2_viz)\n"
   ]
  }
 ],
 "metadata": {
  "kernelspec": {
   "display_name": "Python 3 (ipykernel)",
   "language": "python",
   "name": "python3"
  },
  "language_info": {
   "codemirror_mode": {
    "name": "ipython",
    "version": 3
   },
   "file_extension": ".py",
   "mimetype": "text/x-python",
   "name": "python",
   "nbconvert_exporter": "python",
   "pygments_lexer": "ipython3",
   "version": "3.8.12"
  },
  "vscode": {
   "interpreter": {
    "hash": "31f2aee4e71d21fbe5cf8b01ff0e069b9275f58929596ceb00d14d90e3e16cd6"
   }
  }
 },
 "nbformat": 4,
 "nbformat_minor": 4
}
