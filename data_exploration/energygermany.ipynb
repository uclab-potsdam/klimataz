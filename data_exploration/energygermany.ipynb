{
 "cells": [
  {
   "cell_type": "code",
   "execution_count": null,
   "metadata": {},
   "outputs": [],
   "source": [
    "import xml.etree.ElementTree as Xet\n",
    "import pandas as pd\n",
    "  \n",
    "\n",
    "def get_text_from_row(row,name):\n",
    "    val = row.find(name)\n",
    "    if val != None:\n",
    "        val = val.text\n",
    "    return val\n",
    "\n",
    "#I used this data source from 20.05.2022 https://www.marktstammdatenregister.de/MaStR/Datendownload\n",
    "#convert xml files to csv\n",
    "def generate_csv(energy,name):\n",
    "\n",
    "    PATH = \"data/mastr/Einheiten\" + name + \".xml\"\n",
    "\n",
    "    cols = [\"energy\",\"land\",\"bundesland\", \"landkreis\", \"gemeinde\", \"laengengrad\",\"breitengrad\",\"registrierungsdatum\",\"inbetriebnahmedatum\",\"datumEndgueltigeStilllegung\",\"bruttoleistung\",\"nameEinheit\",\"betriebsstatus\",\"energietraeger\"]\n",
    "    rows = []\n",
    "  \n",
    "    # Parsing the XML file\n",
    "    xmlparse = Xet.parse(PATH)\n",
    "    root = xmlparse.getroot()\n",
    "    for i in root:\n",
    "\n",
    "        land = get_text_from_row(i,\"Land\")\n",
    "        bundesland = get_text_from_row(i,\"Bundesland\")\n",
    "        landkreis = get_text_from_row(i,\"Landkreis\")\n",
    "        gemeinde = get_text_from_row(i,\"Gemeinde\")\n",
    "        laengengrad = get_text_from_row(i,\"Laengengrad\")\n",
    "        breitengrad = get_text_from_row(i,\"Breitengrad\")\n",
    "        Registrierungsdatum = get_text_from_row(i,\"Registrierungsdatum\")\n",
    "        Inbetriebnahmedatum = get_text_from_row(i,\"Inbetriebnahmedatum\")\n",
    "        DatumEndgueltigeStilllegung = get_text_from_row(i,\"DatumEndgueltigeStilllegung\")\n",
    "        bruttoleistung = get_text_from_row(i,\"Bruttoleistung\")\n",
    "        nettonennleistung = get_text_from_row(i,\"Nettonennleistung\")\n",
    "        betriebsstatus = get_text_from_row(i,\"EinheitBetriebsstatus\") \n",
    "        energietraeger= get_text_from_row(i,\"Energietraeger\")\n",
    "        #35 = in betrieb\n",
    "        #38 = endgültig stillgelegt\n",
    "        #31 = in planung\n",
    "        #37 = vorübergehend stillgeleft\n",
    "        nameEinheit = get_text_from_row(i,\"NameStromerzeugungseinheit\")\n",
    "\n",
    "    \n",
    "        rows.append({\"energy\":energy,\n",
    "                    \"land\": land,\n",
    "                    \"bundesland\": bundesland,\n",
    "                    \"landkreis\": landkreis,\n",
    "                    \"gemeinde\": gemeinde,\n",
    "                    \"laengengrad\":laengengrad,\n",
    "                    \"breitengrad\":breitengrad,\n",
    "                    \"registrierungsdatum\":Registrierungsdatum,\n",
    "                    \"inbetriebnahmedatum\":Inbetriebnahmedatum,\n",
    "                    \"datumEndgueltigeStilllegung\":DatumEndgueltigeStilllegung,\n",
    "                    \"nameEinheit\":nameEinheit,\n",
    "                    \"bruttoleistung\": bruttoleistung,\n",
    "                    \"nettonennleistung\":nettonennleistung,\n",
    "                    \"betriebsstatus\":betriebsstatus,\n",
    "                    \"energietraeger\":energietraeger})\n",
    "    \n",
    "    df = pd.DataFrame(rows, columns=cols)\n",
    "    OUTPUT_PATH = 'data/mastr/output/' + name + '.csv'\n",
    "    df.to_csv(OUTPUT_PATH)\n",
    "  "
   ]
  },
  {
   "cell_type": "code",
   "execution_count": null,
   "metadata": {},
   "outputs": [],
   "source": [
    "#I did not include Gas, Speicher Units and Consumption Units\n",
    "\n",
    "ENG = \"wind\"\n",
    "NAME = \"Wind\"\n",
    "generate_csv(ENG,NAME)"
   ]
  },
  {
   "cell_type": "code",
   "execution_count": null,
   "metadata": {},
   "outputs": [],
   "source": [
    "NAME = \"wasser\"\n",
    "OUTPUT_PATH = 'data/mastr/output/' + NAME + '.csv'\n",
    "df = pd.read_csv(OUTPUT_PATH)\n",
    "df"
   ]
  },
  {
   "cell_type": "code",
   "execution_count": null,
   "metadata": {},
   "outputs": [],
   "source": [
    "#combine data to one csv about power\n",
    "\n",
    "\n",
    "read_files=[\"Solar_1.csv\",\"Solar_10.csv\",\"Solar_11.csv\",\"Solar_12.csv\",\"Solar_13.csv\",\"Solar_14.csv\",\"Solar_15.csv\",\"Solar_16.csv\",\"Solar_17.csv\",\"Solar_18.csv\",\"Solar_19.csv\",\"Solar_2.csv\",\"Solar_20.csv\",\"Solar_21.csv\",\"Solar_22.csv\",\"Solar_23.csv\",\"Solar_24.csv\",\"Solar_3.csv\",\"Solar_4.csv\",\"Solar_5.csv\",\"Solar_6.csv\",\"Solar_7.csv\",\"Solar_8.csv\",\"Solar_9.csv\",\"Verbrennung.csv\",\"Wasser.csv\",\"Wind.csv\",\"Biomasse.csv\",\"GeoSolarthermieGrubenKlaerschlammDruckentspannung.csv\",\"Kernkraft.csv\"]\n",
    "\n",
    "all_df = []\n",
    "for file in read_files:\n",
    "    path = \"data/mastr/\" + file\n",
    "    df = pd.read_csv(path)\n",
    "    all_df.append(df)\n",
    "\n",
    "concat_table = pd.concat(all_df)\n",
    "concat_table.to_csv(\"data/mastr/powerProductionGermany.csv\")\n"
   ]
  },
  {
   "cell_type": "code",
   "execution_count": null,
   "metadata": {},
   "outputs": [],
   "source": [
    "df_org = pd.read_csv(\"data/mastr/powerProductionGermany.csv\")\n",
    "df_org"
   ]
  }
 ],
 "metadata": {
  "interpreter": {
   "hash": "aee8b7b246df8f9039afb4144a1f6fd8d2ca17a180786b69acc140d282b71a49"
  },
  "kernelspec": {
   "display_name": "Python 3.9.8 64-bit",
   "language": "python",
   "name": "python3"
  },
  "language_info": {
   "codemirror_mode": {
    "name": "ipython",
    "version": 3
   },
   "file_extension": ".py",
   "mimetype": "text/x-python",
   "name": "python",
   "nbconvert_exporter": "python",
   "pygments_lexer": "ipython3",
   "version": "3.9.8"
  },
  "orig_nbformat": 4
 },
 "nbformat": 4,
 "nbformat_minor": 2
}
