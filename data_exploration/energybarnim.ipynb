{
 "cells": [
  {
   "cell_type": "code",
   "execution_count": null,
   "metadata": {},
   "outputs": [],
   "source": [
    "import pandas as pd\n",
    "import plotly.express as px\n",
    "import matplotlib.pyplot as plt\n",
    "import numpy as np\n",
    "\n",
    "#all data from barnim, splitted because of the downloads restriction of the page\n",
    "#https://www.marktstammdatenregister.de/MaStR/Einheit/Einheiten/OeffentlicheEinheitenuebersicht\n",
    "df_solar = pd.read_csv(\"data/Stromerzeuger_solar.csv\", delimiter=';')\n",
    "df_rest = pd.read_csv(\"data/Stromerzeuger_rest.csv\", delimiter=';')\n",
    "frames = [df_solar, df_rest]\n",
    "\n",
    "df_org = pd.concat(frames)\n",
    "df_org"
   ]
  },
  {
   "cell_type": "code",
   "execution_count": null,
   "metadata": {},
   "outputs": [],
   "source": [
    "df = df_org.copy()\n",
    "df.rename(columns={'Betriebs-Status': 'betriebsstatus', 'Energieträger': 'energietraeger','Bruttoleistung der Einheit': 'bruttoleistung','Ort': 'ort','Inbetriebnahmedatum der Einheit': 'datum_inbetriebnahme'}, inplace=True)\n",
    "\n",
    "#only producers currently producing\n",
    "df = df[df.betriebsstatus == \"In Betrieb\"]\n",
    "# for the other ones there is no date when they were shut down, so I excluded them for now\n",
    "\n",
    "#make bruttoleistung numerical\n",
    "df['bruttoleistung'] = df['bruttoleistung'].str.replace(',','.')\n",
    "df['bruttoleistung'] = pd.to_numeric(df['bruttoleistung']) \n",
    "\n",
    "#make date_inbetriebname to datetime\n",
    "df['datum_inbetriebnahme'] = pd.to_datetime(df['datum_inbetriebnahme']) \n",
    "#remove 1921 date\n",
    "df = df[df.datum_inbetriebnahme > '1989-01-01']\n",
    "#extract years\n",
    "df['year'] = df['datum_inbetriebnahme'].dt.year\n",
    "\n",
    "df\n"
   ]
  },
  {
   "cell_type": "code",
   "execution_count": null,
   "metadata": {},
   "outputs": [],
   "source": [
    "# bruttoleistung of different energy producers per location\n",
    "# Create pivot table\n",
    "pivot_table_df = pd.pivot_table(\n",
    "    df,\n",
    "    index='energietraeger',\n",
    "    columns='ort',\n",
    "    values='bruttoleistung',\n",
    "    aggfunc=np.sum,\n",
    "    margins=True\n",
    ")\n",
    "\n",
    "# Sort table\n",
    "pivot_table_df.sort_values(\n",
    "    by=['All'],\n",
    "    inplace=True,\n",
    "    ascending=False\n",
    ")\n",
    "\n",
    "pivot_table_df = pivot_table_df.rename_axis(None).transpose().reset_index(level=0).fillna(0)\n",
    "pivot_table_df = pivot_table_df[pivot_table_df.ort != \"All\"]\n",
    "pivot_table_df\n",
    "\n",
    "fig = px.bar(pivot_table_df, x=\"ort\", y=['Solare Strahlungsenergie','Speicher','Wind','Erdgas','Biomasse','andere Gase','Mineralölprodukte','Wasser'], title=\"Energy Production per Category in Barnim\")\n",
    "fig.show()"
   ]
  },
  {
   "cell_type": "code",
   "execution_count": null,
   "metadata": {},
   "outputs": [],
   "source": [
    "# how many energy things were registered each year in which region? (\"how many\" as in the energy production entitities)\n",
    "\n",
    "year_df = df.filter(['year','energietraeger','bruttoleistung','datum_inbetriebnahme','ort'])\n",
    "year_df = year_df.groupby(['year','energietraeger'], as_index=False).sum()\n",
    "year_df = year_df.reset_index(level=0)\n",
    "#print(year_df)\n",
    "\n",
    "fig2 = px.line(year_df, x=\"year\", y=\"bruttoleistung\",color=\"energietraeger\",markers=True, title=\"New Energy productions per year, using gross power production in Barnim\")\n",
    "fig2.show()\n",
    "\n",
    "#accumulated sum of gross power\n",
    "year_df[\"brutto_total_year\"] = year_df.groupby(\"energietraeger\").bruttoleistung.cumsum()\n",
    "\n",
    "fig2 = px.line(year_df, x=\"year\", y=\"brutto_total_year\",color=\"energietraeger\",markers=True, title=\"New Energy productions per year, using the accumulated gross power production in Barnim\")\n",
    "fig2.show()\n"
   ]
  },
  {
   "cell_type": "code",
   "execution_count": null,
   "metadata": {},
   "outputs": [],
   "source": [
    "df = px.data.gapminder().query(\"continent == 'Oceania'\")\n",
    "print(df)\n",
    "fig = px.line(df, x='year', y='lifeExp', color='country', symbol=\"country\")\n",
    "fig.show()"
   ]
  }
 ],
 "metadata": {
  "interpreter": {
   "hash": "aee8b7b246df8f9039afb4144a1f6fd8d2ca17a180786b69acc140d282b71a49"
  },
  "kernelspec": {
   "display_name": "Python 3.9.8 64-bit",
   "language": "python",
   "name": "python3"
  },
  "language_info": {
   "codemirror_mode": {
    "name": "ipython",
    "version": 3
   },
   "file_extension": ".py",
   "mimetype": "text/x-python",
   "name": "python",
   "nbconvert_exporter": "python",
   "pygments_lexer": "ipython3",
   "version": "3.9.8"
  },
  "orig_nbformat": 4
 },
 "nbformat": 4,
 "nbformat_minor": 2
}
