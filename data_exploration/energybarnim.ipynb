{
 "cells": [
  {
   "cell_type": "code",
   "execution_count": null,
   "metadata": {},
   "outputs": [],
   "source": [
    "import pandas as pd\n",
    "#import plotly.express as px\n",
    "import matplotlib.pyplot as plt\n",
    "import numpy as np\n",
    "\n",
    "#all data from barnim, splitted because of the downloads restriction of the page\n",
    "#https://www.marktstammdatenregister.de/MaStR/Einheit/Einheiten/OeffentlicheEinheitenuebersicht\n",
    "df_solar = pd.read_csv(\"data/Stromerzeuger_solar.csv\", delimiter=';')\n",
    "df_rest = pd.read_csv(\"data/Stromerzeuger_rest.csv\", delimiter=';')\n",
    "frames = [df_solar, df_rest]\n",
    "\n",
    "df_org = pd.concat(frames)\n",
    "df_org"
   ]
  },
  {
   "cell_type": "code",
   "execution_count": null,
   "metadata": {},
   "outputs": [],
   "source": [
    "# bruttoleistung of different energy producers per location\n",
    "\n",
    "df = df_org.copy()\n",
    "df.rename(columns={'Betriebs-Status': 'betriebsstatus', 'Energieträger': 'energietraeger','Bruttoleistung der Einheit': 'bruttoleistung','Ort': 'ort'}, inplace=True)\n",
    "\n",
    "#only producers currently producing\n",
    "df = df[df.betriebsstatus == \"In Betrieb\"]\n",
    "\n",
    "#make bruttoleistung numerical\n",
    "df['bruttoleistung'] = df['bruttoleistung'].str.replace(',','.')\n",
    "df['bruttoleistung'] = pd.to_numeric(df['bruttoleistung']) \n",
    "\n",
    "# Create pivot table\n",
    "pivot_table_df = pd.pivot_table(\n",
    "    df,\n",
    "    index='energietraeger',\n",
    "    columns='ort',\n",
    "    values='bruttoleistung',\n",
    "    aggfunc=np.sum,\n",
    "    margins=True\n",
    ")\n",
    "\n",
    "# Sort table\n",
    "pivot_table_df.sort_values(\n",
    "    by=['All'],\n",
    "    inplace=True,\n",
    "    ascending=False\n",
    ")\n",
    "\n",
    "pivot_table_df = pivot_table_df.rename_axis(None).transpose().reset_index(level=0)\n",
    "pivot_table_df = pivot_table_df[pivot_table_df.ort != \"All\"]\n",
    "pivot_table_df\n"
   ]
  },
  {
   "cell_type": "code",
   "execution_count": 71,
   "metadata": {},
   "outputs": [
    {
     "data": {
      "application/vnd.plotly.v1+json": {
       "config": {
        "plotlyServerURL": "https://plot.ly"
       },
       "data": [
        {
         "alignmentgroup": "True",
         "hovertemplate": "variable=Solare Strahlungsenergie<br>ort=%{x}<br>value=%{y}<extra></extra>",
         "legendgroup": "Solare Strahlungsenergie",
         "marker": {
          "color": "#636efa",
          "pattern": {
           "shape": ""
          }
         },
         "name": "Solare Strahlungsenergie",
         "offsetgroup": "Solare Strahlungsenergie",
         "orientation": "v",
         "showlegend": true,
         "textposition": "auto",
         "type": "bar",
         "x": [
          "Ahrensfelde",
          "Althüttendorf",
          "Bernau",
          "Biesenthal",
          "Breydin",
          "Britz",
          "Chorin",
          "Eberswalde",
          "Friedrichswalde",
          "Hohenfinow",
          "Joachimsthal",
          "Liebenwalde",
          "Liepe",
          "Lunow-Stolzenhagen",
          "Marienwerder",
          "Melchow",
          "Niederfinow",
          "Oderberg",
          "Panketal",
          "Parsteinsee",
          "Rüdnitz",
          "Schorfheide",
          "Sydower Fließ",
          "Templin",
          "Wandlitz",
          "Werneuchen",
          "Ziethen"
         ],
         "xaxis": "x",
         "y": [
          43416.958999999995,
          1896.52,
          10329.809,
          2738.55,
          514.607,
          11298.087,
          4418.201,
          105437.387,
          719.8,
          614.88,
          616.398,
          215.6,
          921.975,
          2799.61,
          1300.816,
          213.605,
          163.245,
          2630.25,
          4481.045,
          2589.03,
          164.89000000000001,
          7578.082,
          849.075,
          3417.585,
          10540.312,
          244270.56,
          114.515
         ],
         "yaxis": "y"
        },
        {
         "alignmentgroup": "True",
         "hovertemplate": "variable=Speicher<br>ort=%{x}<br>value=%{y}<extra></extra>",
         "legendgroup": "Speicher",
         "marker": {
          "color": "#EF553B",
          "pattern": {
           "shape": ""
          }
         },
         "name": "Speicher",
         "offsetgroup": "Speicher",
         "orientation": "v",
         "showlegend": true,
         "textposition": "auto",
         "type": "bar",
         "x": [
          "Ahrensfelde",
          "Althüttendorf",
          "Bernau",
          "Biesenthal",
          "Breydin",
          "Britz",
          "Chorin",
          "Eberswalde",
          "Friedrichswalde",
          "Hohenfinow",
          "Joachimsthal",
          "Liebenwalde",
          "Liepe",
          "Lunow-Stolzenhagen",
          "Marienwerder",
          "Melchow",
          "Niederfinow",
          "Oderberg",
          "Panketal",
          "Parsteinsee",
          "Rüdnitz",
          "Schorfheide",
          "Sydower Fließ",
          "Templin",
          "Wandlitz",
          "Werneuchen",
          "Ziethen"
         ],
         "xaxis": "x",
         "y": [
          605.77,
          17.75,
          905.895,
          166.53,
          7.1,
          38.64,
          123.25,
          353.5,
          33.71,
          7.5,
          55.28,
          5.1,
          27.26,
          17.93,
          72.51,
          59.3,
          11.1,
          7.5,
          869.21,
          18.9,
          10.6,
          344.97,
          58.48,
          2.25,
          796.76,
          187.62,
          14.799999999999999
         ],
         "yaxis": "y"
        },
        {
         "alignmentgroup": "True",
         "hovertemplate": "variable=Wind<br>ort=%{x}<br>value=%{y}<extra></extra>",
         "legendgroup": "Wind",
         "marker": {
          "color": "#00cc96",
          "pattern": {
           "shape": ""
          }
         },
         "name": "Wind",
         "offsetgroup": "Wind",
         "orientation": "v",
         "showlegend": true,
         "textposition": "auto",
         "type": "bar",
         "x": [
          "Ahrensfelde",
          "Althüttendorf",
          "Bernau",
          "Biesenthal",
          "Breydin",
          "Britz",
          "Chorin",
          "Eberswalde",
          "Friedrichswalde",
          "Hohenfinow",
          "Joachimsthal",
          "Liebenwalde",
          "Liepe",
          "Lunow-Stolzenhagen",
          "Marienwerder",
          "Melchow",
          "Niederfinow",
          "Oderberg",
          "Panketal",
          "Parsteinsee",
          "Rüdnitz",
          "Schorfheide",
          "Sydower Fließ",
          "Templin",
          "Wandlitz",
          "Werneuchen",
          "Ziethen"
         ],
         "xaxis": "x",
         "y": [
          50060,
          null,
          72975,
          3450,
          21000,
          1000,
          null,
          null,
          null,
          null,
          null,
          null,
          null,
          600,
          null,
          null,
          null,
          null,
          null,
          27604.6,
          4950,
          7400,
          69000,
          2200,
          32830,
          54225,
          null
         ],
         "yaxis": "y"
        },
        {
         "alignmentgroup": "True",
         "hovertemplate": "variable=Erdgas<br>ort=%{x}<br>value=%{y}<extra></extra>",
         "legendgroup": "Erdgas",
         "marker": {
          "color": "#ab63fa",
          "pattern": {
           "shape": ""
          }
         },
         "name": "Erdgas",
         "offsetgroup": "Erdgas",
         "orientation": "v",
         "showlegend": true,
         "textposition": "auto",
         "type": "bar",
         "x": [
          "Ahrensfelde",
          "Althüttendorf",
          "Bernau",
          "Biesenthal",
          "Breydin",
          "Britz",
          "Chorin",
          "Eberswalde",
          "Friedrichswalde",
          "Hohenfinow",
          "Joachimsthal",
          "Liebenwalde",
          "Liepe",
          "Lunow-Stolzenhagen",
          "Marienwerder",
          "Melchow",
          "Niederfinow",
          "Oderberg",
          "Panketal",
          "Parsteinsee",
          "Rüdnitz",
          "Schorfheide",
          "Sydower Fließ",
          "Templin",
          "Wandlitz",
          "Werneuchen",
          "Ziethen"
         ],
         "xaxis": "x",
         "y": [
          153293.65,
          null,
          8312.85,
          24,
          null,
          null,
          20.75,
          3344.49,
          null,
          null,
          18.75,
          null,
          null,
          null,
          6.5,
          null,
          null,
          15,
          57.75,
          1.75,
          null,
          899.7,
          null,
          20,
          1639.2,
          34.28,
          null
         ],
         "yaxis": "y"
        },
        {
         "alignmentgroup": "True",
         "hovertemplate": "variable=Biomasse<br>ort=%{x}<br>value=%{y}<extra></extra>",
         "legendgroup": "Biomasse",
         "marker": {
          "color": "#FFA15A",
          "pattern": {
           "shape": ""
          }
         },
         "name": "Biomasse",
         "offsetgroup": "Biomasse",
         "orientation": "v",
         "showlegend": true,
         "textposition": "auto",
         "type": "bar",
         "x": [
          "Ahrensfelde",
          "Althüttendorf",
          "Bernau",
          "Biesenthal",
          "Breydin",
          "Britz",
          "Chorin",
          "Eberswalde",
          "Friedrichswalde",
          "Hohenfinow",
          "Joachimsthal",
          "Liebenwalde",
          "Liepe",
          "Lunow-Stolzenhagen",
          "Marienwerder",
          "Melchow",
          "Niederfinow",
          "Oderberg",
          "Panketal",
          "Parsteinsee",
          "Rüdnitz",
          "Schorfheide",
          "Sydower Fließ",
          "Templin",
          "Wandlitz",
          "Werneuchen",
          "Ziethen"
         ],
         "xaxis": "x",
         "y": [
          null,
          null,
          600,
          null,
          null,
          null,
          75,
          21249,
          null,
          556,
          null,
          537,
          null,
          null,
          null,
          null,
          null,
          null,
          1887,
          null,
          600,
          1302,
          null,
          549,
          835,
          610,
          null
         ],
         "yaxis": "y"
        },
        {
         "alignmentgroup": "True",
         "hovertemplate": "variable=andere Gase<br>ort=%{x}<br>value=%{y}<extra></extra>",
         "legendgroup": "andere Gase",
         "marker": {
          "color": "#19d3f3",
          "pattern": {
           "shape": ""
          }
         },
         "name": "andere Gase",
         "offsetgroup": "andere Gase",
         "orientation": "v",
         "showlegend": true,
         "textposition": "auto",
         "type": "bar",
         "x": [
          "Ahrensfelde",
          "Althüttendorf",
          "Bernau",
          "Biesenthal",
          "Breydin",
          "Britz",
          "Chorin",
          "Eberswalde",
          "Friedrichswalde",
          "Hohenfinow",
          "Joachimsthal",
          "Liebenwalde",
          "Liepe",
          "Lunow-Stolzenhagen",
          "Marienwerder",
          "Melchow",
          "Niederfinow",
          "Oderberg",
          "Panketal",
          "Parsteinsee",
          "Rüdnitz",
          "Schorfheide",
          "Sydower Fließ",
          "Templin",
          "Wandlitz",
          "Werneuchen",
          "Ziethen"
         ],
         "xaxis": "x",
         "y": [
          null,
          null,
          15,
          null,
          null,
          null,
          null,
          2150,
          null,
          null,
          null,
          null,
          null,
          null,
          null,
          null,
          null,
          null,
          null,
          null,
          null,
          null,
          null,
          null,
          936,
          null,
          null
         ],
         "yaxis": "y"
        },
        {
         "alignmentgroup": "True",
         "hovertemplate": "variable=Mineralölprodukte<br>ort=%{x}<br>value=%{y}<extra></extra>",
         "legendgroup": "Mineralölprodukte",
         "marker": {
          "color": "#FF6692",
          "pattern": {
           "shape": ""
          }
         },
         "name": "Mineralölprodukte",
         "offsetgroup": "Mineralölprodukte",
         "orientation": "v",
         "showlegend": true,
         "textposition": "auto",
         "type": "bar",
         "x": [
          "Ahrensfelde",
          "Althüttendorf",
          "Bernau",
          "Biesenthal",
          "Breydin",
          "Britz",
          "Chorin",
          "Eberswalde",
          "Friedrichswalde",
          "Hohenfinow",
          "Joachimsthal",
          "Liebenwalde",
          "Liepe",
          "Lunow-Stolzenhagen",
          "Marienwerder",
          "Melchow",
          "Niederfinow",
          "Oderberg",
          "Panketal",
          "Parsteinsee",
          "Rüdnitz",
          "Schorfheide",
          "Sydower Fließ",
          "Templin",
          "Wandlitz",
          "Werneuchen",
          "Ziethen"
         ],
         "xaxis": "x",
         "y": [
          null,
          null,
          null,
          null,
          null,
          null,
          null,
          1080,
          null,
          null,
          null,
          null,
          null,
          null,
          null,
          null,
          null,
          null,
          null,
          null,
          null,
          null,
          null,
          null,
          null,
          null,
          null
         ],
         "yaxis": "y"
        },
        {
         "alignmentgroup": "True",
         "hovertemplate": "variable=Wasser<br>ort=%{x}<br>value=%{y}<extra></extra>",
         "legendgroup": "Wasser",
         "marker": {
          "color": "#B6E880",
          "pattern": {
           "shape": ""
          }
         },
         "name": "Wasser",
         "offsetgroup": "Wasser",
         "orientation": "v",
         "showlegend": true,
         "textposition": "auto",
         "type": "bar",
         "x": [
          "Ahrensfelde",
          "Althüttendorf",
          "Bernau",
          "Biesenthal",
          "Breydin",
          "Britz",
          "Chorin",
          "Eberswalde",
          "Friedrichswalde",
          "Hohenfinow",
          "Joachimsthal",
          "Liebenwalde",
          "Liepe",
          "Lunow-Stolzenhagen",
          "Marienwerder",
          "Melchow",
          "Niederfinow",
          "Oderberg",
          "Panketal",
          "Parsteinsee",
          "Rüdnitz",
          "Schorfheide",
          "Sydower Fließ",
          "Templin",
          "Wandlitz",
          "Werneuchen",
          "Ziethen"
         ],
         "xaxis": "x",
         "y": [
          null,
          null,
          null,
          null,
          null,
          null,
          null,
          null,
          null,
          null,
          null,
          270,
          65,
          null,
          null,
          null,
          91.84,
          null,
          null,
          null,
          null,
          30,
          null,
          null,
          null,
          null,
          null
         ],
         "yaxis": "y"
        }
       ],
       "layout": {
        "barmode": "relative",
        "legend": {
         "title": {
          "text": "variable"
         },
         "tracegroupgap": 0
        },
        "template": {
         "data": {
          "bar": [
           {
            "error_x": {
             "color": "#2a3f5f"
            },
            "error_y": {
             "color": "#2a3f5f"
            },
            "marker": {
             "line": {
              "color": "#E5ECF6",
              "width": 0.5
             },
             "pattern": {
              "fillmode": "overlay",
              "size": 10,
              "solidity": 0.2
             }
            },
            "type": "bar"
           }
          ],
          "barpolar": [
           {
            "marker": {
             "line": {
              "color": "#E5ECF6",
              "width": 0.5
             },
             "pattern": {
              "fillmode": "overlay",
              "size": 10,
              "solidity": 0.2
             }
            },
            "type": "barpolar"
           }
          ],
          "carpet": [
           {
            "aaxis": {
             "endlinecolor": "#2a3f5f",
             "gridcolor": "white",
             "linecolor": "white",
             "minorgridcolor": "white",
             "startlinecolor": "#2a3f5f"
            },
            "baxis": {
             "endlinecolor": "#2a3f5f",
             "gridcolor": "white",
             "linecolor": "white",
             "minorgridcolor": "white",
             "startlinecolor": "#2a3f5f"
            },
            "type": "carpet"
           }
          ],
          "choropleth": [
           {
            "colorbar": {
             "outlinewidth": 0,
             "ticks": ""
            },
            "type": "choropleth"
           }
          ],
          "contour": [
           {
            "colorbar": {
             "outlinewidth": 0,
             "ticks": ""
            },
            "colorscale": [
             [
              0,
              "#0d0887"
             ],
             [
              0.1111111111111111,
              "#46039f"
             ],
             [
              0.2222222222222222,
              "#7201a8"
             ],
             [
              0.3333333333333333,
              "#9c179e"
             ],
             [
              0.4444444444444444,
              "#bd3786"
             ],
             [
              0.5555555555555556,
              "#d8576b"
             ],
             [
              0.6666666666666666,
              "#ed7953"
             ],
             [
              0.7777777777777778,
              "#fb9f3a"
             ],
             [
              0.8888888888888888,
              "#fdca26"
             ],
             [
              1,
              "#f0f921"
             ]
            ],
            "type": "contour"
           }
          ],
          "contourcarpet": [
           {
            "colorbar": {
             "outlinewidth": 0,
             "ticks": ""
            },
            "type": "contourcarpet"
           }
          ],
          "heatmap": [
           {
            "colorbar": {
             "outlinewidth": 0,
             "ticks": ""
            },
            "colorscale": [
             [
              0,
              "#0d0887"
             ],
             [
              0.1111111111111111,
              "#46039f"
             ],
             [
              0.2222222222222222,
              "#7201a8"
             ],
             [
              0.3333333333333333,
              "#9c179e"
             ],
             [
              0.4444444444444444,
              "#bd3786"
             ],
             [
              0.5555555555555556,
              "#d8576b"
             ],
             [
              0.6666666666666666,
              "#ed7953"
             ],
             [
              0.7777777777777778,
              "#fb9f3a"
             ],
             [
              0.8888888888888888,
              "#fdca26"
             ],
             [
              1,
              "#f0f921"
             ]
            ],
            "type": "heatmap"
           }
          ],
          "heatmapgl": [
           {
            "colorbar": {
             "outlinewidth": 0,
             "ticks": ""
            },
            "colorscale": [
             [
              0,
              "#0d0887"
             ],
             [
              0.1111111111111111,
              "#46039f"
             ],
             [
              0.2222222222222222,
              "#7201a8"
             ],
             [
              0.3333333333333333,
              "#9c179e"
             ],
             [
              0.4444444444444444,
              "#bd3786"
             ],
             [
              0.5555555555555556,
              "#d8576b"
             ],
             [
              0.6666666666666666,
              "#ed7953"
             ],
             [
              0.7777777777777778,
              "#fb9f3a"
             ],
             [
              0.8888888888888888,
              "#fdca26"
             ],
             [
              1,
              "#f0f921"
             ]
            ],
            "type": "heatmapgl"
           }
          ],
          "histogram": [
           {
            "marker": {
             "pattern": {
              "fillmode": "overlay",
              "size": 10,
              "solidity": 0.2
             }
            },
            "type": "histogram"
           }
          ],
          "histogram2d": [
           {
            "colorbar": {
             "outlinewidth": 0,
             "ticks": ""
            },
            "colorscale": [
             [
              0,
              "#0d0887"
             ],
             [
              0.1111111111111111,
              "#46039f"
             ],
             [
              0.2222222222222222,
              "#7201a8"
             ],
             [
              0.3333333333333333,
              "#9c179e"
             ],
             [
              0.4444444444444444,
              "#bd3786"
             ],
             [
              0.5555555555555556,
              "#d8576b"
             ],
             [
              0.6666666666666666,
              "#ed7953"
             ],
             [
              0.7777777777777778,
              "#fb9f3a"
             ],
             [
              0.8888888888888888,
              "#fdca26"
             ],
             [
              1,
              "#f0f921"
             ]
            ],
            "type": "histogram2d"
           }
          ],
          "histogram2dcontour": [
           {
            "colorbar": {
             "outlinewidth": 0,
             "ticks": ""
            },
            "colorscale": [
             [
              0,
              "#0d0887"
             ],
             [
              0.1111111111111111,
              "#46039f"
             ],
             [
              0.2222222222222222,
              "#7201a8"
             ],
             [
              0.3333333333333333,
              "#9c179e"
             ],
             [
              0.4444444444444444,
              "#bd3786"
             ],
             [
              0.5555555555555556,
              "#d8576b"
             ],
             [
              0.6666666666666666,
              "#ed7953"
             ],
             [
              0.7777777777777778,
              "#fb9f3a"
             ],
             [
              0.8888888888888888,
              "#fdca26"
             ],
             [
              1,
              "#f0f921"
             ]
            ],
            "type": "histogram2dcontour"
           }
          ],
          "mesh3d": [
           {
            "colorbar": {
             "outlinewidth": 0,
             "ticks": ""
            },
            "type": "mesh3d"
           }
          ],
          "parcoords": [
           {
            "line": {
             "colorbar": {
              "outlinewidth": 0,
              "ticks": ""
             }
            },
            "type": "parcoords"
           }
          ],
          "pie": [
           {
            "automargin": true,
            "type": "pie"
           }
          ],
          "scatter": [
           {
            "marker": {
             "colorbar": {
              "outlinewidth": 0,
              "ticks": ""
             }
            },
            "type": "scatter"
           }
          ],
          "scatter3d": [
           {
            "line": {
             "colorbar": {
              "outlinewidth": 0,
              "ticks": ""
             }
            },
            "marker": {
             "colorbar": {
              "outlinewidth": 0,
              "ticks": ""
             }
            },
            "type": "scatter3d"
           }
          ],
          "scattercarpet": [
           {
            "marker": {
             "colorbar": {
              "outlinewidth": 0,
              "ticks": ""
             }
            },
            "type": "scattercarpet"
           }
          ],
          "scattergeo": [
           {
            "marker": {
             "colorbar": {
              "outlinewidth": 0,
              "ticks": ""
             }
            },
            "type": "scattergeo"
           }
          ],
          "scattergl": [
           {
            "marker": {
             "colorbar": {
              "outlinewidth": 0,
              "ticks": ""
             }
            },
            "type": "scattergl"
           }
          ],
          "scattermapbox": [
           {
            "marker": {
             "colorbar": {
              "outlinewidth": 0,
              "ticks": ""
             }
            },
            "type": "scattermapbox"
           }
          ],
          "scatterpolar": [
           {
            "marker": {
             "colorbar": {
              "outlinewidth": 0,
              "ticks": ""
             }
            },
            "type": "scatterpolar"
           }
          ],
          "scatterpolargl": [
           {
            "marker": {
             "colorbar": {
              "outlinewidth": 0,
              "ticks": ""
             }
            },
            "type": "scatterpolargl"
           }
          ],
          "scatterternary": [
           {
            "marker": {
             "colorbar": {
              "outlinewidth": 0,
              "ticks": ""
             }
            },
            "type": "scatterternary"
           }
          ],
          "surface": [
           {
            "colorbar": {
             "outlinewidth": 0,
             "ticks": ""
            },
            "colorscale": [
             [
              0,
              "#0d0887"
             ],
             [
              0.1111111111111111,
              "#46039f"
             ],
             [
              0.2222222222222222,
              "#7201a8"
             ],
             [
              0.3333333333333333,
              "#9c179e"
             ],
             [
              0.4444444444444444,
              "#bd3786"
             ],
             [
              0.5555555555555556,
              "#d8576b"
             ],
             [
              0.6666666666666666,
              "#ed7953"
             ],
             [
              0.7777777777777778,
              "#fb9f3a"
             ],
             [
              0.8888888888888888,
              "#fdca26"
             ],
             [
              1,
              "#f0f921"
             ]
            ],
            "type": "surface"
           }
          ],
          "table": [
           {
            "cells": {
             "fill": {
              "color": "#EBF0F8"
             },
             "line": {
              "color": "white"
             }
            },
            "header": {
             "fill": {
              "color": "#C8D4E3"
             },
             "line": {
              "color": "white"
             }
            },
            "type": "table"
           }
          ]
         },
         "layout": {
          "annotationdefaults": {
           "arrowcolor": "#2a3f5f",
           "arrowhead": 0,
           "arrowwidth": 1
          },
          "autotypenumbers": "strict",
          "coloraxis": {
           "colorbar": {
            "outlinewidth": 0,
            "ticks": ""
           }
          },
          "colorscale": {
           "diverging": [
            [
             0,
             "#8e0152"
            ],
            [
             0.1,
             "#c51b7d"
            ],
            [
             0.2,
             "#de77ae"
            ],
            [
             0.3,
             "#f1b6da"
            ],
            [
             0.4,
             "#fde0ef"
            ],
            [
             0.5,
             "#f7f7f7"
            ],
            [
             0.6,
             "#e6f5d0"
            ],
            [
             0.7,
             "#b8e186"
            ],
            [
             0.8,
             "#7fbc41"
            ],
            [
             0.9,
             "#4d9221"
            ],
            [
             1,
             "#276419"
            ]
           ],
           "sequential": [
            [
             0,
             "#0d0887"
            ],
            [
             0.1111111111111111,
             "#46039f"
            ],
            [
             0.2222222222222222,
             "#7201a8"
            ],
            [
             0.3333333333333333,
             "#9c179e"
            ],
            [
             0.4444444444444444,
             "#bd3786"
            ],
            [
             0.5555555555555556,
             "#d8576b"
            ],
            [
             0.6666666666666666,
             "#ed7953"
            ],
            [
             0.7777777777777778,
             "#fb9f3a"
            ],
            [
             0.8888888888888888,
             "#fdca26"
            ],
            [
             1,
             "#f0f921"
            ]
           ],
           "sequentialminus": [
            [
             0,
             "#0d0887"
            ],
            [
             0.1111111111111111,
             "#46039f"
            ],
            [
             0.2222222222222222,
             "#7201a8"
            ],
            [
             0.3333333333333333,
             "#9c179e"
            ],
            [
             0.4444444444444444,
             "#bd3786"
            ],
            [
             0.5555555555555556,
             "#d8576b"
            ],
            [
             0.6666666666666666,
             "#ed7953"
            ],
            [
             0.7777777777777778,
             "#fb9f3a"
            ],
            [
             0.8888888888888888,
             "#fdca26"
            ],
            [
             1,
             "#f0f921"
            ]
           ]
          },
          "colorway": [
           "#636efa",
           "#EF553B",
           "#00cc96",
           "#ab63fa",
           "#FFA15A",
           "#19d3f3",
           "#FF6692",
           "#B6E880",
           "#FF97FF",
           "#FECB52"
          ],
          "font": {
           "color": "#2a3f5f"
          },
          "geo": {
           "bgcolor": "white",
           "lakecolor": "white",
           "landcolor": "#E5ECF6",
           "showlakes": true,
           "showland": true,
           "subunitcolor": "white"
          },
          "hoverlabel": {
           "align": "left"
          },
          "hovermode": "closest",
          "mapbox": {
           "style": "light"
          },
          "paper_bgcolor": "white",
          "plot_bgcolor": "#E5ECF6",
          "polar": {
           "angularaxis": {
            "gridcolor": "white",
            "linecolor": "white",
            "ticks": ""
           },
           "bgcolor": "#E5ECF6",
           "radialaxis": {
            "gridcolor": "white",
            "linecolor": "white",
            "ticks": ""
           }
          },
          "scene": {
           "xaxis": {
            "backgroundcolor": "#E5ECF6",
            "gridcolor": "white",
            "gridwidth": 2,
            "linecolor": "white",
            "showbackground": true,
            "ticks": "",
            "zerolinecolor": "white"
           },
           "yaxis": {
            "backgroundcolor": "#E5ECF6",
            "gridcolor": "white",
            "gridwidth": 2,
            "linecolor": "white",
            "showbackground": true,
            "ticks": "",
            "zerolinecolor": "white"
           },
           "zaxis": {
            "backgroundcolor": "#E5ECF6",
            "gridcolor": "white",
            "gridwidth": 2,
            "linecolor": "white",
            "showbackground": true,
            "ticks": "",
            "zerolinecolor": "white"
           }
          },
          "shapedefaults": {
           "line": {
            "color": "#2a3f5f"
           }
          },
          "ternary": {
           "aaxis": {
            "gridcolor": "white",
            "linecolor": "white",
            "ticks": ""
           },
           "baxis": {
            "gridcolor": "white",
            "linecolor": "white",
            "ticks": ""
           },
           "bgcolor": "#E5ECF6",
           "caxis": {
            "gridcolor": "white",
            "linecolor": "white",
            "ticks": ""
           }
          },
          "title": {
           "x": 0.05
          },
          "xaxis": {
           "automargin": true,
           "gridcolor": "white",
           "linecolor": "white",
           "ticks": "",
           "title": {
            "standoff": 15
           },
           "zerolinecolor": "white",
           "zerolinewidth": 2
          },
          "yaxis": {
           "automargin": true,
           "gridcolor": "white",
           "linecolor": "white",
           "ticks": "",
           "title": {
            "standoff": 15
           },
           "zerolinecolor": "white",
           "zerolinewidth": 2
          }
         }
        },
        "title": {
         "text": "Energy Production per Category in Barnim"
        },
        "xaxis": {
         "anchor": "y",
         "domain": [
          0,
          1
         ],
         "title": {
          "text": "ort"
         }
        },
        "yaxis": {
         "anchor": "x",
         "domain": [
          0,
          1
         ],
         "title": {
          "text": "value"
         }
        }
       }
      }
     },
     "metadata": {},
     "output_type": "display_data"
    }
   ],
   "source": [
    "fig = px.bar(pivot_table_df, x=\"ort\", y=['Solare Strahlungsenergie','Speicher','Wind','Erdgas','Biomasse','andere Gase','Mineralölprodukte','Wasser'], title=\"Energy Production per Category in Barnim\")\n",
    "fig.show()"
   ]
  }
 ],
 "metadata": {
  "interpreter": {
   "hash": "aee8b7b246df8f9039afb4144a1f6fd8d2ca17a180786b69acc140d282b71a49"
  },
  "kernelspec": {
   "display_name": "Python 3.9.8 64-bit",
   "language": "python",
   "name": "python3"
  },
  "language_info": {
   "codemirror_mode": {
    "name": "ipython",
    "version": 3
   },
   "file_extension": ".py",
   "mimetype": "text/x-python",
   "name": "python",
   "nbconvert_exporter": "python",
   "pygments_lexer": "ipython3",
   "version": "3.9.8"
  },
  "orig_nbformat": 4
 },
 "nbformat": 4,
 "nbformat_minor": 2
}
