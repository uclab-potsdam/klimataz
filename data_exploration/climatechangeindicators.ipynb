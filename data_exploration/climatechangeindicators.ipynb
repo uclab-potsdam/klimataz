{
 "cells": [
  {
   "cell_type": "code",
   "execution_count": 32,
   "metadata": {},
   "outputs": [
    {
     "name": "stdout",
     "output_type": "stream",
     "text": [
      "None\n"
     ]
    }
   ],
   "source": [
    "import pandas as pd\n",
    "\n",
    "def load_dataset_barnim(rcp,period):\n",
    "    path = \"data/gerics_klimaausblick/GERICS_Klimaausblick_Landkreise_rcp\" + str(rcp) + \"_\" + period + \".csv\"\n",
    "\n",
    "    df = pd.read_csv(path, delimiter=';')\n",
    "    #only in barnim\n",
    "    #df = df[df[\"Landkreis Name\"] == \"Barnim\"]\n",
    "\n",
    "    df[\"RCP\"] = rcp\n",
    "    df[\"Period\"] = period\n",
    "\n",
    "df2 = load_dataset_barnim(45,\"2036-2065\")\n",
    "\n",
    "\n",
    "#dfs = [load_dataset_barnim(26,\"2036-2065\"),load_dataset_barnim(45,\"2036-2065\"),load_dataset_barnim(85,\"2036-2065\")]\n",
    "#load_dataset_barnim(26,\"2067-2089\"),load_dataset_barnim(45,\"2067-2089\"),load_dataset_barnim(85,\"2067-2089\")]\n",
    "#df\n",
    "print(df2)"
   ]
  }
 ],
 "metadata": {
  "interpreter": {
   "hash": "31f2aee4e71d21fbe5cf8b01ff0e069b9275f58929596ceb00d14d90e3e16cd6"
  },
  "kernelspec": {
   "display_name": "Python 3.8.9 64-bit",
   "language": "python",
   "name": "python3"
  },
  "language_info": {
   "codemirror_mode": {
    "name": "ipython",
    "version": 3
   },
   "file_extension": ".py",
   "mimetype": "text/x-python",
   "name": "python",
   "nbconvert_exporter": "python",
   "pygments_lexer": "ipython3",
   "version": "3.8.9"
  },
  "orig_nbformat": 4
 },
 "nbformat": 4,
 "nbformat_minor": 2
}
