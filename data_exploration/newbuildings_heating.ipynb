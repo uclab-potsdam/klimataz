{
 "cells": [
  {
   "cell_type": "code",
   "execution_count": 1,
   "metadata": {},
   "outputs": [],
   "source": [
    "import pandas as pd\n",
    "\n",
    "#INCAR data from bbsr\n",
    "#https://www.inkar.de\n",
    "#Vor allem: Anteil Fertiggestellte Wohnungen / Wohngebäude mit erneuerbarer Heizenergie, 2017-2019\n",
    "\n",
    "#convert pandas series from German number format (1.000,5) to python number format (1000.5)\n",
    "def make_column_numeric(se):\n",
    "    se = se.str.replace('.','',regex=True)\n",
    "    se = se.str.replace(',','.',regex=True)\n",
    "    se = pd.to_numeric(se)\n",
    "    return se\n",
    "\n",
    "#read dataset\n",
    "df = pd.read_csv(\"data/incar.csv\", delimiter=';', header=[0,1])\n",
    "df.columns = df.columns.map('_'.join)\n",
    "\n",
    "#rename unnamed headers\n",
    "df.rename({\"Kennziffer_Unnamed: 0_level_1\": \"Kennziffer\",\"Raumeinheit_Unnamed: 1_level_1\":\"Raumeinheit\",\"Aggregat_Unnamed: 2_level_1\":\"Aggregated\"}, axis=1,inplace=True)\n",
    "\n",
    "#calculate neubauwohnungen total and neubauwohnungen renewable total\n",
    "years = [\"2018\",\"2019\"]\n",
    "for year in years:\n",
    "    #make columns numerics\n",
    "    neubau_einwohner = \"Neubauwohnungen je Einwohner_\" + str(year)\n",
    "    einwohner = 'Bevölkerung gesamt_' + str(year)\n",
    "    neubauwohnungen_renewable_anteil = \"Fertiggestellte Wohnungen mit erneuerbarer Heizenergie_\" + str(year)\n",
    "    neubauwohngebäude_renewable_anteil = \"Fertiggestellte Wohngebäude mit erneuerbarer Heizenergie_\" + str(year)\n",
    "    \n",
    "    df[neubau_einwohner] = make_column_numeric(df[neubau_einwohner]) \n",
    "    df[einwohner] = make_column_numeric(df[einwohner]) \n",
    "    df[neubauwohnungen_renewable_anteil] = make_column_numeric(df[neubauwohnungen_renewable_anteil]) / 100\n",
    "    df[neubauwohngebäude_renewable_anteil] = make_column_numeric(df[neubauwohngebäude_renewable_anteil]) / 100\n",
    "\n",
    "    #Neubauwohnungen = Neubauwohnungen je Einwohner * Einwohner \n",
    "    neubau = \"neubauwohnungen_\" + str(year)\n",
    "    df[neubau] = df[neubau_einwohner] *  df[einwohner]\n",
    "\n",
    "    #Neubauwohnungen renewable = Neubauwognungen * Anteil Renewalbe\n",
    "    #Wohnungen vs. Wohngebäude: aus Dokumentation: \"Im Gegensatz zum Indikator Fertiggestellte Wohngebäude mit erneuerbarer Heizenergie werden hier \n",
    "    #Errichtungen von Wohnungen in Mehrfamilienhäusern gegenüber Ein- und Zweifamilienhäuser stärker gewichtet.\" Bei Wohngebäuden wäre ein Mehrfamilienhaus\n",
    "    #genausoviel wert wie ein Einfamilienhaus\n",
    "    neubauwohnungen_renewable =  \"neubauwohnungen_erneuerbareheiz_\" + str(year)\n",
    "    df[neubauwohnungen_renewable] = df[neubau] *  df[neubauwohnungen_renewable_anteil]\n",
    "\n",
    "    neubauwohngebäude_renewable =  \"neubauwohngebäude_erneuerbareheiz_\" + str(year)\n",
    "    df[neubauwohngebäude_renewable] = df[neubau] *  df[neubauwohngebäude_renewable_anteil]\n",
    "\n",
    "df.to_csv(\"data/incar_output.csv\")\n"
   ]
  },
  {
   "cell_type": "code",
   "execution_count": 81,
   "metadata": {},
   "outputs": [],
   "source": [
    "#https://www-genesis.destatis.de/genesis/online#astructure\n",
    "#Baufertigstellungen neuer Gebäude: Deutschland, Jahre, Gebäudeart, Energieverwendung, Energieart\n",
    "#von 2014 - 2021, auf Deutschlandebene\n",
    "\n",
    "import plotly.graph_objects as go\n",
    "import numpy as np\n",
    "\n",
    "df2_org = pd.read_csv(\"data/newbuildings_germany.csv\",delimiter=\";\", encoding='latin1')\n",
    "\n",
    "def plot_energy_for_building_type(building_type):\n",
    "    \n",
    "    df2 = df2_org.copy()\n",
    "\n",
    "    #Nur den Typ des Gebäudes auswählen\n",
    "    df2 = df2.loc[df2[\"2_Auspraegung_Label\"] == building_type]\n",
    "\n",
    "    #Nur Zum Heizen verwendete Primärenergie\n",
    "    df2 = df2.loc[df2[\"3_Auspraegung_Code\"] == \"ENR-HZG-PRM-01\"]\n",
    "\n",
    "    df2.rename({\"Zeit\": \"year\",\"BAU005__Neue_Gebaeude__Anzahl\":\"buildings\",\"4_Auspraegung_Label\":\"energy\"}, axis=1,inplace=True)\n",
    "\n",
    "    #make building number numeric\n",
    "    df2[\"buildings\"] = df2[\"buildings\"].str.replace('-','0',regex=True)\n",
    "    df2[\"buildings\"] = df2[\"buildings\"].str.replace('.','0',regex=True)\n",
    "    df2[\"buildings\"] = pd.to_numeric(df2[\"buildings\"])\n",
    "\n",
    "\n",
    "    #pivot table\n",
    "    pivot = pd.pivot_table(df2, index='year',columns='energy', values='buildings',aggfunc=np.sum)\n",
    "    pivot = pivot.reset_index(level=0)\n",
    "\n",
    "    #create plot\n",
    "    colors = px.colors.qualitative.Plotly\n",
    "    fig = go.Figure()\n",
    "\n",
    "    fig.add_traces(go.Scatter(x=pivot['year'], y = pivot[\"Gas\"], mode = 'lines', line=dict(color=colors[0]),name=\"Gas\"))\n",
    "    fig.add_traces(go.Scatter(x=pivot['year'], y = pivot[\"Öl\"], mode = 'lines', line=dict(color=colors[1]),name=\"Öl\"))\n",
    "    fig.add_traces(go.Scatter(x=pivot['year'], y = pivot[\"Strom\"], mode = 'lines', line=dict(color=colors[2]),name=\"Strom\"))\n",
    "    fig.add_traces(go.Scatter(x=pivot['year'], y = pivot[\"Fernwärme/Fernkälte\"], mode = 'lines', line=dict(color=colors[3]),name=\"Fernwärme/Fernkälte\"))\n",
    "    fig.add_traces(go.Scatter(x=pivot['year'], y = pivot[\"Holz\"], mode = 'lines', line=dict(color=colors[4]),name=\"Holz\"))\n",
    "    fig.add_traces(go.Scatter(x=pivot['year'], y = pivot[\"Umweltthermie\"], mode = 'lines', line=dict(color=colors[5]),name=\"Umweltthermie\"))\n",
    "    fig.add_traces(go.Scatter(x=pivot['year'], y = pivot[\"Biogas/Biomethan\"], mode = 'lines', line=dict(color=colors[6]),name=\"Biogas/Biomethan\"))\n",
    "    fig.add_traces(go.Scatter(x=pivot['year'], y = pivot[\"Geothermie\"], mode = 'lines', line=dict(color=colors[7]),name=\"Geothermie\"))\n",
    "    fig.add_traces(go.Scatter(x=pivot['year'], y = pivot[\"Solarthermie\"], mode = 'lines', line=dict(color=colors[8]),name=\"Solarthermie\"))\n",
    "    fig.add_traces(go.Scatter(x=pivot['year'], y = pivot[\"Sonstige Energie\"], mode = 'lines', line=dict(color=colors[9]),name=\"Sonstige Energie\"))\n",
    "    fig.add_traces(go.Scatter(x=pivot['year'], y = pivot[\"Sonstige Biomasse\"], mode = 'lines', line=dict(color=colors[0]),name=\"Sonstige Biomasse\"))\n",
    "    fig.add_traces(go.Scatter(x=pivot['year'], y = pivot[\"Keine Energie\"], mode = 'lines', line=dict(color=colors[1]),name=\"Keine Energie\"))\n",
    "\n",
    "    fig.show()\n"
   ]
  },
  {
   "cell_type": "code",
   "execution_count": 82,
   "metadata": {},
   "outputs": [
    {
     "name": "stdout",
     "output_type": "stream",
     "text": [
      "['Wohngebäude' 'Wohngebäude mit 1 Wohnung' 'Wohngebäude mit 2 Wohnungen'\n",
      " 'Wohngebäude mit 3 oder mehr Wohnungen' 'Wohnheime'\n",
      " 'Wohngebäude mit Eigentumswohnungen' 'Nichtwohngebäude' 'Anstaltsgebäude'\n",
      " 'Büro- und Verwaltungsgebäude' 'Landwirtschaftliche Betriebsgebäude'\n",
      " 'Nichtlandwirtschaftliche Betriebsgebäude' 'Fabrik- und Werkstattgebäude'\n",
      " 'Handelsgebäude' 'Warenlagergebäude' 'Hotels und Gaststätten'\n",
      " 'Sonstige Nichtwohngebäude' 'Ausgewählte Infrastrukturgebäude']\n"
     ]
    },
    {
     "data": {
      "application/vnd.plotly.v1+json": {
       "config": {
        "plotlyServerURL": "https://plot.ly"
       },
       "data": [
        {
         "line": {
          "color": "#636EFA"
         },
         "mode": "lines",
         "name": "Gas",
         "type": "scatter",
         "x": [
          2014,
          2015,
          2016,
          2017,
          2018,
          2019,
          2020,
          2021
         ],
         "y": [
          55269,
          54419,
          58232,
          52145,
          46409,
          45313,
          44037,
          35306
         ]
        },
        {
         "line": {
          "color": "#EF553B"
         },
         "mode": "lines",
         "name": "Öl",
         "type": "scatter",
         "x": [
          2014,
          2015,
          2016,
          2017,
          2018,
          2019,
          2020,
          2021
         ],
         "y": [
          1344,
          1195,
          1102,
          1076,
          959,
          935,
          776,
          611
         ]
        },
        {
         "line": {
          "color": "#00CC96"
         },
         "mode": "lines",
         "name": "Strom",
         "type": "scatter",
         "x": [
          2014,
          2015,
          2016,
          2017,
          2018,
          2019,
          2020,
          2021
         ],
         "y": [
          1009,
          990,
          946,
          938,
          1073,
          1307,
          1606,
          1640
         ]
        },
        {
         "line": {
          "color": "#AB63FA"
         },
         "mode": "lines",
         "name": "Fernwärme/Fernkälte",
         "type": "scatter",
         "x": [
          2014,
          2015,
          2016,
          2017,
          2018,
          2019,
          2020,
          2021
         ],
         "y": [
          8604,
          8271,
          7812,
          7785,
          7987,
          8564,
          9053,
          8266
         ]
        },
        {
         "line": {
          "color": "#FFA15A"
         },
         "mode": "lines",
         "name": "Holz",
         "type": "scatter",
         "x": [
          2014,
          2015,
          2016,
          2017,
          2018,
          2019,
          2020,
          2021
         ],
         "y": [
          6020,
          5825,
          5115,
          5425,
          5245,
          4296,
          4205,
          3706
         ]
        },
        {
         "line": {
          "color": "#19D3F3"
         },
         "mode": "lines",
         "name": "Umweltthermie",
         "type": "scatter",
         "x": [
          2014,
          2015,
          2016,
          2017,
          2018,
          2019,
          2020,
          2021
         ],
         "y": [
          25788,
          25642,
          27537,
          33143,
          35998,
          37985,
          43208,
          43520
         ]
        },
        {
         "line": {
          "color": "#FF6692"
         },
         "mode": "lines",
         "name": "Biogas/Biomethan",
         "type": "scatter",
         "x": [
          2014,
          2015,
          2016,
          2017,
          2018,
          2019,
          2020,
          2021
         ],
         "y": [
          206,
          233,
          278,
          308,
          288,
          228,
          261,
          202
         ]
        },
        {
         "line": {
          "color": "#B6E880"
         },
         "mode": "lines",
         "name": "Geothermie",
         "type": "scatter",
         "x": [
          2014,
          2015,
          2016,
          2017,
          2018,
          2019,
          2020,
          2021
         ],
         "y": [
          8847,
          7477,
          7482,
          7800,
          8168,
          8212,
          8478,
          8536
         ]
        },
        {
         "line": {
          "color": "#FF97FF"
         },
         "mode": "lines",
         "name": "Solarthermie",
         "type": "scatter",
         "x": [
          2014,
          2015,
          2016,
          2017,
          2018,
          2019,
          2020,
          2021
         ],
         "y": [
          670,
          586,
          600,
          649,
          697,
          600,
          624,
          582
         ]
        },
        {
         "line": {
          "color": "#FECB52"
         },
         "mode": "lines",
         "name": "Sonstige Energie",
         "type": "scatter",
         "x": [
          2014,
          2015,
          2016,
          2017,
          2018,
          2019,
          2020,
          2021
         ],
         "y": [
          568,
          419,
          389,
          326,
          367,
          286,
          281,
          319
         ]
        },
        {
         "line": {
          "color": "#636EFA"
         },
         "mode": "lines",
         "name": "Sonstige Biomasse",
         "type": "scatter",
         "x": [
          2014,
          2015,
          2016,
          2017,
          2018,
          2019,
          2020,
          2021
         ],
         "y": [
          367,
          344,
          384,
          350,
          288,
          251,
          295,
          184
         ]
        },
        {
         "line": {
          "color": "#EF553B"
         },
         "mode": "lines",
         "name": "Keine Energie",
         "type": "scatter",
         "x": [
          2014,
          2015,
          2016,
          2017,
          2018,
          2019,
          2020,
          2021
         ],
         "y": [
          216,
          167,
          113,
          106,
          102,
          94,
          111,
          83
         ]
        }
       ],
       "layout": {
        "template": {
         "data": {
          "bar": [
           {
            "error_x": {
             "color": "#2a3f5f"
            },
            "error_y": {
             "color": "#2a3f5f"
            },
            "marker": {
             "line": {
              "color": "#E5ECF6",
              "width": 0.5
             },
             "pattern": {
              "fillmode": "overlay",
              "size": 10,
              "solidity": 0.2
             }
            },
            "type": "bar"
           }
          ],
          "barpolar": [
           {
            "marker": {
             "line": {
              "color": "#E5ECF6",
              "width": 0.5
             },
             "pattern": {
              "fillmode": "overlay",
              "size": 10,
              "solidity": 0.2
             }
            },
            "type": "barpolar"
           }
          ],
          "carpet": [
           {
            "aaxis": {
             "endlinecolor": "#2a3f5f",
             "gridcolor": "white",
             "linecolor": "white",
             "minorgridcolor": "white",
             "startlinecolor": "#2a3f5f"
            },
            "baxis": {
             "endlinecolor": "#2a3f5f",
             "gridcolor": "white",
             "linecolor": "white",
             "minorgridcolor": "white",
             "startlinecolor": "#2a3f5f"
            },
            "type": "carpet"
           }
          ],
          "choropleth": [
           {
            "colorbar": {
             "outlinewidth": 0,
             "ticks": ""
            },
            "type": "choropleth"
           }
          ],
          "contour": [
           {
            "colorbar": {
             "outlinewidth": 0,
             "ticks": ""
            },
            "colorscale": [
             [
              0,
              "#0d0887"
             ],
             [
              0.1111111111111111,
              "#46039f"
             ],
             [
              0.2222222222222222,
              "#7201a8"
             ],
             [
              0.3333333333333333,
              "#9c179e"
             ],
             [
              0.4444444444444444,
              "#bd3786"
             ],
             [
              0.5555555555555556,
              "#d8576b"
             ],
             [
              0.6666666666666666,
              "#ed7953"
             ],
             [
              0.7777777777777778,
              "#fb9f3a"
             ],
             [
              0.8888888888888888,
              "#fdca26"
             ],
             [
              1,
              "#f0f921"
             ]
            ],
            "type": "contour"
           }
          ],
          "contourcarpet": [
           {
            "colorbar": {
             "outlinewidth": 0,
             "ticks": ""
            },
            "type": "contourcarpet"
           }
          ],
          "heatmap": [
           {
            "colorbar": {
             "outlinewidth": 0,
             "ticks": ""
            },
            "colorscale": [
             [
              0,
              "#0d0887"
             ],
             [
              0.1111111111111111,
              "#46039f"
             ],
             [
              0.2222222222222222,
              "#7201a8"
             ],
             [
              0.3333333333333333,
              "#9c179e"
             ],
             [
              0.4444444444444444,
              "#bd3786"
             ],
             [
              0.5555555555555556,
              "#d8576b"
             ],
             [
              0.6666666666666666,
              "#ed7953"
             ],
             [
              0.7777777777777778,
              "#fb9f3a"
             ],
             [
              0.8888888888888888,
              "#fdca26"
             ],
             [
              1,
              "#f0f921"
             ]
            ],
            "type": "heatmap"
           }
          ],
          "heatmapgl": [
           {
            "colorbar": {
             "outlinewidth": 0,
             "ticks": ""
            },
            "colorscale": [
             [
              0,
              "#0d0887"
             ],
             [
              0.1111111111111111,
              "#46039f"
             ],
             [
              0.2222222222222222,
              "#7201a8"
             ],
             [
              0.3333333333333333,
              "#9c179e"
             ],
             [
              0.4444444444444444,
              "#bd3786"
             ],
             [
              0.5555555555555556,
              "#d8576b"
             ],
             [
              0.6666666666666666,
              "#ed7953"
             ],
             [
              0.7777777777777778,
              "#fb9f3a"
             ],
             [
              0.8888888888888888,
              "#fdca26"
             ],
             [
              1,
              "#f0f921"
             ]
            ],
            "type": "heatmapgl"
           }
          ],
          "histogram": [
           {
            "marker": {
             "pattern": {
              "fillmode": "overlay",
              "size": 10,
              "solidity": 0.2
             }
            },
            "type": "histogram"
           }
          ],
          "histogram2d": [
           {
            "colorbar": {
             "outlinewidth": 0,
             "ticks": ""
            },
            "colorscale": [
             [
              0,
              "#0d0887"
             ],
             [
              0.1111111111111111,
              "#46039f"
             ],
             [
              0.2222222222222222,
              "#7201a8"
             ],
             [
              0.3333333333333333,
              "#9c179e"
             ],
             [
              0.4444444444444444,
              "#bd3786"
             ],
             [
              0.5555555555555556,
              "#d8576b"
             ],
             [
              0.6666666666666666,
              "#ed7953"
             ],
             [
              0.7777777777777778,
              "#fb9f3a"
             ],
             [
              0.8888888888888888,
              "#fdca26"
             ],
             [
              1,
              "#f0f921"
             ]
            ],
            "type": "histogram2d"
           }
          ],
          "histogram2dcontour": [
           {
            "colorbar": {
             "outlinewidth": 0,
             "ticks": ""
            },
            "colorscale": [
             [
              0,
              "#0d0887"
             ],
             [
              0.1111111111111111,
              "#46039f"
             ],
             [
              0.2222222222222222,
              "#7201a8"
             ],
             [
              0.3333333333333333,
              "#9c179e"
             ],
             [
              0.4444444444444444,
              "#bd3786"
             ],
             [
              0.5555555555555556,
              "#d8576b"
             ],
             [
              0.6666666666666666,
              "#ed7953"
             ],
             [
              0.7777777777777778,
              "#fb9f3a"
             ],
             [
              0.8888888888888888,
              "#fdca26"
             ],
             [
              1,
              "#f0f921"
             ]
            ],
            "type": "histogram2dcontour"
           }
          ],
          "mesh3d": [
           {
            "colorbar": {
             "outlinewidth": 0,
             "ticks": ""
            },
            "type": "mesh3d"
           }
          ],
          "parcoords": [
           {
            "line": {
             "colorbar": {
              "outlinewidth": 0,
              "ticks": ""
             }
            },
            "type": "parcoords"
           }
          ],
          "pie": [
           {
            "automargin": true,
            "type": "pie"
           }
          ],
          "scatter": [
           {
            "fillpattern": {
             "fillmode": "overlay",
             "size": 10,
             "solidity": 0.2
            },
            "type": "scatter"
           }
          ],
          "scatter3d": [
           {
            "line": {
             "colorbar": {
              "outlinewidth": 0,
              "ticks": ""
             }
            },
            "marker": {
             "colorbar": {
              "outlinewidth": 0,
              "ticks": ""
             }
            },
            "type": "scatter3d"
           }
          ],
          "scattercarpet": [
           {
            "marker": {
             "colorbar": {
              "outlinewidth": 0,
              "ticks": ""
             }
            },
            "type": "scattercarpet"
           }
          ],
          "scattergeo": [
           {
            "marker": {
             "colorbar": {
              "outlinewidth": 0,
              "ticks": ""
             }
            },
            "type": "scattergeo"
           }
          ],
          "scattergl": [
           {
            "marker": {
             "colorbar": {
              "outlinewidth": 0,
              "ticks": ""
             }
            },
            "type": "scattergl"
           }
          ],
          "scattermapbox": [
           {
            "marker": {
             "colorbar": {
              "outlinewidth": 0,
              "ticks": ""
             }
            },
            "type": "scattermapbox"
           }
          ],
          "scatterpolar": [
           {
            "marker": {
             "colorbar": {
              "outlinewidth": 0,
              "ticks": ""
             }
            },
            "type": "scatterpolar"
           }
          ],
          "scatterpolargl": [
           {
            "marker": {
             "colorbar": {
              "outlinewidth": 0,
              "ticks": ""
             }
            },
            "type": "scatterpolargl"
           }
          ],
          "scatterternary": [
           {
            "marker": {
             "colorbar": {
              "outlinewidth": 0,
              "ticks": ""
             }
            },
            "type": "scatterternary"
           }
          ],
          "surface": [
           {
            "colorbar": {
             "outlinewidth": 0,
             "ticks": ""
            },
            "colorscale": [
             [
              0,
              "#0d0887"
             ],
             [
              0.1111111111111111,
              "#46039f"
             ],
             [
              0.2222222222222222,
              "#7201a8"
             ],
             [
              0.3333333333333333,
              "#9c179e"
             ],
             [
              0.4444444444444444,
              "#bd3786"
             ],
             [
              0.5555555555555556,
              "#d8576b"
             ],
             [
              0.6666666666666666,
              "#ed7953"
             ],
             [
              0.7777777777777778,
              "#fb9f3a"
             ],
             [
              0.8888888888888888,
              "#fdca26"
             ],
             [
              1,
              "#f0f921"
             ]
            ],
            "type": "surface"
           }
          ],
          "table": [
           {
            "cells": {
             "fill": {
              "color": "#EBF0F8"
             },
             "line": {
              "color": "white"
             }
            },
            "header": {
             "fill": {
              "color": "#C8D4E3"
             },
             "line": {
              "color": "white"
             }
            },
            "type": "table"
           }
          ]
         },
         "layout": {
          "annotationdefaults": {
           "arrowcolor": "#2a3f5f",
           "arrowhead": 0,
           "arrowwidth": 1
          },
          "autotypenumbers": "strict",
          "coloraxis": {
           "colorbar": {
            "outlinewidth": 0,
            "ticks": ""
           }
          },
          "colorscale": {
           "diverging": [
            [
             0,
             "#8e0152"
            ],
            [
             0.1,
             "#c51b7d"
            ],
            [
             0.2,
             "#de77ae"
            ],
            [
             0.3,
             "#f1b6da"
            ],
            [
             0.4,
             "#fde0ef"
            ],
            [
             0.5,
             "#f7f7f7"
            ],
            [
             0.6,
             "#e6f5d0"
            ],
            [
             0.7,
             "#b8e186"
            ],
            [
             0.8,
             "#7fbc41"
            ],
            [
             0.9,
             "#4d9221"
            ],
            [
             1,
             "#276419"
            ]
           ],
           "sequential": [
            [
             0,
             "#0d0887"
            ],
            [
             0.1111111111111111,
             "#46039f"
            ],
            [
             0.2222222222222222,
             "#7201a8"
            ],
            [
             0.3333333333333333,
             "#9c179e"
            ],
            [
             0.4444444444444444,
             "#bd3786"
            ],
            [
             0.5555555555555556,
             "#d8576b"
            ],
            [
             0.6666666666666666,
             "#ed7953"
            ],
            [
             0.7777777777777778,
             "#fb9f3a"
            ],
            [
             0.8888888888888888,
             "#fdca26"
            ],
            [
             1,
             "#f0f921"
            ]
           ],
           "sequentialminus": [
            [
             0,
             "#0d0887"
            ],
            [
             0.1111111111111111,
             "#46039f"
            ],
            [
             0.2222222222222222,
             "#7201a8"
            ],
            [
             0.3333333333333333,
             "#9c179e"
            ],
            [
             0.4444444444444444,
             "#bd3786"
            ],
            [
             0.5555555555555556,
             "#d8576b"
            ],
            [
             0.6666666666666666,
             "#ed7953"
            ],
            [
             0.7777777777777778,
             "#fb9f3a"
            ],
            [
             0.8888888888888888,
             "#fdca26"
            ],
            [
             1,
             "#f0f921"
            ]
           ]
          },
          "colorway": [
           "#636efa",
           "#EF553B",
           "#00cc96",
           "#ab63fa",
           "#FFA15A",
           "#19d3f3",
           "#FF6692",
           "#B6E880",
           "#FF97FF",
           "#FECB52"
          ],
          "font": {
           "color": "#2a3f5f"
          },
          "geo": {
           "bgcolor": "white",
           "lakecolor": "white",
           "landcolor": "#E5ECF6",
           "showlakes": true,
           "showland": true,
           "subunitcolor": "white"
          },
          "hoverlabel": {
           "align": "left"
          },
          "hovermode": "closest",
          "mapbox": {
           "style": "light"
          },
          "paper_bgcolor": "white",
          "plot_bgcolor": "#E5ECF6",
          "polar": {
           "angularaxis": {
            "gridcolor": "white",
            "linecolor": "white",
            "ticks": ""
           },
           "bgcolor": "#E5ECF6",
           "radialaxis": {
            "gridcolor": "white",
            "linecolor": "white",
            "ticks": ""
           }
          },
          "scene": {
           "xaxis": {
            "backgroundcolor": "#E5ECF6",
            "gridcolor": "white",
            "gridwidth": 2,
            "linecolor": "white",
            "showbackground": true,
            "ticks": "",
            "zerolinecolor": "white"
           },
           "yaxis": {
            "backgroundcolor": "#E5ECF6",
            "gridcolor": "white",
            "gridwidth": 2,
            "linecolor": "white",
            "showbackground": true,
            "ticks": "",
            "zerolinecolor": "white"
           },
           "zaxis": {
            "backgroundcolor": "#E5ECF6",
            "gridcolor": "white",
            "gridwidth": 2,
            "linecolor": "white",
            "showbackground": true,
            "ticks": "",
            "zerolinecolor": "white"
           }
          },
          "shapedefaults": {
           "line": {
            "color": "#2a3f5f"
           }
          },
          "ternary": {
           "aaxis": {
            "gridcolor": "white",
            "linecolor": "white",
            "ticks": ""
           },
           "baxis": {
            "gridcolor": "white",
            "linecolor": "white",
            "ticks": ""
           },
           "bgcolor": "#E5ECF6",
           "caxis": {
            "gridcolor": "white",
            "linecolor": "white",
            "ticks": ""
           }
          },
          "title": {
           "x": 0.05
          },
          "xaxis": {
           "automargin": true,
           "gridcolor": "white",
           "linecolor": "white",
           "ticks": "",
           "title": {
            "standoff": 15
           },
           "zerolinecolor": "white",
           "zerolinewidth": 2
          },
          "yaxis": {
           "automargin": true,
           "gridcolor": "white",
           "linecolor": "white",
           "ticks": "",
           "title": {
            "standoff": 15
           },
           "zerolinecolor": "white",
           "zerolinewidth": 2
          }
         }
        }
       }
      }
     },
     "metadata": {},
     "output_type": "display_data"
    }
   ],
   "source": [
    "##choose on of those labels\n",
    "print(df2_org[\"2_Auspraegung_Label\"].unique())\n",
    "\n",
    "#and plot\n",
    "plot_energy_for_building_type(\"Wohngebäude\")"
   ]
  }
 ],
 "metadata": {
  "interpreter": {
   "hash": "b0fa6594d8f4cbf19f97940f81e996739fb7646882a419484c72d19e05852a7e"
  },
  "kernelspec": {
   "display_name": "Python 3.9.13 64-bit",
   "language": "python",
   "name": "python3"
  },
  "language_info": {
   "codemirror_mode": {
    "name": "ipython",
    "version": 3
   },
   "file_extension": ".py",
   "mimetype": "text/x-python",
   "name": "python",
   "nbconvert_exporter": "python",
   "pygments_lexer": "ipython3",
   "version": "3.9.13"
  },
  "orig_nbformat": 4
 },
 "nbformat": 4,
 "nbformat_minor": 2
}
