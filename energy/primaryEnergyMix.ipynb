{
 "cells": [
  {
   "cell_type": "code",
   "execution_count": null,
   "metadata": {},
   "outputs": [],
   "source": [
    "import pandas as pd\n",
    "\n",
    "df = pd.read_csv(\"data/lak_primary_energy.csv\")\n",
    "#df.fillna(0,inplace=True)\n",
    "print(df.columns)\n",
    "df.drop(columns=[\"Anteil Erneuerbarer Energieträger an der Strom erzeugung\",\"Anteil Erneuerbarer Energieträger am Brutto stromver brauch\"],inplace=True)\n",
    "df.rename({'Anteil Erneuerbarer Energieträger am Primär energie verbrauch':\"share_renewables_primary_energy_consumption\"},axis=1,inplace=True)\n",
    "\n",
    "df.to_csv(\"data/lak_primary_energy_longformat.csv\")\n",
    "df\n",
    "\n",
    "pivot = df.pivot(index=\"Land\",columns=\"Jahr\",values=\"share_renewables_primary_energy_consumption\").reset_index(level=0)\n",
    "pivot.to_csv(\"data/lak_primary_energy_wideformat.csv\")\n",
    "pivot"
   ]
  }
 ],
 "metadata": {
  "kernelspec": {
   "display_name": "Python 3.9.13 64-bit",
   "language": "python",
   "name": "python3"
  },
  "language_info": {
   "codemirror_mode": {
    "name": "ipython",
    "version": 3
   },
   "file_extension": ".py",
   "mimetype": "text/x-python",
   "name": "python",
   "nbconvert_exporter": "python",
   "pygments_lexer": "ipython3",
   "version": "3.9.13"
  },
  "orig_nbformat": 4,
  "vscode": {
   "interpreter": {
    "hash": "b0fa6594d8f4cbf19f97940f81e996739fb7646882a419484c72d19e05852a7e"
   }
  }
 },
 "nbformat": 4,
 "nbformat_minor": 2
}
