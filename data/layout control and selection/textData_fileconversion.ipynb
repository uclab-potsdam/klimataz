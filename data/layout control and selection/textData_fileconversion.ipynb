{
 "cells": [
  {
   "cell_type": "code",
   "execution_count": 1,
   "metadata": {},
   "outputs": [
    {
     "data": {
      "text/html": [
       "<div>\n",
       "<style scoped>\n",
       "    .dataframe tbody tr th:only-of-type {\n",
       "        vertical-align: middle;\n",
       "    }\n",
       "\n",
       "    .dataframe tbody tr th {\n",
       "        vertical-align: top;\n",
       "    }\n",
       "\n",
       "    .dataframe thead th {\n",
       "        text-align: right;\n",
       "    }\n",
       "</style>\n",
       "<table border=\"1\" class=\"dataframe\">\n",
       "  <thead>\n",
       "    <tr style=\"text-align: right;\">\n",
       "      <th></th>\n",
       "      <th>,AGS,Name,gerics_text,energy_third,energy_postcard,mobility_third,mobility_postcard,agriculture_third,agriculture_postcard,buildings_third,buildings_postcard,building_postcards,waste_third,waste_postcard</th>\n",
       "    </tr>\n",
       "  </thead>\n",
       "  <tbody>\n",
       "    <tr>\n",
       "      <th>0</th>\n",
       "      <td>0,0,Deutschland,\"Hallo!</td>\n",
       "    </tr>\n",
       "    <tr>\n",
       "      <th>1</th>\n",
       "      <td>Ich schicke dir GrÃ¼Ãe aus dem</td>\n",
       "    </tr>\n",
       "    <tr>\n",
       "      <th>2</th>\n",
       "      <td>schÃ¶nen &lt;span className='location-name'&gt;D...</td>\n",
       "    </tr>\n",
       "    <tr>\n",
       "      <th>3</th>\n",
       "      <td>Derzeit wird es hier an durchschnittlich &lt;...</td>\n",
       "    </tr>\n",
       "    <tr>\n",
       "      <th>4</th>\n",
       "      <td>im Jahr Ã¼ber 30 Grad, aber wenn wir so we...</td>\n",
       "    </tr>\n",
       "    <tr>\n",
       "      <th>...</th>\n",
       "      <td>...</td>\n",
       "    </tr>\n",
       "    <tr>\n",
       "      <th>23757</th>\n",
       "      <td>&lt;span className=\"\"gerics-data\"\"&gt;10.2&lt;/span...</td>\n",
       "    </tr>\n",
       "    <tr>\n",
       "      <th>23758</th>\n",
       "      <td>&lt;span className=\"\"gerics-data\"\"&gt;73 Prozent...</td>\n",
       "    </tr>\n",
       "    <tr>\n",
       "      <th>23759</th>\n",
       "      <td>In &lt;span className='location-name'&gt;Altenburger...</td>\n",
       "    </tr>\n",
       "    <tr>\n",
       "      <th>23760</th>\n",
       "      <td>Schon jetzt vermeidet der Bereich Abfall mehr ...</td>\n",
       "    </tr>\n",
       "    <tr>\n",
       "      <th>23761</th>\n",
       "      <td>Viele GrÃ¼Ãe!\"</td>\n",
       "    </tr>\n",
       "  </tbody>\n",
       "</table>\n",
       "<p>23762 rows × 1 columns</p>\n",
       "</div>"
      ],
      "text/plain": [
       "      ,AGS,Name,gerics_text,energy_third,energy_postcard,mobility_third,mobility_postcard,agriculture_third,agriculture_postcard,buildings_third,buildings_postcard,building_postcards,waste_third,waste_postcard\n",
       "0                                0,0,Deutschland,\"Hallo!                                                                                                                                                         \n",
       "1                       Ich schicke dir GrÃ¼Ãe aus dem                                                                                                                                                          \n",
       "2          schÃ¶nen <span className='location-name'>D...                                                                                                                                                         \n",
       "3          Derzeit wird es hier an durchschnittlich <...                                                                                                                                                         \n",
       "4          im Jahr Ã¼ber 30 Grad, aber wenn wir so we...                                                                                                                                                         \n",
       "...                                                  ...                                                                                                                                                         \n",
       "23757      <span className=\"\"gerics-data\"\">10.2</span...                                                                                                                                                         \n",
       "23758      <span className=\"\"gerics-data\"\">73 Prozent...                                                                                                                                                         \n",
       "23759  In <span className='location-name'>Altenburger...                                                                                                                                                         \n",
       "23760  Schon jetzt vermeidet der Bereich Abfall mehr ...                                                                                                                                                         \n",
       "23761                                    Viele GrÃ¼Ãe!\"                                                                                                                                                         \n",
       "\n",
       "[23762 rows x 1 columns]"
      ]
     },
     "execution_count": 1,
     "metadata": {},
     "output_type": "execute_result"
    }
   ],
   "source": [
    "#convert taz text file into json\n",
    "\n",
    "import pandas as pd;\n",
    "\n",
    "df = pd.read_csv(\"textData.csv\",encoding=\"latin1\")\n",
    "df"
   ]
  }
 ],
 "metadata": {
  "kernelspec": {
   "display_name": "Python 3.9.13 64-bit",
   "language": "python",
   "name": "python3"
  },
  "language_info": {
   "codemirror_mode": {
    "name": "ipython",
    "version": 3
   },
   "file_extension": ".py",
   "mimetype": "text/x-python",
   "name": "python",
   "nbconvert_exporter": "python",
   "pygments_lexer": "ipython3",
   "version": "3.9.13"
  },
  "orig_nbformat": 4,
  "vscode": {
   "interpreter": {
    "hash": "b0fa6594d8f4cbf19f97940f81e996739fb7646882a419484c72d19e05852a7e"
   }
  }
 },
 "nbformat": 4,
 "nbformat_minor": 2
}
