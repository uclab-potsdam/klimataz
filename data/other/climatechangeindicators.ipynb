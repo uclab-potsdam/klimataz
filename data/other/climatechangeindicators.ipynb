{
 "cells": [
  {
   "cell_type": "code",
   "execution_count": null,
   "metadata": {},
   "outputs": [],
   "source": [
    "import pandas as pd\n",
    "\n",
    "def load_dataset_barnim(rcp,period):\n",
    "    path = \"gerics/gerics_original_data/GERICS_Klimaausblick_Landkreise_rcp\" + str(rcp) + \"_\" + period + \".csv\"\n",
    "\n",
    "    df = pd.read_csv(path, delimiter=';')\n",
    "    #only in barnim\n",
    "    df = df[df[\"Landkreis Name\"] == \"Barnim\"]\n",
    "\n",
    "    df[\"RCP\"] = rcp\n",
    "    df[\"Period\"] = period\n",
    "    df[\"Reference\"] = 0.0\n",
    "    return df\n",
    "\n",
    "#df2 = load_dataset_barnim(85,\"2036-2065\")\n",
    "\n",
    "\n",
    "frames = [load_dataset_barnim(26,\"2036-2065\"),load_dataset_barnim(45,\"2036-2065\"),load_dataset_barnim(85,\"2036-2065\"),\n",
    "load_dataset_barnim(26,\"2069-2098\"),load_dataset_barnim(45,\"2069-2098\"),load_dataset_barnim(85,\"2069-2098\")]\n",
    "\n",
    "barnim = pd.concat(frames)\n",
    "barnim.to_csv(\"gerics/gerics_klimaausblick_barnim.csv\")\n"
   ]
  },
  {
   "cell_type": "code",
   "execution_count": null,
   "metadata": {},
   "outputs": [],
   "source": [
    "df_org = pd.read_csv(\"data/gerics_klimaausblick_barnim.csv\")\n",
    "df_org"
   ]
  },
  {
   "cell_type": "code",
   "execution_count": null,
   "metadata": {},
   "outputs": [],
   "source": [
    "df = df_org.copy()\n",
    "print(df.Klimakennwert.unique())\n",
    "df = df[df[\"Period\"] == \"2036-2065\"]\n",
    "df = df[df[\"RCP\"] == 45]\n",
    "df = df[df[\"Jahreszeit\"] == \"ganzes Jahr\"]\n",
    "\n",
    "sommerwerte = [\"Maximale Dauer von Hitzeperioden\",\"Tropische Nächte\",\"Sommertage\",\"Heiße Tage\",\"Schwüle Tage\",\"Tage mit Niederschlag > 20 mm/Tag\",\"Klimatische Wasserbilanz\"]\n",
    "df = df[df[\"Klimakennwert\"].isin(sommerwerte)]\n",
    "\n",
    "df[\"prozentuale Änderung\"] = df[\"Median der Änderungen\"] / df [\"HYRAS Beobachtungen 1971-2000\"] * 100\n",
    "df[\"beobachtung und änderung\"] = df[\"Median der Änderungen\"] + df [\"HYRAS Beobachtungen 1971-2000\"]\n",
    "\n",
    "df[[\"Klimakennwert\",\"Jahreszeit\",\"Median der Änderungen\",\"Minimum\",\"Maximum\",\"HYRAS Beobachtungen 1971-2000\",\"prozentuale Änderung\",\"beobachtung und änderung\"]]\n",
    "#df.to_csv(\"data/gerics_klimaausblick_barnim_sommer.csv\")\n",
    "#df"
   ]
  }
 ],
 "metadata": {
  "interpreter": {
   "hash": "31f2aee4e71d21fbe5cf8b01ff0e069b9275f58929596ceb00d14d90e3e16cd6"
  },
  "kernelspec": {
   "display_name": "Python 3.8.9 64-bit",
   "language": "python",
   "name": "python3"
  },
  "language_info": {
   "codemirror_mode": {
    "name": "ipython",
    "version": 3
   },
   "file_extension": ".py",
   "mimetype": "text/x-python",
   "name": "python",
   "nbconvert_exporter": "python",
   "pygments_lexer": "ipython3",
   "version": "3.8.9"
  },
  "orig_nbformat": 4
 },
 "nbformat": 4,
 "nbformat_minor": 2
}
